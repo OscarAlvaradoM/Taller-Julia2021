{
 "cells": [
  {
   "cell_type": "markdown",
   "id": "reasonable-ideal",
   "metadata": {},
   "source": [
    "# La paz nunca fue una opción"
   ]
  },
  {
   "cell_type": "code",
   "execution_count": 17,
   "id": "growing-david",
   "metadata": {},
   "outputs": [],
   "source": [
    "using Plots\n",
    "using CSV\n",
    "using DataFrames"
   ]
  },
  {
   "cell_type": "code",
   "execution_count": 8,
   "id": "norman-representative",
   "metadata": {},
   "outputs": [
    {
     "data": {
      "text/html": [
       "<table class=\"data-frame\"><thead><tr><th></th><th>Participante</th><th>Tareas completadas</th></tr><tr><th></th><th>String</th><th>Int64</th></tr></thead><tbody><p>5 rows × 2 columns</p><tr><th>1</th><td>Vlad</td><td>3</td></tr><tr><th>2</th><td>Adrián</td><td>1</td></tr><tr><th>3</th><td>Alejandro</td><td>0</td></tr><tr><th>4</th><td>Saúl</td><td>0</td></tr><tr><th>5</th><td>Karim</td><td>0</td></tr></tbody></table>"
      ],
      "text/latex": [
       "\\begin{tabular}{r|cc}\n",
       "\t& Participante & Tareas completadas\\\\\n",
       "\t\\hline\n",
       "\t& String & Int64\\\\\n",
       "\t\\hline\n",
       "\t1 & Vlad & 3 \\\\\n",
       "\t2 & Adrián & 1 \\\\\n",
       "\t3 & Alejandro & 0 \\\\\n",
       "\t4 & Saúl & 0 \\\\\n",
       "\t5 & Karim & 0 \\\\\n",
       "\\end{tabular}\n"
      ],
      "text/plain": [
       "5×2 DataFrame\n",
       "│ Row │ Participante │ Tareas completadas │\n",
       "│     │ \u001b[90mString\u001b[39m       │ \u001b[90mInt64\u001b[39m              │\n",
       "├─────┼──────────────┼────────────────────┤\n",
       "│ 1   │ Vlad         │ 3                  │\n",
       "│ 2   │ Adrián       │ 1                  │\n",
       "│ 3   │ Alejandro    │ 0                  │\n",
       "│ 4   │ Saúl         │ 0                  │\n",
       "│ 5   │ Karim        │ 0                  │"
      ]
     },
     "execution_count": 8,
     "metadata": {},
     "output_type": "execute_result"
    }
   ],
   "source": [
    "puntuaciones = CSV.read(\"puntuaciones.csv\", DataFrame)"
   ]
  },
  {
   "cell_type": "code",
   "execution_count": 43,
   "id": "sustainable-diagnosis",
   "metadata": {},
   "outputs": [],
   "source": [
    "x = puntuaciones[:,1]\n",
    "y = puntuaciones[:,2]\n",
    "scatter(x, y, markersize = y*10, c = [:purple, :blue, :green, :yellow, :orange],\n",
    "        alpha = [0.5, 0.5, 0.5, 0.5, 0.5], legend = false)\n",
    "title!(\"Puntuaciones en tareas\")\n",
    "savefig(\"Puntuaciones.png\")"
   ]
  },
  {
   "cell_type": "code",
   "execution_count": null,
   "id": "informal-manufacturer",
   "metadata": {},
   "outputs": [],
   "source": []
  }
 ],
 "metadata": {
  "kernelspec": {
   "display_name": "Julia 1.5.3",
   "language": "julia",
   "name": "julia-1.5"
  },
  "language_info": {
   "file_extension": ".jl",
   "mimetype": "application/julia",
   "name": "julia",
   "version": "1.5.3"
  }
 },
 "nbformat": 4,
 "nbformat_minor": 5
}
