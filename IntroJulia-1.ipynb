{
 "cells": [
  {
   "cell_type": "markdown",
   "metadata": {},
   "source": [
    "# Introducción a Julia - Parte 1"
   ]
  },
  {
   "cell_type": "markdown",
   "metadata": {},
   "source": [
    "Julia lo puedes descargar desde https://julialang.org\n",
    "\n",
    "La versión más estable es la v1.5.3."
   ]
  },
  {
   "cell_type": "markdown",
   "metadata": {},
   "source": [
    "## ¿Realmente necesitamos aprender otro lenguaje?"
   ]
  },
  {
   "cell_type": "markdown",
   "metadata": {},
   "source": [
    "### ¿Por qué elegí Julia para este curso?"
   ]
  },
  {
   "cell_type": "markdown",
   "metadata": {},
   "source": [
    "### Ventajas de Julia\n",
    "\n",
    "- Es interpretado\n",
    "- Es un lenguaje de alto nivel, fácil de aprender\n",
    "- Diseñado para que sea sencillo desde el comienzo\n",
    "- Es veloz (~2-3 x la velocidad de C)\n",
    "- Tiene un sofisticado sistema de tipos de datos\n",
    "- Sin embargo no es necesario hablar de tipos siempre\n",
    "- Tiene _despacho múltiple_ de funciones especializado en el tipo de sus argumentos\n",
    "- Tiene un sofisticado empleo de _metaprogramación_(macros) para la generación de código\n",
    "- La mayoría de las bibliotecas están implementadas en Julia puro\n",
    "- Evita el proble del segundo lenguaje: Python, R, Matlab son fáciles de aprender y se logran desarrollos rápidos, sin embargo tienen ejecuciones lentas, entonces es necesario cambiar ciertas partes del código a C, C++ o Fortran\n",
    "- Los propios usuarios de Julia son sus desarrolladores"
   ]
  },
  {
   "cell_type": "markdown",
   "metadata": {},
   "source": [
    "### Uso de Julia\n",
    "- Desde el REPL (Read-Eval-Print-Loop): `$julia`\n",
    "- Invocando  `IJulia` (Interface de Python interactivo con kernel de Julia): `$ ipython notebook --profile julia`\n",
    "- Dentro de un Ambiente de Desarrollo integrado, por ejemplo LightTable + Jewel, Juno, Jupyter, Julia Studio, JuliaPro, Colab, Pluto"
   ]
  },
  {
   "cell_type": "markdown",
   "metadata": {},
   "source": [
    "### Ayuda de Julia\n",
    "\n",
    "- Documentación de Julia: https://docs.julialang.org/\n",
    "- Libros, blogs, videos y otros recursos en https://julialang.org/learning/\n"
   ]
  },
  {
   "cell_type": "markdown",
   "metadata": {},
   "source": [
    "## Inicio de Julia"
   ]
  },
  {
   "cell_type": "markdown",
   "metadata": {},
   "source": [
    " ### Variables y cálculos aritméticos"
   ]
  },
  {
   "cell_type": "code",
   "execution_count": 1,
   "metadata": {},
   "outputs": [
    {
     "data": {
      "text/plain": [
       "3"
      ]
     },
     "execution_count": 1,
     "metadata": {},
     "output_type": "execute_result"
    }
   ],
   "source": [
    "3"
   ]
  },
  {
   "cell_type": "code",
   "execution_count": 5,
   "metadata": {},
   "outputs": [
    {
     "data": {
      "text/plain": [
       "8"
      ]
     },
     "execution_count": 5,
     "metadata": {},
     "output_type": "execute_result"
    }
   ],
   "source": [
    "3 + 5"
   ]
  },
  {
   "cell_type": "code",
   "execution_count": 6,
   "metadata": {},
   "outputs": [
    {
     "name": "stdout",
     "output_type": "stream",
     "text": [
      "search: \u001b[0m\u001b[1mp\u001b[22m\u001b[0m\u001b[1mw\u001b[22m\u001b[0m\u001b[1md\u001b[22m \u001b[0m\u001b[1mp\u001b[22mo\u001b[0m\u001b[1mw\u001b[22mermo\u001b[0m\u001b[1md\u001b[22m\n",
      "\n"
     ]
    },
    {
     "data": {
      "text/latex": [
       "\\begin{verbatim}\n",
       "pwd() -> AbstractString\n",
       "\\end{verbatim}\n",
       "Get the current working directory.\n",
       "\n",
       "\\section{Examples}\n",
       "\\begin{verbatim}\n",
       "julia> pwd()\n",
       "\"/home/JuliaUser\"\n",
       "\n",
       "julia> cd(\"/home/JuliaUser/Projects/julia\")\n",
       "\n",
       "julia> pwd()\n",
       "\"/home/JuliaUser/Projects/julia\"\n",
       "\\end{verbatim}\n"
      ],
      "text/markdown": [
       "```\n",
       "pwd() -> AbstractString\n",
       "```\n",
       "\n",
       "Get the current working directory.\n",
       "\n",
       "# Examples\n",
       "\n",
       "```julia-repl\n",
       "julia> pwd()\n",
       "\"/home/JuliaUser\"\n",
       "\n",
       "julia> cd(\"/home/JuliaUser/Projects/julia\")\n",
       "\n",
       "julia> pwd()\n",
       "\"/home/JuliaUser/Projects/julia\"\n",
       "```\n"
      ],
      "text/plain": [
       "\u001b[36m  pwd() -> AbstractString\u001b[39m\n",
       "\n",
       "  Get the current working directory.\n",
       "\n",
       "\u001b[1m  Examples\u001b[22m\n",
       "\u001b[1m  ≡≡≡≡≡≡≡≡≡≡\u001b[22m\n",
       "\n",
       "\u001b[36m  julia> pwd()\u001b[39m\n",
       "\u001b[36m  \"/home/JuliaUser\"\u001b[39m\n",
       "\u001b[36m  \u001b[39m\n",
       "\u001b[36m  julia> cd(\"/home/JuliaUser/Projects/julia\")\u001b[39m\n",
       "\u001b[36m  \u001b[39m\n",
       "\u001b[36m  julia> pwd()\u001b[39m\n",
       "\u001b[36m  \"/home/JuliaUser/Projects/julia\"\u001b[39m"
      ]
     },
     "execution_count": 6,
     "metadata": {},
     "output_type": "execute_result"
    }
   ],
   "source": [
    "? pwd # ask for help"
   ]
  },
  {
   "cell_type": "code",
   "execution_count": 7,
   "metadata": {},
   "outputs": [
    {
     "data": {
      "text/plain": [
       "\"/home/oscar/Dropbox/Taller-Julia/Taller\""
      ]
     },
     "execution_count": 7,
     "metadata": {},
     "output_type": "execute_result"
    }
   ],
   "source": [
    "pwd() # shows current working directory"
   ]
  },
  {
   "cell_type": "markdown",
   "metadata": {},
   "source": [
    "`;` camiba al el prompt del shell para ejecutar comandos "
   ]
  },
  {
   "cell_type": "code",
   "execution_count": 9,
   "metadata": {},
   "outputs": [
    {
     "name": "stdout",
     "output_type": "stream",
     "text": [
      "IntroJulia-1.ipynb\n"
     ]
    }
   ],
   "source": [
    "; ls"
   ]
  },
  {
   "cell_type": "code",
   "execution_count": 10,
   "metadata": {},
   "outputs": [
    {
     "data": {
      "text/plain": [
       "3"
      ]
     },
     "execution_count": 10,
     "metadata": {},
     "output_type": "execute_result"
    }
   ],
   "source": [
    "x = 3"
   ]
  },
  {
   "cell_type": "code",
   "execution_count": 13,
   "metadata": {},
   "outputs": [],
   "source": [
    "x = 4;"
   ]
  },
  {
   "cell_type": "markdown",
   "metadata": {},
   "source": [
    "Podemos ingresar en el código notación de Latex, usando sustitución con TAB:  `\\alpha<TAB>`"
   ]
  },
  {
   "cell_type": "code",
   "execution_count": 15,
   "metadata": {},
   "outputs": [
    {
     "data": {
      "text/plain": [
       "20"
      ]
     },
     "execution_count": 15,
     "metadata": {},
     "output_type": "execute_result"
    }
   ],
   "source": [
    "β = 20"
   ]
  },
  {
   "cell_type": "code",
   "execution_count": 16,
   "metadata": {},
   "outputs": [
    {
     "data": {
      "text/plain": [
       "20"
      ]
     },
     "execution_count": 16,
     "metadata": {},
     "output_type": "execute_result"
    }
   ],
   "source": [
    "β"
   ]
  },
  {
   "cell_type": "code",
   "execution_count": 17,
   "metadata": {},
   "outputs": [
    {
     "data": {
      "text/plain": [
       "3"
      ]
     },
     "execution_count": 17,
     "metadata": {},
     "output_type": "execute_result"
    }
   ],
   "source": [
    "α = 3"
   ]
  },
  {
   "cell_type": "code",
   "execution_count": 18,
   "metadata": {},
   "outputs": [
    {
     "data": {
      "text/plain": [
       "10"
      ]
     },
     "execution_count": 18,
     "metadata": {},
     "output_type": "execute_result"
    }
   ],
   "source": [
    "ϵ = 10"
   ]
  },
  {
   "cell_type": "code",
   "execution_count": 20,
   "metadata": {},
   "outputs": [
    {
     "name": "stdout",
     "output_type": "stream",
     "text": [
      "α = 3"
     ]
    },
    {
     "data": {
      "text/plain": [
       "20"
      ]
     },
     "execution_count": 20,
     "metadata": {},
     "output_type": "execute_result"
    }
   ],
   "source": [
    "print(\"α = \", α)\n",
    "β"
   ]
  },
  {
   "cell_type": "markdown",
   "metadata": {},
   "source": [
    "Funciones simples puedes ser definidas con una elegante sintaxis matemática; no es necesario usar `*` en expresiones simples:"
   ]
  },
  {
   "cell_type": "code",
   "execution_count": 28,
   "metadata": {},
   "outputs": [
    {
     "data": {
      "text/plain": [
       "400"
      ]
     },
     "execution_count": 28,
     "metadata": {},
     "output_type": "execute_result"
    }
   ],
   "source": [
    "x = 4\n",
    "100x"
   ]
  },
  {
   "cell_type": "code",
   "execution_count": 24,
   "metadata": {},
   "outputs": [
    {
     "data": {
      "text/plain": [
       "f (generic function with 1 method)"
      ]
     },
     "execution_count": 24,
     "metadata": {},
     "output_type": "execute_result"
    }
   ],
   "source": [
    "f(x) = 2x^2 + 3x + 1"
   ]
  },
  {
   "cell_type": "code",
   "execution_count": 22,
   "metadata": {},
   "outputs": [
    {
     "data": {
      "text/plain": [
       "g (generic function with 1 method)"
      ]
     },
     "execution_count": 22,
     "metadata": {},
     "output_type": "execute_result"
    }
   ],
   "source": [
    "g(x) = f(x) - (2x + 1)*(x + 1)"
   ]
  },
  {
   "cell_type": "code",
   "execution_count": 30,
   "metadata": {},
   "outputs": [
    {
     "data": {
      "text/plain": [
       "28"
      ]
     },
     "execution_count": 30,
     "metadata": {},
     "output_type": "execute_result"
    }
   ],
   "source": [
    "f(3)"
   ]
  },
  {
   "cell_type": "code",
   "execution_count": 31,
   "metadata": {},
   "outputs": [
    {
     "data": {
      "text/plain": [
       "29.520000000000003"
      ]
     },
     "execution_count": 31,
     "metadata": {},
     "output_type": "execute_result"
    }
   ],
   "source": [
    "f(3.1)"
   ]
  },
  {
   "cell_type": "code",
   "execution_count": 32,
   "metadata": {},
   "outputs": [
    {
     "data": {
      "text/plain": [
       "0.0"
      ]
     },
     "execution_count": 32,
     "metadata": {},
     "output_type": "execute_result"
    }
   ],
   "source": [
    "g(3.5)"
   ]
  },
  {
   "cell_type": "markdown",
   "metadata": {},
   "source": [
    "### Sustitución de variables\n",
    "Los valores de las variables pueden ser sustituidos por cadenas de caracteres de una manera sencilla usando el operador `$`"
   ]
  },
  {
   "cell_type": "code",
   "execution_count": 33,
   "metadata": {},
   "outputs": [
    {
     "name": "stdout",
     "output_type": "stream",
     "text": [
      "Hello, Óscar\n"
     ]
    }
   ],
   "source": [
    "name = \"Óscar\"\n",
    "greeting = \"Hello, $name\"\n",
    "println(greeting)"
   ]
  },
  {
   "cell_type": "code",
   "execution_count": 39,
   "metadata": {},
   "outputs": [
    {
     "name": "stdout",
     "output_type": "stream",
     "text": [
      "34"
     ]
    }
   ],
   "source": [
    "print(3)\n",
    "print(4)"
   ]
  },
  {
   "cell_type": "code",
   "execution_count": 38,
   "metadata": {},
   "outputs": [
    {
     "name": "stdout",
     "output_type": "stream",
     "text": [
      "4\n",
      "3\n"
     ]
    }
   ],
   "source": [
    "println(4)\n",
    "println(3)"
   ]
  },
  {
   "cell_type": "code",
   "execution_count": 41,
   "metadata": {},
   "outputs": [
    {
     "name": "stdout",
     "output_type": "stream",
     "text": [
      "The sine of 3 is 1.1411200080598671\n"
     ]
    }
   ],
   "source": [
    "μ = 3\n",
    "println(\"The sine of $μ is $(sin(μ) + 1)\")"
   ]
  },
  {
   "cell_type": "markdown",
   "metadata": {},
   "source": [
    "###  Tipos de datos numéricos\n",
    "\n",
    "Julia contiene tipos numéricos con diferente precisión: al escribir `Float<TAB>` o `Int<TAB>` resultara en una lista desplegable de tipos a elegir. Actualmente el tipo de dato cálculos aritméticos es promovido al tipo de dato de la equipo de cómputo."
   ]
  },
  {
   "cell_type": "code",
   "execution_count": 42,
   "metadata": {},
   "outputs": [
    {
     "data": {
      "text/plain": [
       "Int64"
      ]
     },
     "execution_count": 42,
     "metadata": {},
     "output_type": "execute_result"
    }
   ],
   "source": [
    "Int"
   ]
  },
  {
   "cell_type": "code",
   "execution_count": 49,
   "metadata": {},
   "outputs": [
    {
     "data": {
      "text/plain": [
       "4"
      ]
     },
     "execution_count": 49,
     "metadata": {},
     "output_type": "execute_result"
    }
   ],
   "source": [
    "a = Int8(1)\n",
    "b = Int8(3)\n",
    "a + b"
   ]
  },
  {
   "cell_type": "code",
   "execution_count": 50,
   "metadata": {},
   "outputs": [
    {
     "data": {
      "text/plain": [
       "4"
      ]
     },
     "execution_count": 50,
     "metadata": {},
     "output_type": "execute_result"
    }
   ],
   "source": [
    "ans"
   ]
  },
  {
   "cell_type": "code",
   "execution_count": 55,
   "metadata": {},
   "outputs": [
    {
     "data": {
      "text/plain": [
       "Float64"
      ]
     },
     "execution_count": 55,
     "metadata": {},
     "output_type": "execute_result"
    }
   ],
   "source": [
    "typeof(6.)"
   ]
  },
  {
   "cell_type": "code",
   "execution_count": null,
   "metadata": {},
   "outputs": [],
   "source": [
    "a = Int(1e5)"
   ]
  },
  {
   "cell_type": "code",
   "execution_count": null,
   "metadata": {},
   "outputs": [],
   "source": [
    "typeof(3 * a)"
   ]
  },
  {
   "cell_type": "markdown",
   "metadata": {},
   "source": [
    "### Aritmética de precisión arbitraria\n",
    "Es posible obtener enteros o flotantes de precisión arbitrario por medio de los tipos `BigInt` y `BigFloat`. La función `Big` convierte un número a el correspontiente tipo `Big`."
   ]
  },
  {
   "attachments": {
    "Captura%20de%20pantalla%20de%202021-01-18%2013-51-47.png": {
     "image/png": "[encoded data removed]"
    }
   },
   "cell_type": "markdown",
   "metadata": {},
   "source": [
    "https://docs.julialang.org/en/v1/manual/integers-and-floating-point-numbers/\n",
    "![Captura%20de%20pantalla%20de%202021-01-18%2013-51-47.png](attachment:Captura%20de%20pantalla%20de%202021-01-18%2013-51-47.png)"
   ]
  },
  {
   "cell_type": "code",
   "execution_count": null,
   "metadata": {},
   "outputs": [],
   "source": [
    "big(10)"
   ]
  },
  {
   "cell_type": "code",
   "execution_count": null,
   "metadata": {},
   "outputs": [],
   "source": [
    "typeof(ans)"
   ]
  },
  {
   "cell_type": "code",
   "execution_count": null,
   "metadata": {},
   "outputs": [],
   "source": [
    "10^5"
   ]
  },
  {
   "cell_type": "code",
   "execution_count": null,
   "metadata": {},
   "outputs": [],
   "source": [
    "10^10"
   ]
  },
  {
   "cell_type": "code",
   "execution_count": null,
   "metadata": {},
   "outputs": [],
   "source": [
    "10^15 "
   ]
  },
  {
   "cell_type": "code",
   "execution_count": null,
   "metadata": {},
   "outputs": [],
   "source": [
    "10^19 # error"
   ]
  },
  {
   "cell_type": "code",
   "execution_count": null,
   "metadata": {},
   "outputs": [],
   "source": [
    "bten = big(10)"
   ]
  },
  {
   "cell_type": "code",
   "execution_count": null,
   "metadata": {},
   "outputs": [],
   "source": [
    "bten ^ 19"
   ]
  },
  {
   "cell_type": "code",
   "execution_count": null,
   "metadata": {},
   "outputs": [],
   "source": [
    "typeof(ans)"
   ]
  },
  {
   "cell_type": "code",
   "execution_count": null,
   "metadata": {},
   "outputs": [],
   "source": [
    "typemax(Int64)"
   ]
  },
  {
   "cell_type": "code",
   "execution_count": null,
   "metadata": {},
   "outputs": [],
   "source": [
    "typemin(Int64)"
   ]
  },
  {
   "cell_type": "code",
   "execution_count": 58,
   "metadata": {},
   "outputs": [
    {
     "data": {
      "text/plain": [
       "144"
      ]
     },
     "execution_count": 58,
     "metadata": {},
     "output_type": "execute_result"
    }
   ],
   "source": [
    "3 * 48"
   ]
  },
  {
   "cell_type": "code",
   "execution_count": 59,
   "metadata": {},
   "outputs": [
    {
     "data": {
      "text/plain": [
       "49"
      ]
     },
     "execution_count": 59,
     "metadata": {},
     "output_type": "execute_result"
    }
   ],
   "source": [
    "48 + 1"
   ]
  },
  {
   "cell_type": "code",
   "execution_count": 60,
   "metadata": {},
   "outputs": [
    {
     "data": {
      "text/plain": [
       "89"
      ]
     },
     "execution_count": 60,
     "metadata": {},
     "output_type": "execute_result"
    }
   ],
   "source": [
    "93-4"
   ]
  },
  {
   "cell_type": "code",
   "execution_count": 61,
   "metadata": {},
   "outputs": [
    {
     "data": {
      "text/plain": [
       "1"
      ]
     },
     "execution_count": 61,
     "metadata": {},
     "output_type": "execute_result"
    }
   ],
   "source": [
    "a^3"
   ]
  },
  {
   "cell_type": "code",
   "execution_count": 63,
   "metadata": {},
   "outputs": [
    {
     "data": {
      "text/plain": [
       "2"
      ]
     },
     "execution_count": 63,
     "metadata": {},
     "output_type": "execute_result"
    }
   ],
   "source": [
    "5%3"
   ]
  },
  {
   "cell_type": "markdown",
   "metadata": {},
   "source": [
    "### Números complejos\n",
    "Los números complejos utilizan `im` para la parte imaginaria"
   ]
  },
  {
   "cell_type": "code",
   "execution_count": 65,
   "metadata": {},
   "outputs": [
    {
     "data": {
      "text/plain": [
       "7.0 + 24.5im"
      ]
     },
     "execution_count": 65,
     "metadata": {},
     "output_type": "execute_result"
    }
   ],
   "source": [
    "a = 7\n",
    "c = (1 + 3.5im) * a"
   ]
  },
  {
   "cell_type": "code",
   "execution_count": 66,
   "metadata": {},
   "outputs": [
    {
     "data": {
      "text/plain": [
       "(7.0, 24.5)"
      ]
     },
     "execution_count": 66,
     "metadata": {},
     "output_type": "execute_result"
    }
   ],
   "source": [
    "c.re, c.im"
   ]
  },
  {
   "cell_type": "code",
   "execution_count": 67,
   "metadata": {},
   "outputs": [
    {
     "data": {
      "text/plain": [
       "7.0"
      ]
     },
     "execution_count": 67,
     "metadata": {},
     "output_type": "execute_result"
    }
   ],
   "source": [
    "c.re"
   ]
  },
  {
   "cell_type": "code",
   "execution_count": 68,
   "metadata": {},
   "outputs": [
    {
     "data": {
      "text/plain": [
       "7.0 - 24.5im"
      ]
     },
     "execution_count": 68,
     "metadata": {},
     "output_type": "execute_result"
    }
   ],
   "source": [
    "conj(c) # conj is a funciton that returns the conjugate of a complex"
   ]
  },
  {
   "cell_type": "code",
   "execution_count": 69,
   "metadata": {},
   "outputs": [
    {
     "name": "stdout",
     "output_type": "stream",
     "text": [
      "search: \u001b[0m\u001b[1mc\u001b[22m\u001b[0m\u001b[1mo\u001b[22m\u001b[0m\u001b[1mn\u001b[22m\u001b[0m\u001b[1mj\u001b[22m \u001b[0m\u001b[1mc\u001b[22m\u001b[0m\u001b[1mo\u001b[22m\u001b[0m\u001b[1mn\u001b[22m\u001b[0m\u001b[1mj\u001b[22m! \u001b[0m\u001b[1mc\u001b[22m\u001b[0m\u001b[1mo\u001b[22m\u001b[0m\u001b[1mn\u001b[22mst \u001b[0m\u001b[1mc\u001b[22m\u001b[0m\u001b[1mo\u001b[22m\u001b[0m\u001b[1mn\u001b[22mvert \u001b[0m\u001b[1mc\u001b[22m\u001b[0m\u001b[1mo\u001b[22m\u001b[0m\u001b[1mn\u001b[22mtinue \u001b[0m\u001b[1mc\u001b[22m\u001b[0m\u001b[1mo\u001b[22m\u001b[0m\u001b[1mn\u001b[22mtains \u001b[0m\u001b[1mC\u001b[22m\u001b[0m\u001b[1mo\u001b[22m\u001b[0m\u001b[1mn\u001b[22mdition is\u001b[0m\u001b[1mc\u001b[22m\u001b[0m\u001b[1mo\u001b[22m\u001b[0m\u001b[1mn\u001b[22mst IO\u001b[0m\u001b[1mC\u001b[22m\u001b[0m\u001b[1mo\u001b[22m\u001b[0m\u001b[1mn\u001b[22mtext\n",
      "\n"
     ]
    },
    {
     "data": {
      "text/latex": [
       "\\begin{verbatim}\n",
       "conj(z)\n",
       "\\end{verbatim}\n",
       "Compute the complex conjugate of a complex number \\texttt{z}.\n",
       "\n",
       "\\section{Examples}\n",
       "\\begin{verbatim}\n",
       "julia> conj(1 + 3im)\n",
       "1 - 3im\n",
       "\\end{verbatim}\n"
      ],
      "text/markdown": [
       "```\n",
       "conj(z)\n",
       "```\n",
       "\n",
       "Compute the complex conjugate of a complex number `z`.\n",
       "\n",
       "# Examples\n",
       "\n",
       "```jldoctest\n",
       "julia> conj(1 + 3im)\n",
       "1 - 3im\n",
       "```\n"
      ],
      "text/plain": [
       "\u001b[36m  conj(z)\u001b[39m\n",
       "\n",
       "  Compute the complex conjugate of a complex number \u001b[36mz\u001b[39m.\n",
       "\n",
       "\u001b[1m  Examples\u001b[22m\n",
       "\u001b[1m  ≡≡≡≡≡≡≡≡≡≡\u001b[22m\n",
       "\n",
       "\u001b[36m  julia> conj(1 + 3im)\u001b[39m\n",
       "\u001b[36m  1 - 3im\u001b[39m"
      ]
     },
     "execution_count": 69,
     "metadata": {},
     "output_type": "execute_result"
    }
   ],
   "source": [
    "?conj"
   ]
  },
  {
   "cell_type": "markdown",
   "metadata": {},
   "source": [
    "### Números racionales\n",
    "Los números racionales puden ser construidos en Julia al usar el operador `//`"
   ]
  },
  {
   "cell_type": "code",
   "execution_count": 70,
   "metadata": {},
   "outputs": [
    {
     "data": {
      "text/plain": [
       "3//4"
      ]
     },
     "execution_count": 70,
     "metadata": {},
     "output_type": "execute_result"
    }
   ],
   "source": [
    "3//4"
   ]
  },
  {
   "cell_type": "code",
   "execution_count": 71,
   "metadata": {},
   "outputs": [
    {
     "data": {
      "text/plain": [
       "Rational{Int64}"
      ]
     },
     "execution_count": 71,
     "metadata": {},
     "output_type": "execute_result"
    }
   ],
   "source": [
    "typeof(ans)"
   ]
  },
  {
   "cell_type": "code",
   "execution_count": 74,
   "metadata": {},
   "outputs": [
    {
     "data": {
      "text/plain": [
       "19//12"
      ]
     },
     "execution_count": 74,
     "metadata": {},
     "output_type": "execute_result"
    }
   ],
   "source": [
    "3//4 + 5//6 "
   ]
  },
  {
   "cell_type": "markdown",
   "metadata": {},
   "source": [
    "### Operadores como funciones"
   ]
  },
  {
   "cell_type": "code",
   "execution_count": 75,
   "metadata": {},
   "outputs": [
    {
     "data": {
      "text/plain": [
       "7"
      ]
     },
     "execution_count": 75,
     "metadata": {},
     "output_type": "execute_result"
    }
   ],
   "source": [
    "+(3,4)"
   ]
  },
  {
   "cell_type": "code",
   "execution_count": 76,
   "metadata": {},
   "outputs": [
    {
     "data": {
      "text/plain": [
       "7"
      ]
     },
     "execution_count": 76,
     "metadata": {},
     "output_type": "execute_result"
    }
   ],
   "source": [
    "3 + 4"
   ]
  },
  {
   "cell_type": "code",
   "execution_count": 77,
   "metadata": {},
   "outputs": [
    {
     "data": {
      "text/plain": [
       "3//4"
      ]
     },
     "execution_count": 77,
     "metadata": {},
     "output_type": "execute_result"
    }
   ],
   "source": [
    "//(3,4)"
   ]
  },
  {
   "cell_type": "code",
   "execution_count": 78,
   "metadata": {},
   "outputs": [
    {
     "data": {
      "text/plain": [
       "// (generic function with 7 methods)"
      ]
     },
     "execution_count": 78,
     "metadata": {},
     "output_type": "execute_result"
    }
   ],
   "source": [
    "// "
   ]
  },
  {
   "cell_type": "code",
   "execution_count": 80,
   "metadata": {},
   "outputs": [
    {
     "data": {
      "text/html": [
       "# 184 methods for generic function <b>+</b>:<ul><li> +(z::<b>Complex{Bool}</b>, x::<b>Bool</b>) in Base at <a href=\"https://github.com/JuliaLang/julia/tree/788b2c77c10c2160f4794a4d4b6b81a95a90940c/base/complex.jl#L287\" target=\"_blank\">complex.jl:287</a></li> <li> +(z::<b>Complex{Bool}</b>, x::<b>Real</b>) in Base at <a href=\"https://github.com/JuliaLang/julia/tree/788b2c77c10c2160f4794a4d4b6b81a95a90940c/base/complex.jl#L301\" target=\"_blank\">complex.jl:301</a></li> <li> +(B::<b>BitArray{2}</b>, J::<b>LinearAlgebra.UniformScaling</b>) in LinearAlgebra at <a href=\"file:///buildworker/worker/package_linux64/build/usr/share/julia/stdlib/v1.5/LinearAlgebra/src/uniformscaling.jl\" target=\"_blank\">/home/oscar/Descargas/julia-1.5.3-linux-x86_64/julia-1.5.3/share/julia/stdlib/v1.5/LinearAlgebra/src/uniformscaling.jl:117</a></li> <li> +(a::<b>Pkg.Resolve.VersionWeight</b>, b::<b>Pkg.Resolve.VersionWeight</b>) in Pkg.Resolve at <a href=\"file:///buildworker/worker/package_linux64/build/usr/share/julia/stdlib/v1.5/Pkg/src/Resolve/versionweights.jl\" target=\"_blank\">/home/oscar/Descargas/julia-1.5.3-linux-x86_64/julia-1.5.3/share/julia/stdlib/v1.5/Pkg/src/Resolve/versionweights.jl:22</a></li> <li> +(a::<b>Float16</b>, b::<b>Float16</b>) in Base at <a href=\"https://github.com/JuliaLang/julia/tree/788b2c77c10c2160f4794a4d4b6b81a95a90940c/base/float.jl#L398\" target=\"_blank\">float.jl:398</a></li> <li> +(x::<b>Dates.Date</b>, y::<b>Dates.Day</b>) in Dates at <a href=\"file:///buildworker/worker/package_linux64/build/usr/share/julia/stdlib/v1.5/Dates/src/arithmetic.jl\" target=\"_blank\">/home/oscar/Descargas/julia-1.5.3-linux-x86_64/julia-1.5.3/share/julia/stdlib/v1.5/Dates/src/arithmetic.jl:74</a></li> <li> +(x::<b>Dates.Date</b>, y::<b>Dates.Week</b>) in Dates at <a href=\"file:///buildworker/worker/package_linux64/build/usr/share/julia/stdlib/v1.5/Dates/src/arithmetic.jl\" target=\"_blank\">/home/oscar/Descargas/julia-1.5.3-linux-x86_64/julia-1.5.3/share/julia/stdlib/v1.5/Dates/src/arithmetic.jl:72</a></li> <li> +(dt::<b>Dates.Date</b>, z::<b>Dates.Month</b>) in Dates at <a href=\"file:///buildworker/worker/package_linux64/build/usr/share/julia/stdlib/v1.5/Dates/src/arithmetic.jl\" target=\"_blank\">/home/oscar/Descargas/julia-1.5.3-linux-x86_64/julia-1.5.3/share/julia/stdlib/v1.5/Dates/src/arithmetic.jl:54</a></li> <li> +(dt::<b>Dates.Date</b>, y::<b>Dates.Year</b>) in Dates at <a href=\"file:///buildworker/worker/package_linux64/build/usr/share/julia/stdlib/v1.5/Dates/src/arithmetic.jl\" target=\"_blank\">/home/oscar/Descargas/julia-1.5.3-linux-x86_64/julia-1.5.3/share/julia/stdlib/v1.5/Dates/src/arithmetic.jl:27</a></li> <li> +(dt::<b>Dates.Date</b>, t::<b>Dates.Time</b>) in Dates at <a href=\"file:///buildworker/worker/package_linux64/build/usr/share/julia/stdlib/v1.5/Dates/src/arithmetic.jl\" target=\"_blank\">/home/oscar/Descargas/julia-1.5.3-linux-x86_64/julia-1.5.3/share/julia/stdlib/v1.5/Dates/src/arithmetic.jl:19</a></li> <li> +(x::<b>Dates.CompoundPeriod</b>, y::<b>Dates.CompoundPeriod</b>) in Dates at <a href=\"file:///buildworker/worker/package_linux64/build/usr/share/julia/stdlib/v1.5/Dates/src/periods.jl\" target=\"_blank\">/home/oscar/Descargas/julia-1.5.3-linux-x86_64/julia-1.5.3/share/julia/stdlib/v1.5/Dates/src/periods.jl:347</a></li> <li> +(x::<b>Dates.CompoundPeriod</b>, y::<b>Dates.Period</b>) in Dates at <a href=\"file:///buildworker/worker/package_linux64/build/usr/share/julia/stdlib/v1.5/Dates/src/periods.jl\" target=\"_blank\">/home/oscar/Descargas/julia-1.5.3-linux-x86_64/julia-1.5.3/share/julia/stdlib/v1.5/Dates/src/periods.jl:345</a></li> <li> +(x::<b>Dates.CompoundPeriod</b>, y::<b>Dates.TimeType</b>) in Dates at <a href=\"file:///buildworker/worker/package_linux64/build/usr/share/julia/stdlib/v1.5/Dates/src/periods.jl\" target=\"_blank\">/home/oscar/Descargas/julia-1.5.3-linux-x86_64/julia-1.5.3/share/julia/stdlib/v1.5/Dates/src/periods.jl:375</a></li> <li> +(t::<b>Dates.Time</b>, dt::<b>Dates.Date</b>) in Dates at <a href=\"file:///buildworker/worker/package_linux64/build/usr/share/julia/stdlib/v1.5/Dates/src/arithmetic.jl\" target=\"_blank\">/home/oscar/Descargas/julia-1.5.3-linux-x86_64/julia-1.5.3/share/julia/stdlib/v1.5/Dates/src/arithmetic.jl:20</a></li> <li> +(x::<b>Dates.Time</b>, y::<b>Dates.TimePeriod</b>) in Dates at <a href=\"file:///buildworker/worker/package_linux64/build/usr/share/julia/stdlib/v1.5/Dates/src/arithmetic.jl\" target=\"_blank\">/home/oscar/Descargas/julia-1.5.3-linux-x86_64/julia-1.5.3/share/julia/stdlib/v1.5/Dates/src/arithmetic.jl:78</a></li> <li> +(x::<b>Bool</b>, z::<b>Complex{Bool}</b>) in Base at <a href=\"https://github.com/JuliaLang/julia/tree/788b2c77c10c2160f4794a4d4b6b81a95a90940c/base/complex.jl#L286\" target=\"_blank\">complex.jl:286</a></li> <li> +(x::<b>Bool</b>, y::<b>Bool</b>) in Base at <a href=\"https://github.com/JuliaLang/julia/tree/788b2c77c10c2160f4794a4d4b6b81a95a90940c/base/bool.jl#L96\" target=\"_blank\">bool.jl:96</a></li> <li> +(x::<b>Bool</b>) in Base at <a href=\"https://github.com/JuliaLang/julia/tree/788b2c77c10c2160f4794a4d4b6b81a95a90940c/base/bool.jl#L93\" target=\"_blank\">bool.jl:93</a></li> <li> +(x::<b>Bool</b>, y::<b>T</b>)<i> where T<:AbstractFloat</i> in Base at <a href=\"https://github.com/JuliaLang/julia/tree/788b2c77c10c2160f4794a4d4b6b81a95a90940c/base/bool.jl#L103\" target=\"_blank\">bool.jl:103</a></li> <li> +(x::<b>Bool</b>, z::<b>Complex</b>) in Base at <a href=\"https://github.com/JuliaLang/julia/tree/788b2c77c10c2160f4794a4d4b6b81a95a90940c/base/complex.jl#L293\" target=\"_blank\">complex.jl:293</a></li> <li> +(dt::<b>Dates.DateTime</b>, z::<b>Dates.Month</b>) in Dates at <a href=\"file:///buildworker/worker/package_linux64/build/usr/share/julia/stdlib/v1.5/Dates/src/arithmetic.jl\" target=\"_blank\">/home/oscar/Descargas/julia-1.5.3-linux-x86_64/julia-1.5.3/share/julia/stdlib/v1.5/Dates/src/arithmetic.jl:47</a></li> <li> +(dt::<b>Dates.DateTime</b>, y::<b>Dates.Year</b>) in Dates at <a href=\"file:///buildworker/worker/package_linux64/build/usr/share/julia/stdlib/v1.5/Dates/src/arithmetic.jl\" target=\"_blank\">/home/oscar/Descargas/julia-1.5.3-linux-x86_64/julia-1.5.3/share/julia/stdlib/v1.5/Dates/src/arithmetic.jl:23</a></li> <li> +(x::<b>Dates.DateTime</b>, y::<b>Dates.Period</b>) in Dates at <a href=\"file:///buildworker/worker/package_linux64/build/usr/share/julia/stdlib/v1.5/Dates/src/arithmetic.jl\" target=\"_blank\">/home/oscar/Descargas/julia-1.5.3-linux-x86_64/julia-1.5.3/share/julia/stdlib/v1.5/Dates/src/arithmetic.jl:76</a></li> <li> +(c::<b>BigInt</b>, x::<b>BigFloat</b>) in Base.MPFR at <a href=\"https://github.com/JuliaLang/julia/tree/788b2c77c10c2160f4794a4d4b6b81a95a90940c/base/mpfr.jl#L399\" target=\"_blank\">mpfr.jl:399</a></li> <li> +(a::<b>BigInt</b>, b::<b>BigInt</b>, c::<b>BigInt</b>, d::<b>BigInt</b>, e::<b>BigInt</b>) in Base.GMP at <a href=\"https://github.com/JuliaLang/julia/tree/788b2c77c10c2160f4794a4d4b6b81a95a90940c/base/gmp.jl#L518\" target=\"_blank\">gmp.jl:518</a></li> <li> +(a::<b>BigInt</b>, b::<b>BigInt</b>, c::<b>BigInt</b>, d::<b>BigInt</b>) in Base.GMP at <a href=\"https://github.com/JuliaLang/julia/tree/788b2c77c10c2160f4794a4d4b6b81a95a90940c/base/gmp.jl#L517\" target=\"_blank\">gmp.jl:517</a></li> <li> +(a::<b>BigInt</b>, b::<b>BigInt</b>, c::<b>BigInt</b>) in Base.GMP at <a href=\"https://github.com/JuliaLang/julia/tree/788b2c77c10c2160f4794a4d4b6b81a95a90940c/base/gmp.jl#L516\" target=\"_blank\">gmp.jl:516</a></li> <li> +(x::<b>BigInt</b>, y::<b>BigInt</b>) in Base.GMP at <a href=\"https://github.com/JuliaLang/julia/tree/788b2c77c10c2160f4794a4d4b6b81a95a90940c/base/gmp.jl#L476\" target=\"_blank\">gmp.jl:476</a></li> <li> +(x::<b>BigInt</b>, c::<b>Union{UInt16, UInt32, UInt64, UInt8}</b>) in Base.GMP at <a href=\"https://github.com/JuliaLang/julia/tree/788b2c77c10c2160f4794a4d4b6b81a95a90940c/base/gmp.jl#L524\" target=\"_blank\">gmp.jl:524</a></li> <li> +(x::<b>BigInt</b>, c::<b>Union{Int16, Int32, Int64, Int8}</b>) in Base.GMP at <a href=\"https://github.com/JuliaLang/julia/tree/788b2c77c10c2160f4794a4d4b6b81a95a90940c/base/gmp.jl#L530\" target=\"_blank\">gmp.jl:530</a></li> <li> +(x::<b>Float64</b>, y::<b>Float64</b>) in Base at <a href=\"https://github.com/JuliaLang/julia/tree/788b2c77c10c2160f4794a4d4b6b81a95a90940c/base/float.jl#L401\" target=\"_blank\">float.jl:401</a></li> <li> +(level::<b>Base.CoreLogging.LogLevel</b>, inc::<b>Integer</b>) in Base.CoreLogging at <a href=\"https://github.com/JuliaLang/julia/tree/788b2c77c10c2160f4794a4d4b6b81a95a90940c/base/logging.jl#L116\" target=\"_blank\">logging.jl:116</a></li> <li> +(a::<b>Pkg.Resolve.FieldValue</b>, b::<b>Pkg.Resolve.FieldValue</b>) in Pkg.Resolve at <a href=\"file:///buildworker/worker/package_linux64/build/usr/share/julia/stdlib/v1.5/Pkg/src/Resolve/fieldvalues.jl\" target=\"_blank\">/home/oscar/Descargas/julia-1.5.3-linux-x86_64/julia-1.5.3/share/julia/stdlib/v1.5/Pkg/src/Resolve/fieldvalues.jl:43</a></li> <li> +(a::<b>BigFloat</b>, b::<b>BigFloat</b>, c::<b>BigFloat</b>, d::<b>BigFloat</b>, e::<b>BigFloat</b>) in Base.MPFR at <a href=\"https://github.com/JuliaLang/julia/tree/788b2c77c10c2160f4794a4d4b6b81a95a90940c/base/mpfr.jl#L548\" target=\"_blank\">mpfr.jl:548</a></li> <li> +(a::<b>BigFloat</b>, b::<b>BigFloat</b>, c::<b>BigFloat</b>, d::<b>BigFloat</b>) in Base.MPFR at <a href=\"https://github.com/JuliaLang/julia/tree/788b2c77c10c2160f4794a4d4b6b81a95a90940c/base/mpfr.jl#L541\" target=\"_blank\">mpfr.jl:541</a></li> <li> +(a::<b>BigFloat</b>, b::<b>BigFloat</b>, c::<b>BigFloat</b>) in Base.MPFR at <a href=\"https://github.com/JuliaLang/julia/tree/788b2c77c10c2160f4794a4d4b6b81a95a90940c/base/mpfr.jl#L535\" target=\"_blank\">mpfr.jl:535</a></li> <li> +(x::<b>BigFloat</b>, c::<b>BigInt</b>) in Base.MPFR at <a href=\"https://github.com/JuliaLang/julia/tree/788b2c77c10c2160f4794a4d4b6b81a95a90940c/base/mpfr.jl#L394\" target=\"_blank\">mpfr.jl:394</a></li> <li> +(x::<b>BigFloat</b>, y::<b>BigFloat</b>) in Base.MPFR at <a href=\"https://github.com/JuliaLang/julia/tree/788b2c77c10c2160f4794a4d4b6b81a95a90940c/base/mpfr.jl#L363\" target=\"_blank\">mpfr.jl:363</a></li> <li> +(x::<b>BigFloat</b>, c::<b>Union{UInt16, UInt32, UInt64, UInt8}</b>) in Base.MPFR at <a href=\"https://github.com/JuliaLang/julia/tree/788b2c77c10c2160f4794a4d4b6b81a95a90940c/base/mpfr.jl#L370\" target=\"_blank\">mpfr.jl:370</a></li> <li> +(x::<b>BigFloat</b>, c::<b>Union{Int16, Int32, Int64, Int8}</b>) in Base.MPFR at <a href=\"https://github.com/JuliaLang/julia/tree/788b2c77c10c2160f4794a4d4b6b81a95a90940c/base/mpfr.jl#L378\" target=\"_blank\">mpfr.jl:378</a></li> <li> +(x::<b>BigFloat</b>, c::<b>Union{Float16, Float32, Float64}</b>) in Base.MPFR at <a href=\"https://github.com/JuliaLang/julia/tree/788b2c77c10c2160f4794a4d4b6b81a95a90940c/base/mpfr.jl#L386\" target=\"_blank\">mpfr.jl:386</a></li> <li> +(::<b>Missing</b>, ::<b>Missing</b>) in Base at <a href=\"https://github.com/JuliaLang/julia/tree/788b2c77c10c2160f4794a4d4b6b81a95a90940c/base/missing.jl#L114\" target=\"_blank\">missing.jl:114</a></li> <li> +(::<b>Missing</b>) in Base at <a href=\"https://github.com/JuliaLang/julia/tree/788b2c77c10c2160f4794a4d4b6b81a95a90940c/base/missing.jl#L100\" target=\"_blank\">missing.jl:100</a></li> <li> +(::<b>Missing</b>, ::<b>Number</b>) in Base at <a href=\"https://github.com/JuliaLang/julia/tree/788b2c77c10c2160f4794a4d4b6b81a95a90940c/base/missing.jl#L115\" target=\"_blank\">missing.jl:115</a></li> <li> +(x::<b>Float32</b>, y::<b>Float32</b>) in Base at <a href=\"https://github.com/JuliaLang/julia/tree/788b2c77c10c2160f4794a4d4b6b81a95a90940c/base/float.jl#L400\" target=\"_blank\">float.jl:400</a></li> <li> +(y::<b>AbstractFloat</b>, x::<b>Bool</b>) in Base at <a href=\"https://github.com/JuliaLang/julia/tree/788b2c77c10c2160f4794a4d4b6b81a95a90940c/base/bool.jl#L106\" target=\"_blank\">bool.jl:106</a></li> <li> +(x::<b>T</b>, y::<b>T</b>)<i> where T<:Union{Int128, Int16, Int32, Int64, Int8, UInt128, UInt16, UInt32, UInt64, UInt8}</i> in Base at <a href=\"https://github.com/JuliaLang/julia/tree/788b2c77c10c2160f4794a4d4b6b81a95a90940c/base/int.jl#L86\" target=\"_blank\">int.jl:86</a></li> <li> +(c::<b>Union{UInt16, UInt32, UInt64, UInt8}</b>, x::<b>BigInt</b>) in Base.GMP at <a href=\"https://github.com/JuliaLang/julia/tree/788b2c77c10c2160f4794a4d4b6b81a95a90940c/base/gmp.jl#L525\" target=\"_blank\">gmp.jl:525</a></li> <li> +(c::<b>Union{Int16, Int32, Int64, Int8}</b>, x::<b>BigInt</b>) in Base.GMP at <a href=\"https://github.com/JuliaLang/julia/tree/788b2c77c10c2160f4794a4d4b6b81a95a90940c/base/gmp.jl#L531\" target=\"_blank\">gmp.jl:531</a></li> <li> +(a::<b>Integer</b>, b::<b>Integer</b>) in Base at <a href=\"https://github.com/JuliaLang/julia/tree/788b2c77c10c2160f4794a4d4b6b81a95a90940c/base/int.jl#L918\" target=\"_blank\">int.jl:918</a></li> <li> +(x::<b>Integer</b>, y::<b>Ptr</b>) in Base at <a href=\"https://github.com/JuliaLang/julia/tree/788b2c77c10c2160f4794a4d4b6b81a95a90940c/base/pointer.jl#L161\" target=\"_blank\">pointer.jl:161</a></li> <li> +(z::<b>Complex</b>) in Base at <a href=\"https://github.com/JuliaLang/julia/tree/788b2c77c10c2160f4794a4d4b6b81a95a90940c/base/complex.jl#L273\" target=\"_blank\">complex.jl:273</a></li> <li> +(z::<b>Complex</b>, w::<b>Complex</b>) in Base at <a href=\"https://github.com/JuliaLang/julia/tree/788b2c77c10c2160f4794a4d4b6b81a95a90940c/base/complex.jl#L275\" target=\"_blank\">complex.jl:275</a></li> <li> +(z::<b>Complex</b>, x::<b>Bool</b>) in Base at <a href=\"https://github.com/JuliaLang/julia/tree/788b2c77c10c2160f4794a4d4b6b81a95a90940c/base/complex.jl#L294\" target=\"_blank\">complex.jl:294</a></li> <li> +(x::<b>Rational</b>) in Base at <a href=\"https://github.com/JuliaLang/julia/tree/788b2c77c10c2160f4794a4d4b6b81a95a90940c/base/rational.jl#L266\" target=\"_blank\">rational.jl:266</a></li> <li> +(x::<b>Real</b>, z::<b>Complex{Bool}</b>) in Base at <a href=\"https://github.com/JuliaLang/julia/tree/788b2c77c10c2160f4794a4d4b6b81a95a90940c/base/complex.jl#L300\" target=\"_blank\">complex.jl:300</a></li> <li> +(x::<b>Real</b>, z::<b>Complex</b>) in Base at <a href=\"https://github.com/JuliaLang/julia/tree/788b2c77c10c2160f4794a4d4b6b81a95a90940c/base/complex.jl#L312\" target=\"_blank\">complex.jl:312</a></li> <li> +(z::<b>Complex</b>, x::<b>Real</b>) in Base at <a href=\"https://github.com/JuliaLang/julia/tree/788b2c77c10c2160f4794a4d4b6b81a95a90940c/base/complex.jl#L313\" target=\"_blank\">complex.jl:313</a></li> <li> +(x::<b>Rational</b>, y::<b>Rational</b>) in Base at <a href=\"https://github.com/JuliaLang/julia/tree/788b2c77c10c2160f4794a4d4b6b81a95a90940c/base/rational.jl#L282\" target=\"_blank\">rational.jl:282</a></li> <li> +(x::<b>Rational</b>, y::<b>Integer</b>) in Base at <a href=\"https://github.com/JuliaLang/julia/tree/788b2c77c10c2160f4794a4d4b6b81a95a90940c/base/rational.jl#L287\" target=\"_blank\">rational.jl:287</a></li> <li> +(y::<b>Integer</b>, x::<b>Rational</b>) in Base at <a href=\"https://github.com/JuliaLang/julia/tree/788b2c77c10c2160f4794a4d4b6b81a95a90940c/base/rational.jl#L294\" target=\"_blank\">rational.jl:294</a></li> <li> +(x::<b>Integer</b>, y::<b>AbstractChar</b>) in Base at <a href=\"https://github.com/JuliaLang/julia/tree/788b2c77c10c2160f4794a4d4b6b81a95a90940c/base/char.jl#L224\" target=\"_blank\">char.jl:224</a></li> <li> +(c::<b>Union{UInt16, UInt32, UInt64, UInt8}</b>, x::<b>BigFloat</b>) in Base.MPFR at <a href=\"https://github.com/JuliaLang/julia/tree/788b2c77c10c2160f4794a4d4b6b81a95a90940c/base/mpfr.jl#L375\" target=\"_blank\">mpfr.jl:375</a></li> <li> +(c::<b>Union{Int16, Int32, Int64, Int8}</b>, x::<b>BigFloat</b>) in Base.MPFR at <a href=\"https://github.com/JuliaLang/julia/tree/788b2c77c10c2160f4794a4d4b6b81a95a90940c/base/mpfr.jl#L383\" target=\"_blank\">mpfr.jl:383</a></li> <li> +(c::<b>Union{Float16, Float32, Float64}</b>, x::<b>BigFloat</b>) in Base.MPFR at <a href=\"https://github.com/JuliaLang/julia/tree/788b2c77c10c2160f4794a4d4b6b81a95a90940c/base/mpfr.jl#L391\" target=\"_blank\">mpfr.jl:391</a></li> <li> +(x::<b>AbstractIrrational</b>, y::<b>AbstractIrrational</b>) in Base at <a href=\"https://github.com/JuliaLang/julia/tree/788b2c77c10c2160f4794a4d4b6b81a95a90940c/base/irrationals.jl#L156\" target=\"_blank\">irrationals.jl:156</a></li> <li> +(x::<b>Number</b>) in Base at <a href=\"https://github.com/JuliaLang/julia/tree/788b2c77c10c2160f4794a4d4b6b81a95a90940c/base/operators.jl#L513\" target=\"_blank\">operators.jl:513</a></li> <li> +(x::<b>T</b>, y::<b>T</b>)<i> where T<:Number</i> in Base at <a href=\"https://github.com/JuliaLang/julia/tree/788b2c77c10c2160f4794a4d4b6b81a95a90940c/base/promotion.jl#L384\" target=\"_blank\">promotion.jl:384</a></li> <li> +(x::<b>Number</b>, y::<b>Number</b>) in Base at <a href=\"https://github.com/JuliaLang/julia/tree/788b2c77c10c2160f4794a4d4b6b81a95a90940c/base/promotion.jl#L311\" target=\"_blank\">promotion.jl:311</a></li> <li> +(r1::<b>OrdinalRange</b>, r2::<b>OrdinalRange</b>) in Base at <a href=\"https://github.com/JuliaLang/julia/tree/788b2c77c10c2160f4794a4d4b6b81a95a90940c/base/range.jl#L1055\" target=\"_blank\">range.jl:1055</a></li> <li> +(r1::<b>LinRange{T}</b>, r2::<b>LinRange{T}</b>)<i> where T</i> in Base at <a href=\"https://github.com/JuliaLang/julia/tree/788b2c77c10c2160f4794a4d4b6b81a95a90940c/base/range.jl#L1062\" target=\"_blank\">range.jl:1062</a></li> <li> +(r1::<b>StepRangeLen{T,R,S} where S</b>, r2::<b>StepRangeLen{T,R,S} where S</b>)<i> where {R<:Base.TwicePrecision, T}</i> in Base at <a href=\"https://github.com/JuliaLang/julia/tree/788b2c77c10c2160f4794a4d4b6b81a95a90940c/base/twiceprecision.jl#L577\" target=\"_blank\">twiceprecision.jl:577</a></li> <li> +(r1::<b>StepRangeLen{T,S,S1} where S1</b>, r2::<b>StepRangeLen{T,S,S1} where S1</b>)<i> where {T, S}</i> in Base at <a href=\"https://github.com/JuliaLang/julia/tree/788b2c77c10c2160f4794a4d4b6b81a95a90940c/base/range.jl#L1078\" target=\"_blank\">range.jl:1078</a></li> <li> +(r1::<b>Union{LinRange, OrdinalRange, StepRangeLen}</b>, r2::<b>Union{LinRange, OrdinalRange, StepRangeLen}</b>) in Base at <a href=\"https://github.com/JuliaLang/julia/tree/788b2c77c10c2160f4794a4d4b6b81a95a90940c/base/range.jl#L1071\" target=\"_blank\">range.jl:1071</a></li> <li> +(x::<b>Ptr</b>, y::<b>Integer</b>) in Base at <a href=\"https://github.com/JuliaLang/julia/tree/788b2c77c10c2160f4794a4d4b6b81a95a90940c/base/pointer.jl#L159\" target=\"_blank\">pointer.jl:159</a></li> <li> +(x::<b>Base.TwicePrecision</b>, y::<b>Number</b>) in Base at <a href=\"https://github.com/JuliaLang/julia/tree/788b2c77c10c2160f4794a4d4b6b81a95a90940c/base/twiceprecision.jl#L267\" target=\"_blank\">twiceprecision.jl:267</a></li> <li> +(x::<b>Number</b>, y::<b>Base.TwicePrecision</b>) in Base at <a href=\"https://github.com/JuliaLang/julia/tree/788b2c77c10c2160f4794a4d4b6b81a95a90940c/base/twiceprecision.jl#L271\" target=\"_blank\">twiceprecision.jl:271</a></li> <li> +(x::<b>Base.TwicePrecision{T}</b>, y::<b>Base.TwicePrecision{T}</b>)<i> where T</i> in Base at <a href=\"https://github.com/JuliaLang/julia/tree/788b2c77c10c2160f4794a4d4b6b81a95a90940c/base/twiceprecision.jl#L273\" target=\"_blank\">twiceprecision.jl:273</a></li> <li> +(x::<b>Base.TwicePrecision</b>, y::<b>Base.TwicePrecision</b>) in Base at <a href=\"https://github.com/JuliaLang/julia/tree/788b2c77c10c2160f4794a4d4b6b81a95a90940c/base/twiceprecision.jl#L278\" target=\"_blank\">twiceprecision.jl:278</a></li> <li> +(A::<b>Array</b>, Bs::<b>Array...</b>) in Base at <a href=\"https://github.com/JuliaLang/julia/tree/788b2c77c10c2160f4794a4d4b6b81a95a90940c/base/arraymath.jl#L43\" target=\"_blank\">arraymath.jl:43</a></li> <li> +(A::<b>BitArray</b>, B::<b>BitArray</b>) in Base at <a href=\"https://github.com/JuliaLang/julia/tree/788b2c77c10c2160f4794a4d4b6b81a95a90940c/base/bitarray.jl#L1110\" target=\"_blank\">bitarray.jl:1110</a></li> <li> +(r::<b>AbstractRange{var\"#s828\"} where var\"#s828\"<:Dates.TimeType</b>, x::<b>Dates.Period</b>) in Dates at <a href=\"file:///buildworker/worker/package_linux64/build/usr/share/julia/stdlib/v1.5/Dates/src/ranges.jl\" target=\"_blank\">/home/oscar/Descargas/julia-1.5.3-linux-x86_64/julia-1.5.3/share/julia/stdlib/v1.5/Dates/src/ranges.jl:59</a></li> <li> +(A::<b>Array</b>, B::<b>SparseArrays.AbstractSparseMatrixCSC</b>) in SparseArrays at <a href=\"file:///buildworker/worker/package_linux64/build/usr/share/julia/stdlib/v1.5/SparseArrays/src/sparsematrix.jl\" target=\"_blank\">/home/oscar/Descargas/julia-1.5.3-linux-x86_64/julia-1.5.3/share/julia/stdlib/v1.5/SparseArrays/src/sparsematrix.jl:1683</a></li> <li> +(x::<b>StridedArray{var\"#s828\", N} where N where var\"#s828\"<:Union{Dates.CompoundPeriod, Dates.Period}</b>) in Dates at <a href=\"file:///buildworker/worker/package_linux64/build/usr/share/julia/stdlib/v1.5/Dates/src/deprecated.jl\" target=\"_blank\">/home/oscar/Descargas/julia-1.5.3-linux-x86_64/julia-1.5.3/share/julia/stdlib/v1.5/Dates/src/deprecated.jl:55</a></li> <li> +(x::<b>StridedArray{var\"#s828\", N} where N where var\"#s828\"<:Union{Dates.CompoundPeriod, Dates.Period}</b>, y::<b>Dates.TimeType</b>) in Dates at <a href=\"file:///buildworker/worker/package_linux64/build/usr/share/julia/stdlib/v1.5/Dates/src/deprecated.jl\" target=\"_blank\">/home/oscar/Descargas/julia-1.5.3-linux-x86_64/julia-1.5.3/share/julia/stdlib/v1.5/Dates/src/deprecated.jl:10</a></li> <li> +(X::<b>StridedArray{var\"#s828\", N} where N where var\"#s828\"<:Union{Dates.CompoundPeriod, Dates.Period}</b>, Y::<b>StridedArray{var\"#s827\", N} where N where var\"#s827\"<:Union{Dates.CompoundPeriod, Dates.Period}</b>) in Dates at <a href=\"file:///buildworker/worker/package_linux64/build/usr/share/julia/stdlib/v1.5/Dates/src/deprecated.jl\" target=\"_blank\">/home/oscar/Descargas/julia-1.5.3-linux-x86_64/julia-1.5.3/share/julia/stdlib/v1.5/Dates/src/deprecated.jl:62</a></li> <li> +(A::<b>LinearAlgebra.SymTridiagonal</b>, B::<b>LinearAlgebra.SymTridiagonal</b>) in LinearAlgebra at <a href=\"file:///buildworker/worker/package_linux64/build/usr/share/julia/stdlib/v1.5/LinearAlgebra/src/tridiag.jl\" target=\"_blank\">/home/oscar/Descargas/julia-1.5.3-linux-x86_64/julia-1.5.3/share/julia/stdlib/v1.5/LinearAlgebra/src/tridiag.jl:205</a></li> <li> +(A::<b>LinearAlgebra.Tridiagonal</b>, B::<b>LinearAlgebra.Tridiagonal</b>) in LinearAlgebra at <a href=\"file:///buildworker/worker/package_linux64/build/usr/share/julia/stdlib/v1.5/LinearAlgebra/src/tridiag.jl\" target=\"_blank\">/home/oscar/Descargas/julia-1.5.3-linux-x86_64/julia-1.5.3/share/julia/stdlib/v1.5/LinearAlgebra/src/tridiag.jl:732</a></li> <li> +(A::<b>LinearAlgebra.UpperTriangular</b>, B::<b>LinearAlgebra.UpperTriangular</b>) in LinearAlgebra at <a href=\"file:///buildworker/worker/package_linux64/build/usr/share/julia/stdlib/v1.5/LinearAlgebra/src/triangular.jl\" target=\"_blank\">/home/oscar/Descargas/julia-1.5.3-linux-x86_64/julia-1.5.3/share/julia/stdlib/v1.5/LinearAlgebra/src/triangular.jl:659</a></li> <li> +(A::<b>LinearAlgebra.LowerTriangular</b>, B::<b>LinearAlgebra.LowerTriangular</b>) in LinearAlgebra at <a href=\"file:///buildworker/worker/package_linux64/build/usr/share/julia/stdlib/v1.5/LinearAlgebra/src/triangular.jl\" target=\"_blank\">/home/oscar/Descargas/julia-1.5.3-linux-x86_64/julia-1.5.3/share/julia/stdlib/v1.5/LinearAlgebra/src/triangular.jl:660</a></li> <li> +(A::<b>LinearAlgebra.UpperTriangular</b>, B::<b>LinearAlgebra.UnitUpperTriangular</b>) in LinearAlgebra at <a href=\"file:///buildworker/worker/package_linux64/build/usr/share/julia/stdlib/v1.5/LinearAlgebra/src/triangular.jl\" target=\"_blank\">/home/oscar/Descargas/julia-1.5.3-linux-x86_64/julia-1.5.3/share/julia/stdlib/v1.5/LinearAlgebra/src/triangular.jl:661</a></li> <li> +(A::<b>LinearAlgebra.LowerTriangular</b>, B::<b>LinearAlgebra.UnitLowerTriangular</b>) in LinearAlgebra at <a href=\"file:///buildworker/worker/package_linux64/build/usr/share/julia/stdlib/v1.5/LinearAlgebra/src/triangular.jl\" target=\"_blank\">/home/oscar/Descargas/julia-1.5.3-linux-x86_64/julia-1.5.3/share/julia/stdlib/v1.5/LinearAlgebra/src/triangular.jl:662</a></li> <li> +(A::<b>LinearAlgebra.UnitUpperTriangular</b>, B::<b>LinearAlgebra.UpperTriangular</b>) in LinearAlgebra at <a href=\"file:///buildworker/worker/package_linux64/build/usr/share/julia/stdlib/v1.5/LinearAlgebra/src/triangular.jl\" target=\"_blank\">/home/oscar/Descargas/julia-1.5.3-linux-x86_64/julia-1.5.3/share/julia/stdlib/v1.5/LinearAlgebra/src/triangular.jl:663</a></li> <li> +(A::<b>LinearAlgebra.UnitLowerTriangular</b>, B::<b>LinearAlgebra.LowerTriangular</b>) in LinearAlgebra at <a href=\"file:///buildworker/worker/package_linux64/build/usr/share/julia/stdlib/v1.5/LinearAlgebra/src/triangular.jl\" target=\"_blank\">/home/oscar/Descargas/julia-1.5.3-linux-x86_64/julia-1.5.3/share/julia/stdlib/v1.5/LinearAlgebra/src/triangular.jl:664</a></li> <li> +(A::<b>LinearAlgebra.UnitUpperTriangular</b>, B::<b>LinearAlgebra.UnitUpperTriangular</b>) in LinearAlgebra at <a href=\"file:///buildworker/worker/package_linux64/build/usr/share/julia/stdlib/v1.5/LinearAlgebra/src/triangular.jl\" target=\"_blank\">/home/oscar/Descargas/julia-1.5.3-linux-x86_64/julia-1.5.3/share/julia/stdlib/v1.5/LinearAlgebra/src/triangular.jl:665</a></li> <li> +(A::<b>LinearAlgebra.UnitLowerTriangular</b>, B::<b>LinearAlgebra.UnitLowerTriangular</b>) in LinearAlgebra at <a href=\"file:///buildworker/worker/package_linux64/build/usr/share/julia/stdlib/v1.5/LinearAlgebra/src/triangular.jl\" target=\"_blank\">/home/oscar/Descargas/julia-1.5.3-linux-x86_64/julia-1.5.3/share/julia/stdlib/v1.5/LinearAlgebra/src/triangular.jl:666</a></li> <li> +(A::<b>LinearAlgebra.AbstractTriangular</b>, B::<b>LinearAlgebra.AbstractTriangular</b>) in LinearAlgebra at <a href=\"file:///buildworker/worker/package_linux64/build/usr/share/julia/stdlib/v1.5/LinearAlgebra/src/triangular.jl\" target=\"_blank\">/home/oscar/Descargas/julia-1.5.3-linux-x86_64/julia-1.5.3/share/julia/stdlib/v1.5/LinearAlgebra/src/triangular.jl:667</a></li> <li> +(A::<b>LinearAlgebra.Hermitian</b>, B::<b>LinearAlgebra.Hermitian</b>) in LinearAlgebra at <a href=\"file:///buildworker/worker/package_linux64/build/usr/share/julia/stdlib/v1.5/LinearAlgebra/src/symmetric.jl\" target=\"_blank\">/home/oscar/Descargas/julia-1.5.3-linux-x86_64/julia-1.5.3/share/julia/stdlib/v1.5/LinearAlgebra/src/symmetric.jl:466</a></li> <li> +(A::<b>LinearAlgebra.Symmetric</b>, B::<b>LinearAlgebra.Symmetric</b>) in LinearAlgebra at <a href=\"file:///buildworker/worker/package_linux64/build/usr/share/julia/stdlib/v1.5/LinearAlgebra/src/symmetric.jl\" target=\"_blank\">/home/oscar/Descargas/julia-1.5.3-linux-x86_64/julia-1.5.3/share/julia/stdlib/v1.5/LinearAlgebra/src/symmetric.jl:466</a></li> <li> +(A::<b>LinearAlgebra.Hermitian{var\"#s816\",var\"#s815\"} where var\"#s815\"<:(SparseArrays.AbstractSparseArray{Tv,Ti,2} where Ti where Tv) where var\"#s816\"</b>, B::<b>LinearAlgebra.Symmetric{var\"#s814\",var\"#s813\"} where var\"#s813\"<:(SparseArrays.AbstractSparseArray{Tv,Ti,2} where Ti where Tv) where var\"#s814\"<:Real</b>) in SparseArrays at <a href=\"file:///buildworker/worker/package_linux64/build/usr/share/julia/stdlib/v1.5/SparseArrays/src/linalg.jl\" target=\"_blank\">/home/oscar/Descargas/julia-1.5.3-linux-x86_64/julia-1.5.3/share/julia/stdlib/v1.5/SparseArrays/src/linalg.jl:24</a></li> <li> +(A::<b>LinearAlgebra.Hermitian</b>, B::<b>LinearAlgebra.Symmetric{var\"#s828\",S} where S<:(AbstractArray{var\"#s8281\",2} where var\"#s8281\"<:var\"#s828\") where var\"#s828\"<:Real</b>) in LinearAlgebra at <a href=\"file:///buildworker/worker/package_linux64/build/usr/share/julia/stdlib/v1.5/LinearAlgebra/src/symmetric.jl\" target=\"_blank\">/home/oscar/Descargas/julia-1.5.3-linux-x86_64/julia-1.5.3/share/julia/stdlib/v1.5/LinearAlgebra/src/symmetric.jl:480</a></li> <li> +(A::<b>LinearAlgebra.Symmetric{var\"#s820\",var\"#s819\"} where var\"#s819\"<:(SparseArrays.AbstractSparseArray{Tv,Ti,2} where Ti where Tv) where var\"#s820\"<:Real</b>, B::<b>LinearAlgebra.Hermitian{var\"#s818\",var\"#s817\"} where var\"#s817\"<:(SparseArrays.AbstractSparseArray{Tv,Ti,2} where Ti where Tv) where var\"#s818\"</b>) in SparseArrays at <a href=\"file:///buildworker/worker/package_linux64/build/usr/share/julia/stdlib/v1.5/SparseArrays/src/linalg.jl\" target=\"_blank\">/home/oscar/Descargas/julia-1.5.3-linux-x86_64/julia-1.5.3/share/julia/stdlib/v1.5/SparseArrays/src/linalg.jl:23</a></li> <li> +(A::<b>LinearAlgebra.Symmetric{var\"#s827\",S} where S<:(AbstractArray{var\"#s828\",2} where var\"#s828\"<:var\"#s827\") where var\"#s827\"<:Real</b>, B::<b>LinearAlgebra.Hermitian</b>) in LinearAlgebra at <a href=\"file:///buildworker/worker/package_linux64/build/usr/share/julia/stdlib/v1.5/LinearAlgebra/src/symmetric.jl\" target=\"_blank\">/home/oscar/Descargas/julia-1.5.3-linux-x86_64/julia-1.5.3/share/julia/stdlib/v1.5/LinearAlgebra/src/symmetric.jl:481</a></li> <li> +(Da::<b>LinearAlgebra.Diagonal</b>, Db::<b>LinearAlgebra.Diagonal</b>) in LinearAlgebra at <a href=\"file:///buildworker/worker/package_linux64/build/usr/share/julia/stdlib/v1.5/LinearAlgebra/src/diagonal.jl\" target=\"_blank\">/home/oscar/Descargas/julia-1.5.3-linux-x86_64/julia-1.5.3/share/julia/stdlib/v1.5/LinearAlgebra/src/diagonal.jl:156</a></li> <li> +(D::<b>LinearAlgebra.Diagonal</b>, S::<b>LinearAlgebra.Symmetric</b>) in LinearAlgebra at <a href=\"file:///buildworker/worker/package_linux64/build/usr/share/julia/stdlib/v1.5/LinearAlgebra/src/diagonal.jl\" target=\"_blank\">/home/oscar/Descargas/julia-1.5.3-linux-x86_64/julia-1.5.3/share/julia/stdlib/v1.5/LinearAlgebra/src/diagonal.jl:160</a></li> <li> +(S::<b>LinearAlgebra.Symmetric</b>, D::<b>LinearAlgebra.Diagonal</b>) in LinearAlgebra at <a href=\"file:///buildworker/worker/package_linux64/build/usr/share/julia/stdlib/v1.5/LinearAlgebra/src/diagonal.jl\" target=\"_blank\">/home/oscar/Descargas/julia-1.5.3-linux-x86_64/julia-1.5.3/share/julia/stdlib/v1.5/LinearAlgebra/src/diagonal.jl:163</a></li> <li> +(D::<b>LinearAlgebra.Diagonal{var\"#s828\",V} where V<:AbstractArray{var\"#s828\",1} where var\"#s828\"<:Real</b>, H::<b>LinearAlgebra.Hermitian</b>) in LinearAlgebra at <a href=\"file:///buildworker/worker/package_linux64/build/usr/share/julia/stdlib/v1.5/LinearAlgebra/src/diagonal.jl\" target=\"_blank\">/home/oscar/Descargas/julia-1.5.3-linux-x86_64/julia-1.5.3/share/julia/stdlib/v1.5/LinearAlgebra/src/diagonal.jl:166</a></li> <li> +(H::<b>LinearAlgebra.Hermitian</b>, D::<b>LinearAlgebra.Diagonal{var\"#s828\",V} where V<:AbstractArray{var\"#s828\",1} where var\"#s828\"<:Real</b>) in LinearAlgebra at <a href=\"file:///buildworker/worker/package_linux64/build/usr/share/julia/stdlib/v1.5/LinearAlgebra/src/diagonal.jl\" target=\"_blank\">/home/oscar/Descargas/julia-1.5.3-linux-x86_64/julia-1.5.3/share/julia/stdlib/v1.5/LinearAlgebra/src/diagonal.jl:169</a></li> <li> +(A::<b>LinearAlgebra.Bidiagonal</b>, B::<b>LinearAlgebra.Bidiagonal</b>) in LinearAlgebra at <a href=\"file:///buildworker/worker/package_linux64/build/usr/share/julia/stdlib/v1.5/LinearAlgebra/src/bidiag.jl\" target=\"_blank\">/home/oscar/Descargas/julia-1.5.3-linux-x86_64/julia-1.5.3/share/julia/stdlib/v1.5/LinearAlgebra/src/bidiag.jl:347</a></li> <li> +(UL::<b>LinearAlgebra.UnitUpperTriangular</b>, J::<b>LinearAlgebra.UniformScaling</b>) in LinearAlgebra at <a href=\"file:///buildworker/worker/package_linux64/build/usr/share/julia/stdlib/v1.5/LinearAlgebra/src/uniformscaling.jl\" target=\"_blank\">/home/oscar/Descargas/julia-1.5.3-linux-x86_64/julia-1.5.3/share/julia/stdlib/v1.5/LinearAlgebra/src/uniformscaling.jl:147</a></li> <li> +(UL::<b>LinearAlgebra.UnitLowerTriangular</b>, J::<b>LinearAlgebra.UniformScaling</b>) in LinearAlgebra at <a href=\"file:///buildworker/worker/package_linux64/build/usr/share/julia/stdlib/v1.5/LinearAlgebra/src/uniformscaling.jl\" target=\"_blank\">/home/oscar/Descargas/julia-1.5.3-linux-x86_64/julia-1.5.3/share/julia/stdlib/v1.5/LinearAlgebra/src/uniformscaling.jl:147</a></li> <li> +(A::<b>LinearAlgebra.Hermitian</b>, J::<b>LinearAlgebra.UniformScaling{var\"#s828\"} where var\"#s828\"<:Complex</b>) in LinearAlgebra at <a href=\"file:///buildworker/worker/package_linux64/build/usr/share/julia/stdlib/v1.5/LinearAlgebra/src/uniformscaling.jl\" target=\"_blank\">/home/oscar/Descargas/julia-1.5.3-linux-x86_64/julia-1.5.3/share/julia/stdlib/v1.5/LinearAlgebra/src/uniformscaling.jl:161</a></li> <li> +(H::<b>LinearAlgebra.UpperHessenberg</b>, J::<b>LinearAlgebra.UniformScaling</b>) in LinearAlgebra at <a href=\"file:///buildworker/worker/package_linux64/build/usr/share/julia/stdlib/v1.5/LinearAlgebra/src/hessenberg.jl\" target=\"_blank\">/home/oscar/Descargas/julia-1.5.3-linux-x86_64/julia-1.5.3/share/julia/stdlib/v1.5/LinearAlgebra/src/hessenberg.jl:106</a></li> <li> +(A::<b>LinearAlgebra.Tridiagonal{var\"#s828\",V} where V<:AbstractArray{var\"#s828\",1} where var\"#s828\"<:Number</b>, B::<b>LinearAlgebra.UniformScaling</b>) in LinearAlgebra at <a href=\"file:///buildworker/worker/package_linux64/build/usr/share/julia/stdlib/v1.5/LinearAlgebra/src/special.jl\" target=\"_blank\">/home/oscar/Descargas/julia-1.5.3-linux-x86_64/julia-1.5.3/share/julia/stdlib/v1.5/LinearAlgebra/src/special.jl:226</a></li> <li> +(A::<b>LinearAlgebra.SymTridiagonal{var\"#s828\",V} where V<:AbstractArray{var\"#s828\",1} where var\"#s828\"<:Number</b>, B::<b>LinearAlgebra.UniformScaling</b>) in LinearAlgebra at <a href=\"file:///buildworker/worker/package_linux64/build/usr/share/julia/stdlib/v1.5/LinearAlgebra/src/special.jl\" target=\"_blank\">/home/oscar/Descargas/julia-1.5.3-linux-x86_64/julia-1.5.3/share/julia/stdlib/v1.5/LinearAlgebra/src/special.jl:231</a></li> <li> +(A::<b>LinearAlgebra.Bidiagonal{var\"#s828\",V} where V<:AbstractArray{var\"#s828\",1} where var\"#s828\"<:Number</b>, B::<b>LinearAlgebra.UniformScaling</b>) in LinearAlgebra at <a href=\"file:///buildworker/worker/package_linux64/build/usr/share/julia/stdlib/v1.5/LinearAlgebra/src/special.jl\" target=\"_blank\">/home/oscar/Descargas/julia-1.5.3-linux-x86_64/julia-1.5.3/share/julia/stdlib/v1.5/LinearAlgebra/src/special.jl:236</a></li> <li> +(A::<b>LinearAlgebra.Diagonal{var\"#s828\",V} where V<:AbstractArray{var\"#s828\",1} where var\"#s828\"<:Number</b>, B::<b>LinearAlgebra.UniformScaling</b>) in LinearAlgebra at <a href=\"file:///buildworker/worker/package_linux64/build/usr/share/julia/stdlib/v1.5/LinearAlgebra/src/special.jl\" target=\"_blank\">/home/oscar/Descargas/julia-1.5.3-linux-x86_64/julia-1.5.3/share/julia/stdlib/v1.5/LinearAlgebra/src/special.jl:241</a></li> <li> +(A::<b>SparseArrays.AbstractSparseMatrixCSC</b>, J::<b>LinearAlgebra.UniformScaling</b>) in SparseArrays at <a href=\"file:///buildworker/worker/package_linux64/build/usr/share/julia/stdlib/v1.5/SparseArrays/src/sparsematrix.jl\" target=\"_blank\">/home/oscar/Descargas/julia-1.5.3-linux-x86_64/julia-1.5.3/share/julia/stdlib/v1.5/SparseArrays/src/sparsematrix.jl:3641</a></li> <li> +(A::<b>AbstractArray{T,2} where T</b>, J::<b>LinearAlgebra.UniformScaling</b>) in LinearAlgebra at <a href=\"file:///buildworker/worker/package_linux64/build/usr/share/julia/stdlib/v1.5/LinearAlgebra/src/uniformscaling.jl\" target=\"_blank\">/home/oscar/Descargas/julia-1.5.3-linux-x86_64/julia-1.5.3/share/julia/stdlib/v1.5/LinearAlgebra/src/uniformscaling.jl:180</a></li> <li> +(A::<b>LinearAlgebra.UpperHessenberg</b>, B::<b>LinearAlgebra.UpperHessenberg</b>) in LinearAlgebra at <a href=\"file:///buildworker/worker/package_linux64/build/usr/share/julia/stdlib/v1.5/LinearAlgebra/src/hessenberg.jl\" target=\"_blank\">/home/oscar/Descargas/julia-1.5.3-linux-x86_64/julia-1.5.3/share/julia/stdlib/v1.5/LinearAlgebra/src/hessenberg.jl:101</a></li> <li> +(A::<b>LinearAlgebra.UpperTriangular</b>, B::<b>LinearAlgebra.Bidiagonal</b>) in LinearAlgebra at <a href=\"file:///buildworker/worker/package_linux64/build/usr/share/julia/stdlib/v1.5/LinearAlgebra/src/special.jl\" target=\"_blank\">/home/oscar/Descargas/julia-1.5.3-linux-x86_64/julia-1.5.3/share/julia/stdlib/v1.5/LinearAlgebra/src/special.jl:86</a></li> <li> +(A::<b>LinearAlgebra.Bidiagonal</b>, B::<b>LinearAlgebra.UpperTriangular</b>) in LinearAlgebra at <a href=\"file:///buildworker/worker/package_linux64/build/usr/share/julia/stdlib/v1.5/LinearAlgebra/src/special.jl\" target=\"_blank\">/home/oscar/Descargas/julia-1.5.3-linux-x86_64/julia-1.5.3/share/julia/stdlib/v1.5/LinearAlgebra/src/special.jl:94</a></li> <li> +(A::<b>LinearAlgebra.UnitUpperTriangular</b>, B::<b>LinearAlgebra.Bidiagonal</b>) in LinearAlgebra at <a href=\"file:///buildworker/worker/package_linux64/build/usr/share/julia/stdlib/v1.5/LinearAlgebra/src/special.jl\" target=\"_blank\">/home/oscar/Descargas/julia-1.5.3-linux-x86_64/julia-1.5.3/share/julia/stdlib/v1.5/LinearAlgebra/src/special.jl:86</a></li> <li> +(A::<b>LinearAlgebra.Bidiagonal</b>, B::<b>LinearAlgebra.UnitUpperTriangular</b>) in LinearAlgebra at <a href=\"file:///buildworker/worker/package_linux64/build/usr/share/julia/stdlib/v1.5/LinearAlgebra/src/special.jl\" target=\"_blank\">/home/oscar/Descargas/julia-1.5.3-linux-x86_64/julia-1.5.3/share/julia/stdlib/v1.5/LinearAlgebra/src/special.jl:94</a></li> <li> +(A::<b>LinearAlgebra.LowerTriangular</b>, B::<b>LinearAlgebra.Bidiagonal</b>) in LinearAlgebra at <a href=\"file:///buildworker/worker/package_linux64/build/usr/share/julia/stdlib/v1.5/LinearAlgebra/src/special.jl\" target=\"_blank\">/home/oscar/Descargas/julia-1.5.3-linux-x86_64/julia-1.5.3/share/julia/stdlib/v1.5/LinearAlgebra/src/special.jl:86</a></li> <li> +(A::<b>LinearAlgebra.Bidiagonal</b>, B::<b>LinearAlgebra.LowerTriangular</b>) in LinearAlgebra at <a href=\"file:///buildworker/worker/package_linux64/build/usr/share/julia/stdlib/v1.5/LinearAlgebra/src/special.jl\" target=\"_blank\">/home/oscar/Descargas/julia-1.5.3-linux-x86_64/julia-1.5.3/share/julia/stdlib/v1.5/LinearAlgebra/src/special.jl:94</a></li> <li> +(A::<b>LinearAlgebra.UnitLowerTriangular</b>, B::<b>LinearAlgebra.Bidiagonal</b>) in LinearAlgebra at <a href=\"file:///buildworker/worker/package_linux64/build/usr/share/julia/stdlib/v1.5/LinearAlgebra/src/special.jl\" target=\"_blank\">/home/oscar/Descargas/julia-1.5.3-linux-x86_64/julia-1.5.3/share/julia/stdlib/v1.5/LinearAlgebra/src/special.jl:86</a></li> <li> +(A::<b>LinearAlgebra.Bidiagonal</b>, B::<b>LinearAlgebra.UnitLowerTriangular</b>) in LinearAlgebra at <a href=\"file:///buildworker/worker/package_linux64/build/usr/share/julia/stdlib/v1.5/LinearAlgebra/src/special.jl\" target=\"_blank\">/home/oscar/Descargas/julia-1.5.3-linux-x86_64/julia-1.5.3/share/julia/stdlib/v1.5/LinearAlgebra/src/special.jl:94</a></li> <li> +(A::<b>LinearAlgebra.Bidiagonal</b>, B::<b>LinearAlgebra.Diagonal</b>) in LinearAlgebra at <a href=\"file:///buildworker/worker/package_linux64/build/usr/share/julia/stdlib/v1.5/LinearAlgebra/src/special.jl\" target=\"_blank\">/home/oscar/Descargas/julia-1.5.3-linux-x86_64/julia-1.5.3/share/julia/stdlib/v1.5/LinearAlgebra/src/special.jl:115</a></li> <li> +(A::<b>LinearAlgebra.Diagonal</b>, B::<b>LinearAlgebra.Bidiagonal</b>) in LinearAlgebra at <a href=\"file:///buildworker/worker/package_linux64/build/usr/share/julia/stdlib/v1.5/LinearAlgebra/src/special.jl\" target=\"_blank\">/home/oscar/Descargas/julia-1.5.3-linux-x86_64/julia-1.5.3/share/julia/stdlib/v1.5/LinearAlgebra/src/special.jl:125</a></li> <li> +(A::<b>LinearAlgebra.Diagonal</b>, B::<b>LinearAlgebra.SymTridiagonal</b>) in LinearAlgebra at <a href=\"file:///buildworker/worker/package_linux64/build/usr/share/julia/stdlib/v1.5/LinearAlgebra/src/special.jl\" target=\"_blank\">/home/oscar/Descargas/julia-1.5.3-linux-x86_64/julia-1.5.3/share/julia/stdlib/v1.5/LinearAlgebra/src/special.jl:135</a></li> <li> +(A::<b>LinearAlgebra.SymTridiagonal</b>, B::<b>LinearAlgebra.Diagonal</b>) in LinearAlgebra at <a href=\"file:///buildworker/worker/package_linux64/build/usr/share/julia/stdlib/v1.5/LinearAlgebra/src/special.jl\" target=\"_blank\">/home/oscar/Descargas/julia-1.5.3-linux-x86_64/julia-1.5.3/share/julia/stdlib/v1.5/LinearAlgebra/src/special.jl:145</a></li> <li> +(A::<b>LinearAlgebra.Tridiagonal</b>, B::<b>LinearAlgebra.SymTridiagonal</b>) in LinearAlgebra at <a href=\"file:///buildworker/worker/package_linux64/build/usr/share/julia/stdlib/v1.5/LinearAlgebra/src/special.jl\" target=\"_blank\">/home/oscar/Descargas/julia-1.5.3-linux-x86_64/julia-1.5.3/share/julia/stdlib/v1.5/LinearAlgebra/src/special.jl:157</a></li> <li> +(A::<b>LinearAlgebra.SymTridiagonal</b>, B::<b>LinearAlgebra.Tridiagonal</b>) in LinearAlgebra at <a href=\"file:///buildworker/worker/package_linux64/build/usr/share/julia/stdlib/v1.5/LinearAlgebra/src/special.jl\" target=\"_blank\">/home/oscar/Descargas/julia-1.5.3-linux-x86_64/julia-1.5.3/share/julia/stdlib/v1.5/LinearAlgebra/src/special.jl:159</a></li> <li> +(A::<b>LinearAlgebra.Diagonal</b>, B::<b>LinearAlgebra.Tridiagonal</b>) in LinearAlgebra at <a href=\"file:///buildworker/worker/package_linux64/build/usr/share/julia/stdlib/v1.5/LinearAlgebra/src/special.jl\" target=\"_blank\">/home/oscar/Descargas/julia-1.5.3-linux-x86_64/julia-1.5.3/share/julia/stdlib/v1.5/LinearAlgebra/src/special.jl:163</a></li> <li> +(A::<b>LinearAlgebra.Tridiagonal</b>, B::<b>LinearAlgebra.Diagonal</b>) in LinearAlgebra at <a href=\"file:///buildworker/worker/package_linux64/build/usr/share/julia/stdlib/v1.5/LinearAlgebra/src/special.jl\" target=\"_blank\">/home/oscar/Descargas/julia-1.5.3-linux-x86_64/julia-1.5.3/share/julia/stdlib/v1.5/LinearAlgebra/src/special.jl:173</a></li> <li> +(A::<b>LinearAlgebra.Bidiagonal</b>, B::<b>LinearAlgebra.Tridiagonal</b>) in LinearAlgebra at <a href=\"file:///buildworker/worker/package_linux64/build/usr/share/julia/stdlib/v1.5/LinearAlgebra/src/special.jl\" target=\"_blank\">/home/oscar/Descargas/julia-1.5.3-linux-x86_64/julia-1.5.3/share/julia/stdlib/v1.5/LinearAlgebra/src/special.jl:183</a></li> <li> +(A::<b>LinearAlgebra.Tridiagonal</b>, B::<b>LinearAlgebra.Bidiagonal</b>) in LinearAlgebra at <a href=\"file:///buildworker/worker/package_linux64/build/usr/share/julia/stdlib/v1.5/LinearAlgebra/src/special.jl\" target=\"_blank\">/home/oscar/Descargas/julia-1.5.3-linux-x86_64/julia-1.5.3/share/julia/stdlib/v1.5/LinearAlgebra/src/special.jl:193</a></li> <li> +(A::<b>LinearAlgebra.Bidiagonal</b>, B::<b>LinearAlgebra.SymTridiagonal</b>) in LinearAlgebra at <a href=\"file:///buildworker/worker/package_linux64/build/usr/share/julia/stdlib/v1.5/LinearAlgebra/src/special.jl\" target=\"_blank\">/home/oscar/Descargas/julia-1.5.3-linux-x86_64/julia-1.5.3/share/julia/stdlib/v1.5/LinearAlgebra/src/special.jl:203</a></li> <li> +(A::<b>LinearAlgebra.SymTridiagonal</b>, B::<b>LinearAlgebra.Bidiagonal</b>) in LinearAlgebra at <a href=\"file:///buildworker/worker/package_linux64/build/usr/share/julia/stdlib/v1.5/LinearAlgebra/src/special.jl\" target=\"_blank\">/home/oscar/Descargas/julia-1.5.3-linux-x86_64/julia-1.5.3/share/julia/stdlib/v1.5/LinearAlgebra/src/special.jl:213</a></li> <li> +(A::<b>SparseArrays.AbstractSparseMatrixCSC</b>, B::<b>SparseArrays.AbstractSparseMatrixCSC</b>) in SparseArrays at <a href=\"file:///buildworker/worker/package_linux64/build/usr/share/julia/stdlib/v1.5/SparseArrays/src/sparsematrix.jl\" target=\"_blank\">/home/oscar/Descargas/julia-1.5.3-linux-x86_64/julia-1.5.3/share/julia/stdlib/v1.5/SparseArrays/src/sparsematrix.jl:1679</a></li> <li> +(A::<b>SparseArrays.AbstractSparseMatrixCSC</b>, B::<b>Array</b>) in SparseArrays at <a href=\"file:///buildworker/worker/package_linux64/build/usr/share/julia/stdlib/v1.5/SparseArrays/src/sparsematrix.jl\" target=\"_blank\">/home/oscar/Descargas/julia-1.5.3-linux-x86_64/julia-1.5.3/share/julia/stdlib/v1.5/SparseArrays/src/sparsematrix.jl:1682</a></li> <li> +(x::<b>SparseArrays.AbstractSparseArray{Tv,Ti,1} where Ti where Tv</b>, y::<b>SparseArrays.AbstractSparseArray{Tv,Ti,1} where Ti where Tv</b>) in SparseArrays at <a href=\"file:///buildworker/worker/package_linux64/build/usr/share/julia/stdlib/v1.5/SparseArrays/src/sparsevector.jl\" target=\"_blank\">/home/oscar/Descargas/julia-1.5.3-linux-x86_64/julia-1.5.3/share/julia/stdlib/v1.5/SparseArrays/src/sparsevector.jl:1302</a></li> <li> +(A::<b>SparseArrays.AbstractSparseArray{Tv,Ti,2} where Ti where Tv</b>, B::<b>LinearAlgebra.Hermitian{var\"#s828\",var\"#s827\"} where var\"#s827\"<:(SparseArrays.AbstractSparseArray{Tv,Ti,2} where Ti where Tv) where var\"#s828\"</b>) in SparseArrays at <a href=\"file:///buildworker/worker/package_linux64/build/usr/share/julia/stdlib/v1.5/SparseArrays/src/linalg.jl\" target=\"_blank\">/home/oscar/Descargas/julia-1.5.3-linux-x86_64/julia-1.5.3/share/julia/stdlib/v1.5/SparseArrays/src/linalg.jl:12</a></li> <li> +(A::<b>LinearAlgebra.Hermitian{var\"#s826\",var\"#s825\"} where var\"#s825\"<:(SparseArrays.AbstractSparseArray{Tv,Ti,2} where Ti where Tv) where var\"#s826\"</b>, B::<b>SparseArrays.AbstractSparseArray{Tv,Ti,2} where Ti where Tv</b>) in SparseArrays at <a href=\"file:///buildworker/worker/package_linux64/build/usr/share/julia/stdlib/v1.5/SparseArrays/src/linalg.jl\" target=\"_blank\">/home/oscar/Descargas/julia-1.5.3-linux-x86_64/julia-1.5.3/share/julia/stdlib/v1.5/SparseArrays/src/linalg.jl:13</a></li> <li> +(A::<b>SparseArrays.AbstractSparseArray{Tv,Ti,2} where Ti where Tv</b>, B::<b>LinearAlgebra.Hermitian</b>) in SparseArrays at <a href=\"file:///buildworker/worker/package_linux64/build/usr/share/julia/stdlib/v1.5/SparseArrays/src/linalg.jl\" target=\"_blank\">/home/oscar/Descargas/julia-1.5.3-linux-x86_64/julia-1.5.3/share/julia/stdlib/v1.5/SparseArrays/src/linalg.jl:15</a></li> <li> +(A::<b>LinearAlgebra.Hermitian</b>, B::<b>SparseArrays.AbstractSparseArray{Tv,Ti,2} where Ti where Tv</b>) in SparseArrays at <a href=\"file:///buildworker/worker/package_linux64/build/usr/share/julia/stdlib/v1.5/SparseArrays/src/linalg.jl\" target=\"_blank\">/home/oscar/Descargas/julia-1.5.3-linux-x86_64/julia-1.5.3/share/julia/stdlib/v1.5/SparseArrays/src/linalg.jl:16</a></li> <li> +(A::<b>SparseArrays.AbstractSparseArray{Tv,Ti,2} where Ti where Tv</b>, B::<b>LinearAlgebra.Symmetric{var\"#s828\",var\"#s827\"} where var\"#s827\"<:(SparseArrays.AbstractSparseArray{Tv,Ti,2} where Ti where Tv) where var\"#s828\"</b>) in SparseArrays at <a href=\"file:///buildworker/worker/package_linux64/build/usr/share/julia/stdlib/v1.5/SparseArrays/src/linalg.jl\" target=\"_blank\">/home/oscar/Descargas/julia-1.5.3-linux-x86_64/julia-1.5.3/share/julia/stdlib/v1.5/SparseArrays/src/linalg.jl:12</a></li> <li> +(A::<b>LinearAlgebra.Symmetric{var\"#s826\",var\"#s825\"} where var\"#s825\"<:(SparseArrays.AbstractSparseArray{Tv,Ti,2} where Ti where Tv) where var\"#s826\"</b>, B::<b>SparseArrays.AbstractSparseArray{Tv,Ti,2} where Ti where Tv</b>) in SparseArrays at <a href=\"file:///buildworker/worker/package_linux64/build/usr/share/julia/stdlib/v1.5/SparseArrays/src/linalg.jl\" target=\"_blank\">/home/oscar/Descargas/julia-1.5.3-linux-x86_64/julia-1.5.3/share/julia/stdlib/v1.5/SparseArrays/src/linalg.jl:13</a></li> <li> +(A::<b>SparseArrays.AbstractSparseArray{Tv,Ti,2} where Ti where Tv</b>, B::<b>LinearAlgebra.Symmetric</b>) in SparseArrays at <a href=\"file:///buildworker/worker/package_linux64/build/usr/share/julia/stdlib/v1.5/SparseArrays/src/linalg.jl\" target=\"_blank\">/home/oscar/Descargas/julia-1.5.3-linux-x86_64/julia-1.5.3/share/julia/stdlib/v1.5/SparseArrays/src/linalg.jl:15</a></li> <li> +(A::<b>LinearAlgebra.Symmetric</b>, B::<b>SparseArrays.AbstractSparseArray{Tv,Ti,2} where Ti where Tv</b>) in SparseArrays at <a href=\"file:///buildworker/worker/package_linux64/build/usr/share/julia/stdlib/v1.5/SparseArrays/src/linalg.jl\" target=\"_blank\">/home/oscar/Descargas/julia-1.5.3-linux-x86_64/julia-1.5.3/share/julia/stdlib/v1.5/SparseArrays/src/linalg.jl:16</a></li> <li> +(A::<b>LinearAlgebra.Symmetric{var\"#s828\",var\"#s827\"} where var\"#s827\"<:(SparseArrays.AbstractSparseArray{Tv,Ti,2} where Ti where Tv) where var\"#s828\"</b>, B::<b>LinearAlgebra.Hermitian{var\"#s826\",var\"#s825\"} where var\"#s825\"<:(SparseArrays.AbstractSparseArray{Tv,Ti,2} where Ti where Tv) where var\"#s826\"</b>) in SparseArrays at <a href=\"file:///buildworker/worker/package_linux64/build/usr/share/julia/stdlib/v1.5/SparseArrays/src/linalg.jl\" target=\"_blank\">/home/oscar/Descargas/julia-1.5.3-linux-x86_64/julia-1.5.3/share/julia/stdlib/v1.5/SparseArrays/src/linalg.jl:21</a></li> <li> +(A::<b>LinearAlgebra.Hermitian{var\"#s824\",var\"#s823\"} where var\"#s823\"<:(SparseArrays.AbstractSparseArray{Tv,Ti,2} where Ti where Tv) where var\"#s824\"</b>, B::<b>LinearAlgebra.Symmetric{var\"#s822\",var\"#s821\"} where var\"#s821\"<:(SparseArrays.AbstractSparseArray{Tv,Ti,2} where Ti where Tv) where var\"#s822\"</b>) in SparseArrays at <a href=\"file:///buildworker/worker/package_linux64/build/usr/share/julia/stdlib/v1.5/SparseArrays/src/linalg.jl\" target=\"_blank\">/home/oscar/Descargas/julia-1.5.3-linux-x86_64/julia-1.5.3/share/julia/stdlib/v1.5/SparseArrays/src/linalg.jl:22</a></li> <li> +(x::<b>AbstractArray{var\"#s91\",N} where N where var\"#s91\"<:Number</b>) in Base at <a href=\"https://github.com/JuliaLang/julia/tree/788b2c77c10c2160f4794a4d4b6b81a95a90940c/base/abstractarraymath.jl#L97\" target=\"_blank\">abstractarraymath.jl:97</a></li> <li> +(A::<b>AbstractArray</b>, B::<b>AbstractArray</b>) in Base at <a href=\"https://github.com/JuliaLang/julia/tree/788b2c77c10c2160f4794a4d4b6b81a95a90940c/base/arraymath.jl#L37\" target=\"_blank\">arraymath.jl:37</a></li> <li> +(x::<b>T</b>, y::<b>Integer</b>)<i> where T<:AbstractChar</i> in Base at <a href=\"https://github.com/JuliaLang/julia/tree/788b2c77c10c2160f4794a4d4b6b81a95a90940c/base/char.jl#L223\" target=\"_blank\">char.jl:223</a></li> <li> +(index1::<b>CartesianIndex{N}</b>, index2::<b>CartesianIndex{N}</b>)<i> where N</i> in Base.IteratorsMD at <a href=\"https://github.com/JuliaLang/julia/tree/788b2c77c10c2160f4794a4d4b6b81a95a90940c/base/multidimensional.jl#L113\" target=\"_blank\">multidimensional.jl:113</a></li> <li> +(::<b>Number</b>, ::<b>Missing</b>) in Base at <a href=\"https://github.com/JuliaLang/julia/tree/788b2c77c10c2160f4794a4d4b6b81a95a90940c/base/missing.jl#L116\" target=\"_blank\">missing.jl:116</a></li> <li> +(x::<b>P</b>, y::<b>P</b>)<i> where P<:Dates.Period</i> in Dates at <a href=\"file:///buildworker/worker/package_linux64/build/usr/share/julia/stdlib/v1.5/Dates/src/periods.jl\" target=\"_blank\">/home/oscar/Descargas/julia-1.5.3-linux-x86_64/julia-1.5.3/share/julia/stdlib/v1.5/Dates/src/periods.jl:78</a></li> <li> +(x::<b>Dates.Period</b>, y::<b>Dates.Period</b>) in Dates at <a href=\"file:///buildworker/worker/package_linux64/build/usr/share/julia/stdlib/v1.5/Dates/src/periods.jl\" target=\"_blank\">/home/oscar/Descargas/julia-1.5.3-linux-x86_64/julia-1.5.3/share/julia/stdlib/v1.5/Dates/src/periods.jl:344</a></li> <li> +(y::<b>Dates.Period</b>, x::<b>Dates.CompoundPeriod</b>) in Dates at <a href=\"file:///buildworker/worker/package_linux64/build/usr/share/julia/stdlib/v1.5/Dates/src/periods.jl\" target=\"_blank\">/home/oscar/Descargas/julia-1.5.3-linux-x86_64/julia-1.5.3/share/julia/stdlib/v1.5/Dates/src/periods.jl:346</a></li> <li> +(x::<b>Union{Dates.CompoundPeriod, Dates.Period}</b>) in Dates at <a href=\"file:///buildworker/worker/package_linux64/build/usr/share/julia/stdlib/v1.5/Dates/src/periods.jl\" target=\"_blank\">/home/oscar/Descargas/julia-1.5.3-linux-x86_64/julia-1.5.3/share/julia/stdlib/v1.5/Dates/src/periods.jl:355</a></li> <li> +(x::<b>Dates.TimeType</b>) in Dates at <a href=\"file:///buildworker/worker/package_linux64/build/usr/share/julia/stdlib/v1.5/Dates/src/arithmetic.jl\" target=\"_blank\">/home/oscar/Descargas/julia-1.5.3-linux-x86_64/julia-1.5.3/share/julia/stdlib/v1.5/Dates/src/arithmetic.jl:8</a></li> <li> +(a::<b>Dates.TimeType</b>, b::<b>Dates.Period</b>, c::<b>Dates.Period</b>) in Dates at <a href=\"file:///buildworker/worker/package_linux64/build/usr/share/julia/stdlib/v1.5/Dates/src/periods.jl\" target=\"_blank\">/home/oscar/Descargas/julia-1.5.3-linux-x86_64/julia-1.5.3/share/julia/stdlib/v1.5/Dates/src/periods.jl:366</a></li> <li> +(a::<b>Dates.TimeType</b>, b::<b>Dates.Period</b>, c::<b>Dates.Period</b>, d::<b>Dates.Period...</b>) in Dates at <a href=\"file:///buildworker/worker/package_linux64/build/usr/share/julia/stdlib/v1.5/Dates/src/periods.jl\" target=\"_blank\">/home/oscar/Descargas/julia-1.5.3-linux-x86_64/julia-1.5.3/share/julia/stdlib/v1.5/Dates/src/periods.jl:367</a></li> <li> +(x::<b>Dates.TimeType</b>, y::<b>Dates.CompoundPeriod</b>) in Dates at <a href=\"file:///buildworker/worker/package_linux64/build/usr/share/julia/stdlib/v1.5/Dates/src/periods.jl\" target=\"_blank\">/home/oscar/Descargas/julia-1.5.3-linux-x86_64/julia-1.5.3/share/julia/stdlib/v1.5/Dates/src/periods.jl:369</a></li> <li> +(x::<b>Dates.Instant</b>) in Dates at <a href=\"file:///buildworker/worker/package_linux64/build/usr/share/julia/stdlib/v1.5/Dates/src/arithmetic.jl\" target=\"_blank\">/home/oscar/Descargas/julia-1.5.3-linux-x86_64/julia-1.5.3/share/julia/stdlib/v1.5/Dates/src/arithmetic.jl:4</a></li> <li> +(y::<b>Dates.Period</b>, x::<b>Dates.TimeType</b>) in Dates at <a href=\"file:///buildworker/worker/package_linux64/build/usr/share/julia/stdlib/v1.5/Dates/src/arithmetic.jl\" target=\"_blank\">/home/oscar/Descargas/julia-1.5.3-linux-x86_64/julia-1.5.3/share/julia/stdlib/v1.5/Dates/src/arithmetic.jl:80</a></li> <li> +(x::<b>Dates.Period</b>, r::<b>AbstractRange{var\"#s828\"} where var\"#s828\"<:Dates.TimeType</b>) in Dates at <a href=\"file:///buildworker/worker/package_linux64/build/usr/share/julia/stdlib/v1.5/Dates/src/ranges.jl\" target=\"_blank\">/home/oscar/Descargas/julia-1.5.3-linux-x86_64/julia-1.5.3/share/julia/stdlib/v1.5/Dates/src/ranges.jl:58</a></li> <li> +(x::<b>AbstractArray{var\"#s828\",N} where N where var\"#s828\"<:Dates.TimeType</b>, y::<b>Union{Dates.CompoundPeriod, Dates.Period}</b>) in Dates at <a href=\"file:///buildworker/worker/package_linux64/build/usr/share/julia/stdlib/v1.5/Dates/src/deprecated.jl\" target=\"_blank\">/home/oscar/Descargas/julia-1.5.3-linux-x86_64/julia-1.5.3/share/julia/stdlib/v1.5/Dates/src/deprecated.jl:6</a></li> <li> +(y::<b>Union{Dates.CompoundPeriod, Dates.Period}</b>, x::<b>AbstractArray{var\"#s828\",N} where N where var\"#s828\"<:Dates.TimeType</b>) in Dates at <a href=\"file:///buildworker/worker/package_linux64/build/usr/share/julia/stdlib/v1.5/Dates/src/deprecated.jl\" target=\"_blank\">/home/oscar/Descargas/julia-1.5.3-linux-x86_64/julia-1.5.3/share/julia/stdlib/v1.5/Dates/src/deprecated.jl:14</a></li> <li> +(y::<b>Dates.TimeType</b>, x::<b>StridedArray{var\"#s828\", N} where N where var\"#s828\"<:Union{Dates.CompoundPeriod, Dates.Period}</b>) in Dates at <a href=\"file:///buildworker/worker/package_linux64/build/usr/share/julia/stdlib/v1.5/Dates/src/deprecated.jl\" target=\"_blank\">/home/oscar/Descargas/julia-1.5.3-linux-x86_64/julia-1.5.3/share/julia/stdlib/v1.5/Dates/src/deprecated.jl:18</a></li> <li> +(J::<b>LinearAlgebra.UniformScaling</b>, x::<b>Number</b>) in LinearAlgebra at <a href=\"file:///buildworker/worker/package_linux64/build/usr/share/julia/stdlib/v1.5/LinearAlgebra/src/uniformscaling.jl\" target=\"_blank\">/home/oscar/Descargas/julia-1.5.3-linux-x86_64/julia-1.5.3/share/julia/stdlib/v1.5/LinearAlgebra/src/uniformscaling.jl:111</a></li> <li> +(x::<b>Number</b>, J::<b>LinearAlgebra.UniformScaling</b>) in LinearAlgebra at <a href=\"file:///buildworker/worker/package_linux64/build/usr/share/julia/stdlib/v1.5/LinearAlgebra/src/uniformscaling.jl\" target=\"_blank\">/home/oscar/Descargas/julia-1.5.3-linux-x86_64/julia-1.5.3/share/julia/stdlib/v1.5/LinearAlgebra/src/uniformscaling.jl:112</a></li> <li> +(J1::<b>LinearAlgebra.UniformScaling</b>, J2::<b>LinearAlgebra.UniformScaling</b>) in LinearAlgebra at <a href=\"file:///buildworker/worker/package_linux64/build/usr/share/julia/stdlib/v1.5/LinearAlgebra/src/uniformscaling.jl\" target=\"_blank\">/home/oscar/Descargas/julia-1.5.3-linux-x86_64/julia-1.5.3/share/julia/stdlib/v1.5/LinearAlgebra/src/uniformscaling.jl:116</a></li> <li> +(J::<b>LinearAlgebra.UniformScaling</b>, B::<b>BitArray{2}</b>) in LinearAlgebra at <a href=\"file:///buildworker/worker/package_linux64/build/usr/share/julia/stdlib/v1.5/LinearAlgebra/src/uniformscaling.jl\" target=\"_blank\">/home/oscar/Descargas/julia-1.5.3-linux-x86_64/julia-1.5.3/share/julia/stdlib/v1.5/LinearAlgebra/src/uniformscaling.jl:118</a></li> <li> +(A::<b>LinearAlgebra.UniformScaling</b>, B::<b>LinearAlgebra.Tridiagonal{var\"#s828\",V} where V<:AbstractArray{var\"#s828\",1} where var\"#s828\"<:Number</b>) in LinearAlgebra at <a href=\"file:///buildworker/worker/package_linux64/build/usr/share/julia/stdlib/v1.5/LinearAlgebra/src/special.jl\" target=\"_blank\">/home/oscar/Descargas/julia-1.5.3-linux-x86_64/julia-1.5.3/share/julia/stdlib/v1.5/LinearAlgebra/src/special.jl:245</a></li> <li> +(A::<b>LinearAlgebra.UniformScaling</b>, B::<b>LinearAlgebra.SymTridiagonal{var\"#s828\",V} where V<:AbstractArray{var\"#s828\",1} where var\"#s828\"<:Number</b>) in LinearAlgebra at <a href=\"file:///buildworker/worker/package_linux64/build/usr/share/julia/stdlib/v1.5/LinearAlgebra/src/special.jl\" target=\"_blank\">/home/oscar/Descargas/julia-1.5.3-linux-x86_64/julia-1.5.3/share/julia/stdlib/v1.5/LinearAlgebra/src/special.jl:250</a></li> <li> +(A::<b>LinearAlgebra.UniformScaling</b>, B::<b>LinearAlgebra.Bidiagonal{var\"#s828\",V} where V<:AbstractArray{var\"#s828\",1} where var\"#s828\"<:Number</b>) in LinearAlgebra at <a href=\"file:///buildworker/worker/package_linux64/build/usr/share/julia/stdlib/v1.5/LinearAlgebra/src/special.jl\" target=\"_blank\">/home/oscar/Descargas/julia-1.5.3-linux-x86_64/julia-1.5.3/share/julia/stdlib/v1.5/LinearAlgebra/src/special.jl:255</a></li> <li> +(A::<b>LinearAlgebra.UniformScaling</b>, B::<b>LinearAlgebra.Diagonal{var\"#s828\",V} where V<:AbstractArray{var\"#s828\",1} where var\"#s828\"<:Number</b>) in LinearAlgebra at <a href=\"file:///buildworker/worker/package_linux64/build/usr/share/julia/stdlib/v1.5/LinearAlgebra/src/special.jl\" target=\"_blank\">/home/oscar/Descargas/julia-1.5.3-linux-x86_64/julia-1.5.3/share/julia/stdlib/v1.5/LinearAlgebra/src/special.jl:260</a></li> <li> +(J::<b>LinearAlgebra.UniformScaling</b>, A::<b>AbstractArray{T,2} where T</b>) in LinearAlgebra at <a href=\"file:///buildworker/worker/package_linux64/build/usr/share/julia/stdlib/v1.5/LinearAlgebra/src/uniformscaling.jl\" target=\"_blank\">/home/oscar/Descargas/julia-1.5.3-linux-x86_64/julia-1.5.3/share/julia/stdlib/v1.5/LinearAlgebra/src/uniformscaling.jl:119</a></li> <li> +(F::<b>LinearAlgebra.Hessenberg</b>, J::<b>LinearAlgebra.UniformScaling</b>) in LinearAlgebra at <a href=\"file:///buildworker/worker/package_linux64/build/usr/share/julia/stdlib/v1.5/LinearAlgebra/src/hessenberg.jl\" target=\"_blank\">/home/oscar/Descargas/julia-1.5.3-linux-x86_64/julia-1.5.3/share/julia/stdlib/v1.5/LinearAlgebra/src/hessenberg.jl:559</a></li> <li> +(J::<b>LinearAlgebra.UniformScaling</b>, F::<b>LinearAlgebra.Hessenberg</b>) in LinearAlgebra at <a href=\"file:///buildworker/worker/package_linux64/build/usr/share/julia/stdlib/v1.5/LinearAlgebra/src/hessenberg.jl\" target=\"_blank\">/home/oscar/Descargas/julia-1.5.3-linux-x86_64/julia-1.5.3/share/julia/stdlib/v1.5/LinearAlgebra/src/hessenberg.jl:560</a></li> <li> +(a, b, c, xs...) in Base at <a href=\"https://github.com/JuliaLang/julia/tree/788b2c77c10c2160f4794a4d4b6b81a95a90940c/base/operators.jl#L538\" target=\"_blank\">operators.jl:538</a></li> </ul>"
      ],
      "text/plain": [
       "# 184 methods for generic function \"+\":\n",
       "[1] +(z::Complex{Bool}, x::Bool) in Base at complex.jl:287\n",
       "[2] +(z::Complex{Bool}, x::Real) in Base at complex.jl:301\n",
       "[3] +(B::BitArray{2}, J::LinearAlgebra.UniformScaling) in LinearAlgebra at /home/oscar/Descargas/julia-1.5.3-linux-x86_64/julia-1.5.3/share/julia/stdlib/v1.5/LinearAlgebra/src/uniformscaling.jl:117\n",
       "[4] +(a::Pkg.Resolve.VersionWeight, b::Pkg.Resolve.VersionWeight) in Pkg.Resolve at /home/oscar/Descargas/julia-1.5.3-linux-x86_64/julia-1.5.3/share/julia/stdlib/v1.5/Pkg/src/Resolve/versionweights.jl:22\n",
       "[5] +(a::Float16, b::Float16) in Base at float.jl:398\n",
       "[6] +(x::Dates.Date, y::Dates.Day) in Dates at /home/oscar/Descargas/julia-1.5.3-linux-x86_64/julia-1.5.3/share/julia/stdlib/v1.5/Dates/src/arithmetic.jl:74\n",
       "[7] +(x::Dates.Date, y::Dates.Week) in Dates at /home/oscar/Descargas/julia-1.5.3-linux-x86_64/julia-1.5.3/share/julia/stdlib/v1.5/Dates/src/arithmetic.jl:72\n",
       "[8] +(dt::Dates.Date, z::Dates.Month) in Dates at /home/oscar/Descargas/julia-1.5.3-linux-x86_64/julia-1.5.3/share/julia/stdlib/v1.5/Dates/src/arithmetic.jl:54\n",
       "[9] +(dt::Dates.Date, y::Dates.Year) in Dates at /home/oscar/Descargas/julia-1.5.3-linux-x86_64/julia-1.5.3/share/julia/stdlib/v1.5/Dates/src/arithmetic.jl:27\n",
       "[10] +(dt::Dates.Date, t::Dates.Time) in Dates at /home/oscar/Descargas/julia-1.5.3-linux-x86_64/julia-1.5.3/share/julia/stdlib/v1.5/Dates/src/arithmetic.jl:19\n",
       "[11] +(x::Dates.CompoundPeriod, y::Dates.CompoundPeriod) in Dates at /home/oscar/Descargas/julia-1.5.3-linux-x86_64/julia-1.5.3/share/julia/stdlib/v1.5/Dates/src/periods.jl:347\n",
       "[12] +(x::Dates.CompoundPeriod, y::Dates.Period) in Dates at /home/oscar/Descargas/julia-1.5.3-linux-x86_64/julia-1.5.3/share/julia/stdlib/v1.5/Dates/src/periods.jl:345\n",
       "[13] +(x::Dates.CompoundPeriod, y::Dates.TimeType) in Dates at /home/oscar/Descargas/julia-1.5.3-linux-x86_64/julia-1.5.3/share/julia/stdlib/v1.5/Dates/src/periods.jl:375\n",
       "[14] +(t::Dates.Time, dt::Dates.Date) in Dates at /home/oscar/Descargas/julia-1.5.3-linux-x86_64/julia-1.5.3/share/julia/stdlib/v1.5/Dates/src/arithmetic.jl:20\n",
       "[15] +(x::Dates.Time, y::Dates.TimePeriod) in Dates at /home/oscar/Descargas/julia-1.5.3-linux-x86_64/julia-1.5.3/share/julia/stdlib/v1.5/Dates/src/arithmetic.jl:78\n",
       "[16] +(x::Bool, z::Complex{Bool}) in Base at complex.jl:286\n",
       "[17] +(x::Bool, y::Bool) in Base at bool.jl:96\n",
       "[18] +(x::Bool) in Base at bool.jl:93\n",
       "[19] +(x::Bool, y::T) where T<:AbstractFloat in Base at bool.jl:103\n",
       "[20] +(x::Bool, z::Complex) in Base at complex.jl:293\n",
       "[21] +(dt::Dates.DateTime, z::Dates.Month) in Dates at /home/oscar/Descargas/julia-1.5.3-linux-x86_64/julia-1.5.3/share/julia/stdlib/v1.5/Dates/src/arithmetic.jl:47\n",
       "[22] +(dt::Dates.DateTime, y::Dates.Year) in Dates at /home/oscar/Descargas/julia-1.5.3-linux-x86_64/julia-1.5.3/share/julia/stdlib/v1.5/Dates/src/arithmetic.jl:23\n",
       "[23] +(x::Dates.DateTime, y::Dates.Period) in Dates at /home/oscar/Descargas/julia-1.5.3-linux-x86_64/julia-1.5.3/share/julia/stdlib/v1.5/Dates/src/arithmetic.jl:76\n",
       "[24] +(c::BigInt, x::BigFloat) in Base.MPFR at mpfr.jl:399\n",
       "[25] +(a::BigInt, b::BigInt, c::BigInt, d::BigInt, e::BigInt) in Base.GMP at gmp.jl:518\n",
       "[26] +(a::BigInt, b::BigInt, c::BigInt, d::BigInt) in Base.GMP at gmp.jl:517\n",
       "[27] +(a::BigInt, b::BigInt, c::BigInt) in Base.GMP at gmp.jl:516\n",
       "[28] +(x::BigInt, y::BigInt) in Base.GMP at gmp.jl:476\n",
       "[29] +(x::BigInt, c::Union{UInt16, UInt32, UInt64, UInt8}) in Base.GMP at gmp.jl:524\n",
       "[30] +(x::BigInt, c::Union{Int16, Int32, Int64, Int8}) in Base.GMP at gmp.jl:530\n",
       "[31] +(x::Float64, y::Float64) in Base at float.jl:401\n",
       "[32] +(level::Base.CoreLogging.LogLevel, inc::Integer) in Base.CoreLogging at logging.jl:116\n",
       "[33] +(a::Pkg.Resolve.FieldValue, b::Pkg.Resolve.FieldValue) in Pkg.Resolve at /home/oscar/Descargas/julia-1.5.3-linux-x86_64/julia-1.5.3/share/julia/stdlib/v1.5/Pkg/src/Resolve/fieldvalues.jl:43\n",
       "[34] +(a::BigFloat, b::BigFloat, c::BigFloat, d::BigFloat, e::BigFloat) in Base.MPFR at mpfr.jl:548\n",
       "[35] +(a::BigFloat, b::BigFloat, c::BigFloat, d::BigFloat) in Base.MPFR at mpfr.jl:541\n",
       "[36] +(a::BigFloat, b::BigFloat, c::BigFloat) in Base.MPFR at mpfr.jl:535\n",
       "[37] +(x::BigFloat, c::BigInt) in Base.MPFR at mpfr.jl:394\n",
       "[38] +(x::BigFloat, y::BigFloat) in Base.MPFR at mpfr.jl:363\n",
       "[39] +(x::BigFloat, c::Union{UInt16, UInt32, UInt64, UInt8}) in Base.MPFR at mpfr.jl:370\n",
       "[40] +(x::BigFloat, c::Union{Int16, Int32, Int64, Int8}) in Base.MPFR at mpfr.jl:378\n",
       "[41] +(x::BigFloat, c::Union{Float16, Float32, Float64}) in Base.MPFR at mpfr.jl:386\n",
       "[42] +(::Missing, ::Missing) in Base at missing.jl:114\n",
       "[43] +(::Missing) in Base at missing.jl:100\n",
       "[44] +(::Missing, ::Number) in Base at missing.jl:115\n",
       "[45] +(x::Float32, y::Float32) in Base at float.jl:400\n",
       "[46] +(y::AbstractFloat, x::Bool) in Base at bool.jl:106\n",
       "[47] +(x::T, y::T) where T<:Union{Int128, Int16, Int32, Int64, Int8, UInt128, UInt16, UInt32, UInt64, UInt8} in Base at int.jl:86\n",
       "[48] +(c::Union{UInt16, UInt32, UInt64, UInt8}, x::BigInt) in Base.GMP at gmp.jl:525\n",
       "[49] +(c::Union{Int16, Int32, Int64, Int8}, x::BigInt) in Base.GMP at gmp.jl:531\n",
       "[50] +(a::Integer, b::Integer) in Base at int.jl:918\n",
       "[51] +(x::Integer, y::Ptr) in Base at pointer.jl:161\n",
       "[52] +(z::Complex) in Base at complex.jl:273\n",
       "[53] +(z::Complex, w::Complex) in Base at complex.jl:275\n",
       "[54] +(z::Complex, x::Bool) in Base at complex.jl:294\n",
       "[55] +(x::Rational) in Base at rational.jl:266\n",
       "[56] +(x::Real, z::Complex{Bool}) in Base at complex.jl:300\n",
       "[57] +(x::Real, z::Complex) in Base at complex.jl:312\n",
       "[58] +(z::Complex, x::Real) in Base at complex.jl:313\n",
       "[59] +(x::Rational, y::Rational) in Base at rational.jl:282\n",
       "[60] +(x::Rational, y::Integer) in Base at rational.jl:287\n",
       "[61] +(y::Integer, x::Rational) in Base at rational.jl:294\n",
       "[62] +(x::Integer, y::AbstractChar) in Base at char.jl:224\n",
       "[63] +(c::Union{UInt16, UInt32, UInt64, UInt8}, x::BigFloat) in Base.MPFR at mpfr.jl:375\n",
       "[64] +(c::Union{Int16, Int32, Int64, Int8}, x::BigFloat) in Base.MPFR at mpfr.jl:383\n",
       "[65] +(c::Union{Float16, Float32, Float64}, x::BigFloat) in Base.MPFR at mpfr.jl:391\n",
       "[66] +(x::AbstractIrrational, y::AbstractIrrational) in Base at irrationals.jl:156\n",
       "[67] +(x::Number) in Base at operators.jl:513\n",
       "[68] +(x::T, y::T) where T<:Number in Base at promotion.jl:384\n",
       "[69] +(x::Number, y::Number) in Base at promotion.jl:311\n",
       "[70] +(r1::OrdinalRange, r2::OrdinalRange) in Base at range.jl:1055\n",
       "[71] +(r1::LinRange{T}, r2::LinRange{T}) where T in Base at range.jl:1062\n",
       "[72] +(r1::StepRangeLen{T,R,S} where S, r2::StepRangeLen{T,R,S} where S) where {R<:Base.TwicePrecision, T} in Base at twiceprecision.jl:577\n",
       "[73] +(r1::StepRangeLen{T,S,S1} where S1, r2::StepRangeLen{T,S,S1} where S1) where {T, S} in Base at range.jl:1078\n",
       "[74] +(r1::Union{LinRange, OrdinalRange, StepRangeLen}, r2::Union{LinRange, OrdinalRange, StepRangeLen}) in Base at range.jl:1071\n",
       "[75] +(x::Ptr, y::Integer) in Base at pointer.jl:159\n",
       "[76] +(x::Base.TwicePrecision, y::Number) in Base at twiceprecision.jl:267\n",
       "[77] +(x::Number, y::Base.TwicePrecision) in Base at twiceprecision.jl:271\n",
       "[78] +(x::Base.TwicePrecision{T}, y::Base.TwicePrecision{T}) where T in Base at twiceprecision.jl:273\n",
       "[79] +(x::Base.TwicePrecision, y::Base.TwicePrecision) in Base at twiceprecision.jl:278\n",
       "[80] +(A::Array, Bs::Array...) in Base at arraymath.jl:43\n",
       "[81] +(A::BitArray, B::BitArray) in Base at bitarray.jl:1110\n",
       "[82] +(r::AbstractRange{var\"#s828\"} where var\"#s828\"<:Dates.TimeType, x::Dates.Period) in Dates at /home/oscar/Descargas/julia-1.5.3-linux-x86_64/julia-1.5.3/share/julia/stdlib/v1.5/Dates/src/ranges.jl:59\n",
       "[83] +(A::Array, B::SparseArrays.AbstractSparseMatrixCSC) in SparseArrays at /home/oscar/Descargas/julia-1.5.3-linux-x86_64/julia-1.5.3/share/julia/stdlib/v1.5/SparseArrays/src/sparsematrix.jl:1683\n",
       "[84] +(x::StridedArray{var\"#s828\", N} where N where var\"#s828\"<:Union{Dates.CompoundPeriod, Dates.Period}) in Dates at /home/oscar/Descargas/julia-1.5.3-linux-x86_64/julia-1.5.3/share/julia/stdlib/v1.5/Dates/src/deprecated.jl:55\n",
       "[85] +(x::StridedArray{var\"#s828\", N} where N where var\"#s828\"<:Union{Dates.CompoundPeriod, Dates.Period}, y::Dates.TimeType) in Dates at /home/oscar/Descargas/julia-1.5.3-linux-x86_64/julia-1.5.3/share/julia/stdlib/v1.5/Dates/src/deprecated.jl:10\n",
       "[86] +(X::StridedArray{var\"#s828\", N} where N where var\"#s828\"<:Union{Dates.CompoundPeriod, Dates.Period}, Y::StridedArray{var\"#s827\", N} where N where var\"#s827\"<:Union{Dates.CompoundPeriod, Dates.Period}) in Dates at /home/oscar/Descargas/julia-1.5.3-linux-x86_64/julia-1.5.3/share/julia/stdlib/v1.5/Dates/src/deprecated.jl:62\n",
       "[87] +(A::LinearAlgebra.SymTridiagonal, B::LinearAlgebra.SymTridiagonal) in LinearAlgebra at /home/oscar/Descargas/julia-1.5.3-linux-x86_64/julia-1.5.3/share/julia/stdlib/v1.5/LinearAlgebra/src/tridiag.jl:205\n",
       "[88] +(A::LinearAlgebra.Tridiagonal, B::LinearAlgebra.Tridiagonal) in LinearAlgebra at /home/oscar/Descargas/julia-1.5.3-linux-x86_64/julia-1.5.3/share/julia/stdlib/v1.5/LinearAlgebra/src/tridiag.jl:732\n",
       "[89] +(A::LinearAlgebra.UpperTriangular, B::LinearAlgebra.UpperTriangular) in LinearAlgebra at /home/oscar/Descargas/julia-1.5.3-linux-x86_64/julia-1.5.3/share/julia/stdlib/v1.5/LinearAlgebra/src/triangular.jl:659\n",
       "[90] +(A::LinearAlgebra.LowerTriangular, B::LinearAlgebra.LowerTriangular) in LinearAlgebra at /home/oscar/Descargas/julia-1.5.3-linux-x86_64/julia-1.5.3/share/julia/stdlib/v1.5/LinearAlgebra/src/triangular.jl:660\n",
       "[91] +(A::LinearAlgebra.UpperTriangular, B::LinearAlgebra.UnitUpperTriangular) in LinearAlgebra at /home/oscar/Descargas/julia-1.5.3-linux-x86_64/julia-1.5.3/share/julia/stdlib/v1.5/LinearAlgebra/src/triangular.jl:661\n",
       "[92] +(A::LinearAlgebra.LowerTriangular, B::LinearAlgebra.UnitLowerTriangular) in LinearAlgebra at /home/oscar/Descargas/julia-1.5.3-linux-x86_64/julia-1.5.3/share/julia/stdlib/v1.5/LinearAlgebra/src/triangular.jl:662\n",
       "[93] +(A::LinearAlgebra.UnitUpperTriangular, B::LinearAlgebra.UpperTriangular) in LinearAlgebra at /home/oscar/Descargas/julia-1.5.3-linux-x86_64/julia-1.5.3/share/julia/stdlib/v1.5/LinearAlgebra/src/triangular.jl:663\n",
       "[94] +(A::LinearAlgebra.UnitLowerTriangular, B::LinearAlgebra.LowerTriangular) in LinearAlgebra at /home/oscar/Descargas/julia-1.5.3-linux-x86_64/julia-1.5.3/share/julia/stdlib/v1.5/LinearAlgebra/src/triangular.jl:664\n",
       "[95] +(A::LinearAlgebra.UnitUpperTriangular, B::LinearAlgebra.UnitUpperTriangular) in LinearAlgebra at /home/oscar/Descargas/julia-1.5.3-linux-x86_64/julia-1.5.3/share/julia/stdlib/v1.5/LinearAlgebra/src/triangular.jl:665\n",
       "[96] +(A::LinearAlgebra.UnitLowerTriangular, B::LinearAlgebra.UnitLowerTriangular) in LinearAlgebra at /home/oscar/Descargas/julia-1.5.3-linux-x86_64/julia-1.5.3/share/julia/stdlib/v1.5/LinearAlgebra/src/triangular.jl:666\n",
       "[97] +(A::LinearAlgebra.AbstractTriangular, B::LinearAlgebra.AbstractTriangular) in LinearAlgebra at /home/oscar/Descargas/julia-1.5.3-linux-x86_64/julia-1.5.3/share/julia/stdlib/v1.5/LinearAlgebra/src/triangular.jl:667\n",
       "[98] +(A::LinearAlgebra.Hermitian, B::LinearAlgebra.Hermitian) in LinearAlgebra at /home/oscar/Descargas/julia-1.5.3-linux-x86_64/julia-1.5.3/share/julia/stdlib/v1.5/LinearAlgebra/src/symmetric.jl:466\n",
       "[99] +(A::LinearAlgebra.Symmetric, B::LinearAlgebra.Symmetric) in LinearAlgebra at /home/oscar/Descargas/julia-1.5.3-linux-x86_64/julia-1.5.3/share/julia/stdlib/v1.5/LinearAlgebra/src/symmetric.jl:466\n",
       "[100] +(A::LinearAlgebra.Hermitian{var\"#s816\",var\"#s815\"} where var\"#s815\"<:(SparseArrays.AbstractSparseArray{Tv,Ti,2} where Ti where Tv) where var\"#s816\", B::LinearAlgebra.Symmetric{var\"#s814\",var\"#s813\"} where var\"#s813\"<:(SparseArrays.AbstractSparseArray{Tv,Ti,2} where Ti where Tv) where var\"#s814\"<:Real) in SparseArrays at /home/oscar/Descargas/julia-1.5.3-linux-x86_64/julia-1.5.3/share/julia/stdlib/v1.5/SparseArrays/src/linalg.jl:24\n",
       "[101] +(A::LinearAlgebra.Hermitian, B::LinearAlgebra.Symmetric{var\"#s828\",S} where S<:(AbstractArray{var\"#s8281\",2} where var\"#s8281\"<:var\"#s828\") where var\"#s828\"<:Real) in LinearAlgebra at /home/oscar/Descargas/julia-1.5.3-linux-x86_64/julia-1.5.3/share/julia/stdlib/v1.5/LinearAlgebra/src/symmetric.jl:480\n",
       "[102] +(A::LinearAlgebra.Symmetric{var\"#s820\",var\"#s819\"} where var\"#s819\"<:(SparseArrays.AbstractSparseArray{Tv,Ti,2} where Ti where Tv) where var\"#s820\"<:Real, B::LinearAlgebra.Hermitian{var\"#s818\",var\"#s817\"} where var\"#s817\"<:(SparseArrays.AbstractSparseArray{Tv,Ti,2} where Ti where Tv) where var\"#s818\") in SparseArrays at /home/oscar/Descargas/julia-1.5.3-linux-x86_64/julia-1.5.3/share/julia/stdlib/v1.5/SparseArrays/src/linalg.jl:23\n",
       "[103] +(A::LinearAlgebra.Symmetric{var\"#s827\",S} where S<:(AbstractArray{var\"#s828\",2} where var\"#s828\"<:var\"#s827\") where var\"#s827\"<:Real, B::LinearAlgebra.Hermitian) in LinearAlgebra at /home/oscar/Descargas/julia-1.5.3-linux-x86_64/julia-1.5.3/share/julia/stdlib/v1.5/LinearAlgebra/src/symmetric.jl:481\n",
       "[104] +(Da::LinearAlgebra.Diagonal, Db::LinearAlgebra.Diagonal) in LinearAlgebra at /home/oscar/Descargas/julia-1.5.3-linux-x86_64/julia-1.5.3/share/julia/stdlib/v1.5/LinearAlgebra/src/diagonal.jl:156\n",
       "[105] +(D::LinearAlgebra.Diagonal, S::LinearAlgebra.Symmetric) in LinearAlgebra at /home/oscar/Descargas/julia-1.5.3-linux-x86_64/julia-1.5.3/share/julia/stdlib/v1.5/LinearAlgebra/src/diagonal.jl:160\n",
       "[106] +(S::LinearAlgebra.Symmetric, D::LinearAlgebra.Diagonal) in LinearAlgebra at /home/oscar/Descargas/julia-1.5.3-linux-x86_64/julia-1.5.3/share/julia/stdlib/v1.5/LinearAlgebra/src/diagonal.jl:163\n",
       "[107] +(D::LinearAlgebra.Diagonal{var\"#s828\",V} where V<:AbstractArray{var\"#s828\",1} where var\"#s828\"<:Real, H::LinearAlgebra.Hermitian) in LinearAlgebra at /home/oscar/Descargas/julia-1.5.3-linux-x86_64/julia-1.5.3/share/julia/stdlib/v1.5/LinearAlgebra/src/diagonal.jl:166\n",
       "[108] +(H::LinearAlgebra.Hermitian, D::LinearAlgebra.Diagonal{var\"#s828\",V} where V<:AbstractArray{var\"#s828\",1} where var\"#s828\"<:Real) in LinearAlgebra at /home/oscar/Descargas/julia-1.5.3-linux-x86_64/julia-1.5.3/share/julia/stdlib/v1.5/LinearAlgebra/src/diagonal.jl:169\n",
       "[109] +(A::LinearAlgebra.Bidiagonal, B::LinearAlgebra.Bidiagonal) in LinearAlgebra at /home/oscar/Descargas/julia-1.5.3-linux-x86_64/julia-1.5.3/share/julia/stdlib/v1.5/LinearAlgebra/src/bidiag.jl:347\n",
       "[110] +(UL::LinearAlgebra.UnitUpperTriangular, J::LinearAlgebra.UniformScaling) in LinearAlgebra at /home/oscar/Descargas/julia-1.5.3-linux-x86_64/julia-1.5.3/share/julia/stdlib/v1.5/LinearAlgebra/src/uniformscaling.jl:147\n",
       "[111] +(UL::LinearAlgebra.UnitLowerTriangular, J::LinearAlgebra.UniformScaling) in LinearAlgebra at /home/oscar/Descargas/julia-1.5.3-linux-x86_64/julia-1.5.3/share/julia/stdlib/v1.5/LinearAlgebra/src/uniformscaling.jl:147\n",
       "[112] +(A::LinearAlgebra.Hermitian, J::LinearAlgebra.UniformScaling{var\"#s828\"} where var\"#s828\"<:Complex) in LinearAlgebra at /home/oscar/Descargas/julia-1.5.3-linux-x86_64/julia-1.5.3/share/julia/stdlib/v1.5/LinearAlgebra/src/uniformscaling.jl:161\n",
       "[113] +(H::LinearAlgebra.UpperHessenberg, J::LinearAlgebra.UniformScaling) in LinearAlgebra at /home/oscar/Descargas/julia-1.5.3-linux-x86_64/julia-1.5.3/share/julia/stdlib/v1.5/LinearAlgebra/src/hessenberg.jl:106\n",
       "[114] +(A::LinearAlgebra.Tridiagonal{var\"#s828\",V} where V<:AbstractArray{var\"#s828\",1} where var\"#s828\"<:Number, B::LinearAlgebra.UniformScaling) in LinearAlgebra at /home/oscar/Descargas/julia-1.5.3-linux-x86_64/julia-1.5.3/share/julia/stdlib/v1.5/LinearAlgebra/src/special.jl:226\n",
       "[115] +(A::LinearAlgebra.SymTridiagonal{var\"#s828\",V} where V<:AbstractArray{var\"#s828\",1} where var\"#s828\"<:Number, B::LinearAlgebra.UniformScaling) in LinearAlgebra at /home/oscar/Descargas/julia-1.5.3-linux-x86_64/julia-1.5.3/share/julia/stdlib/v1.5/LinearAlgebra/src/special.jl:231\n",
       "[116] +(A::LinearAlgebra.Bidiagonal{var\"#s828\",V} where V<:AbstractArray{var\"#s828\",1} where var\"#s828\"<:Number, B::LinearAlgebra.UniformScaling) in LinearAlgebra at /home/oscar/Descargas/julia-1.5.3-linux-x86_64/julia-1.5.3/share/julia/stdlib/v1.5/LinearAlgebra/src/special.jl:236\n",
       "[117] +(A::LinearAlgebra.Diagonal{var\"#s828\",V} where V<:AbstractArray{var\"#s828\",1} where var\"#s828\"<:Number, B::LinearAlgebra.UniformScaling) in LinearAlgebra at /home/oscar/Descargas/julia-1.5.3-linux-x86_64/julia-1.5.3/share/julia/stdlib/v1.5/LinearAlgebra/src/special.jl:241\n",
       "[118] +(A::SparseArrays.AbstractSparseMatrixCSC, J::LinearAlgebra.UniformScaling) in SparseArrays at /home/oscar/Descargas/julia-1.5.3-linux-x86_64/julia-1.5.3/share/julia/stdlib/v1.5/SparseArrays/src/sparsematrix.jl:3641\n",
       "[119] +(A::AbstractArray{T,2} where T, J::LinearAlgebra.UniformScaling) in LinearAlgebra at /home/oscar/Descargas/julia-1.5.3-linux-x86_64/julia-1.5.3/share/julia/stdlib/v1.5/LinearAlgebra/src/uniformscaling.jl:180\n",
       "[120] +(A::LinearAlgebra.UpperHessenberg, B::LinearAlgebra.UpperHessenberg) in LinearAlgebra at /home/oscar/Descargas/julia-1.5.3-linux-x86_64/julia-1.5.3/share/julia/stdlib/v1.5/LinearAlgebra/src/hessenberg.jl:101\n",
       "[121] +(A::LinearAlgebra.UpperTriangular, B::LinearAlgebra.Bidiagonal) in LinearAlgebra at /home/oscar/Descargas/julia-1.5.3-linux-x86_64/julia-1.5.3/share/julia/stdlib/v1.5/LinearAlgebra/src/special.jl:86\n",
       "[122] +(A::LinearAlgebra.Bidiagonal, B::LinearAlgebra.UpperTriangular) in LinearAlgebra at /home/oscar/Descargas/julia-1.5.3-linux-x86_64/julia-1.5.3/share/julia/stdlib/v1.5/LinearAlgebra/src/special.jl:94\n",
       "[123] +(A::LinearAlgebra.UnitUpperTriangular, B::LinearAlgebra.Bidiagonal) in LinearAlgebra at /home/oscar/Descargas/julia-1.5.3-linux-x86_64/julia-1.5.3/share/julia/stdlib/v1.5/LinearAlgebra/src/special.jl:86\n",
       "[124] +(A::LinearAlgebra.Bidiagonal, B::LinearAlgebra.UnitUpperTriangular) in LinearAlgebra at /home/oscar/Descargas/julia-1.5.3-linux-x86_64/julia-1.5.3/share/julia/stdlib/v1.5/LinearAlgebra/src/special.jl:94\n",
       "[125] +(A::LinearAlgebra.LowerTriangular, B::LinearAlgebra.Bidiagonal) in LinearAlgebra at /home/oscar/Descargas/julia-1.5.3-linux-x86_64/julia-1.5.3/share/julia/stdlib/v1.5/LinearAlgebra/src/special.jl:86\n",
       "[126] +(A::LinearAlgebra.Bidiagonal, B::LinearAlgebra.LowerTriangular) in LinearAlgebra at /home/oscar/Descargas/julia-1.5.3-linux-x86_64/julia-1.5.3/share/julia/stdlib/v1.5/LinearAlgebra/src/special.jl:94\n",
       "[127] +(A::LinearAlgebra.UnitLowerTriangular, B::LinearAlgebra.Bidiagonal) in LinearAlgebra at /home/oscar/Descargas/julia-1.5.3-linux-x86_64/julia-1.5.3/share/julia/stdlib/v1.5/LinearAlgebra/src/special.jl:86\n",
       "[128] +(A::LinearAlgebra.Bidiagonal, B::LinearAlgebra.UnitLowerTriangular) in LinearAlgebra at /home/oscar/Descargas/julia-1.5.3-linux-x86_64/julia-1.5.3/share/julia/stdlib/v1.5/LinearAlgebra/src/special.jl:94\n",
       "[129] +(A::LinearAlgebra.Bidiagonal, B::LinearAlgebra.Diagonal) in LinearAlgebra at /home/oscar/Descargas/julia-1.5.3-linux-x86_64/julia-1.5.3/share/julia/stdlib/v1.5/LinearAlgebra/src/special.jl:115\n",
       "[130] +(A::LinearAlgebra.Diagonal, B::LinearAlgebra.Bidiagonal) in LinearAlgebra at /home/oscar/Descargas/julia-1.5.3-linux-x86_64/julia-1.5.3/share/julia/stdlib/v1.5/LinearAlgebra/src/special.jl:125\n",
       "[131] +(A::LinearAlgebra.Diagonal, B::LinearAlgebra.SymTridiagonal) in LinearAlgebra at /home/oscar/Descargas/julia-1.5.3-linux-x86_64/julia-1.5.3/share/julia/stdlib/v1.5/LinearAlgebra/src/special.jl:135\n",
       "[132] +(A::LinearAlgebra.SymTridiagonal, B::LinearAlgebra.Diagonal) in LinearAlgebra at /home/oscar/Descargas/julia-1.5.3-linux-x86_64/julia-1.5.3/share/julia/stdlib/v1.5/LinearAlgebra/src/special.jl:145\n",
       "[133] +(A::LinearAlgebra.Tridiagonal, B::LinearAlgebra.SymTridiagonal) in LinearAlgebra at /home/oscar/Descargas/julia-1.5.3-linux-x86_64/julia-1.5.3/share/julia/stdlib/v1.5/LinearAlgebra/src/special.jl:157\n",
       "[134] +(A::LinearAlgebra.SymTridiagonal, B::LinearAlgebra.Tridiagonal) in LinearAlgebra at /home/oscar/Descargas/julia-1.5.3-linux-x86_64/julia-1.5.3/share/julia/stdlib/v1.5/LinearAlgebra/src/special.jl:159\n",
       "[135] +(A::LinearAlgebra.Diagonal, B::LinearAlgebra.Tridiagonal) in LinearAlgebra at /home/oscar/Descargas/julia-1.5.3-linux-x86_64/julia-1.5.3/share/julia/stdlib/v1.5/LinearAlgebra/src/special.jl:163\n",
       "[136] +(A::LinearAlgebra.Tridiagonal, B::LinearAlgebra.Diagonal) in LinearAlgebra at /home/oscar/Descargas/julia-1.5.3-linux-x86_64/julia-1.5.3/share/julia/stdlib/v1.5/LinearAlgebra/src/special.jl:173\n",
       "[137] +(A::LinearAlgebra.Bidiagonal, B::LinearAlgebra.Tridiagonal) in LinearAlgebra at /home/oscar/Descargas/julia-1.5.3-linux-x86_64/julia-1.5.3/share/julia/stdlib/v1.5/LinearAlgebra/src/special.jl:183\n",
       "[138] +(A::LinearAlgebra.Tridiagonal, B::LinearAlgebra.Bidiagonal) in LinearAlgebra at /home/oscar/Descargas/julia-1.5.3-linux-x86_64/julia-1.5.3/share/julia/stdlib/v1.5/LinearAlgebra/src/special.jl:193\n",
       "[139] +(A::LinearAlgebra.Bidiagonal, B::LinearAlgebra.SymTridiagonal) in LinearAlgebra at /home/oscar/Descargas/julia-1.5.3-linux-x86_64/julia-1.5.3/share/julia/stdlib/v1.5/LinearAlgebra/src/special.jl:203\n",
       "[140] +(A::LinearAlgebra.SymTridiagonal, B::LinearAlgebra.Bidiagonal) in LinearAlgebra at /home/oscar/Descargas/julia-1.5.3-linux-x86_64/julia-1.5.3/share/julia/stdlib/v1.5/LinearAlgebra/src/special.jl:213\n",
       "[141] +(A::SparseArrays.AbstractSparseMatrixCSC, B::SparseArrays.AbstractSparseMatrixCSC) in SparseArrays at /home/oscar/Descargas/julia-1.5.3-linux-x86_64/julia-1.5.3/share/julia/stdlib/v1.5/SparseArrays/src/sparsematrix.jl:1679\n",
       "[142] +(A::SparseArrays.AbstractSparseMatrixCSC, B::Array) in SparseArrays at /home/oscar/Descargas/julia-1.5.3-linux-x86_64/julia-1.5.3/share/julia/stdlib/v1.5/SparseArrays/src/sparsematrix.jl:1682\n",
       "[143] +(x::SparseArrays.AbstractSparseArray{Tv,Ti,1} where Ti where Tv, y::SparseArrays.AbstractSparseArray{Tv,Ti,1} where Ti where Tv) in SparseArrays at /home/oscar/Descargas/julia-1.5.3-linux-x86_64/julia-1.5.3/share/julia/stdlib/v1.5/SparseArrays/src/sparsevector.jl:1302\n",
       "[144] +(A::SparseArrays.AbstractSparseArray{Tv,Ti,2} where Ti where Tv, B::LinearAlgebra.Hermitian{var\"#s828\",var\"#s827\"} where var\"#s827\"<:(SparseArrays.AbstractSparseArray{Tv,Ti,2} where Ti where Tv) where var\"#s828\") in SparseArrays at /home/oscar/Descargas/julia-1.5.3-linux-x86_64/julia-1.5.3/share/julia/stdlib/v1.5/SparseArrays/src/linalg.jl:12\n",
       "[145] +(A::LinearAlgebra.Hermitian{var\"#s826\",var\"#s825\"} where var\"#s825\"<:(SparseArrays.AbstractSparseArray{Tv,Ti,2} where Ti where Tv) where var\"#s826\", B::SparseArrays.AbstractSparseArray{Tv,Ti,2} where Ti where Tv) in SparseArrays at /home/oscar/Descargas/julia-1.5.3-linux-x86_64/julia-1.5.3/share/julia/stdlib/v1.5/SparseArrays/src/linalg.jl:13\n",
       "[146] +(A::SparseArrays.AbstractSparseArray{Tv,Ti,2} where Ti where Tv, B::LinearAlgebra.Hermitian) in SparseArrays at /home/oscar/Descargas/julia-1.5.3-linux-x86_64/julia-1.5.3/share/julia/stdlib/v1.5/SparseArrays/src/linalg.jl:15\n",
       "[147] +(A::LinearAlgebra.Hermitian, B::SparseArrays.AbstractSparseArray{Tv,Ti,2} where Ti where Tv) in SparseArrays at /home/oscar/Descargas/julia-1.5.3-linux-x86_64/julia-1.5.3/share/julia/stdlib/v1.5/SparseArrays/src/linalg.jl:16\n",
       "[148] +(A::SparseArrays.AbstractSparseArray{Tv,Ti,2} where Ti where Tv, B::LinearAlgebra.Symmetric{var\"#s828\",var\"#s827\"} where var\"#s827\"<:(SparseArrays.AbstractSparseArray{Tv,Ti,2} where Ti where Tv) where var\"#s828\") in SparseArrays at /home/oscar/Descargas/julia-1.5.3-linux-x86_64/julia-1.5.3/share/julia/stdlib/v1.5/SparseArrays/src/linalg.jl:12\n",
       "[149] +(A::LinearAlgebra.Symmetric{var\"#s826\",var\"#s825\"} where var\"#s825\"<:(SparseArrays.AbstractSparseArray{Tv,Ti,2} where Ti where Tv) where var\"#s826\", B::SparseArrays.AbstractSparseArray{Tv,Ti,2} where Ti where Tv) in SparseArrays at /home/oscar/Descargas/julia-1.5.3-linux-x86_64/julia-1.5.3/share/julia/stdlib/v1.5/SparseArrays/src/linalg.jl:13\n",
       "[150] +(A::SparseArrays.AbstractSparseArray{Tv,Ti,2} where Ti where Tv, B::LinearAlgebra.Symmetric) in SparseArrays at /home/oscar/Descargas/julia-1.5.3-linux-x86_64/julia-1.5.3/share/julia/stdlib/v1.5/SparseArrays/src/linalg.jl:15\n",
       "[151] +(A::LinearAlgebra.Symmetric, B::SparseArrays.AbstractSparseArray{Tv,Ti,2} where Ti where Tv) in SparseArrays at /home/oscar/Descargas/julia-1.5.3-linux-x86_64/julia-1.5.3/share/julia/stdlib/v1.5/SparseArrays/src/linalg.jl:16\n",
       "[152] +(A::LinearAlgebra.Symmetric{var\"#s828\",var\"#s827\"} where var\"#s827\"<:(SparseArrays.AbstractSparseArray{Tv,Ti,2} where Ti where Tv) where var\"#s828\", B::LinearAlgebra.Hermitian{var\"#s826\",var\"#s825\"} where var\"#s825\"<:(SparseArrays.AbstractSparseArray{Tv,Ti,2} where Ti where Tv) where var\"#s826\") in SparseArrays at /home/oscar/Descargas/julia-1.5.3-linux-x86_64/julia-1.5.3/share/julia/stdlib/v1.5/SparseArrays/src/linalg.jl:21\n",
       "[153] +(A::LinearAlgebra.Hermitian{var\"#s824\",var\"#s823\"} where var\"#s823\"<:(SparseArrays.AbstractSparseArray{Tv,Ti,2} where Ti where Tv) where var\"#s824\", B::LinearAlgebra.Symmetric{var\"#s822\",var\"#s821\"} where var\"#s821\"<:(SparseArrays.AbstractSparseArray{Tv,Ti,2} where Ti where Tv) where var\"#s822\") in SparseArrays at /home/oscar/Descargas/julia-1.5.3-linux-x86_64/julia-1.5.3/share/julia/stdlib/v1.5/SparseArrays/src/linalg.jl:22\n",
       "[154] +(x::AbstractArray{var\"#s91\",N} where N where var\"#s91\"<:Number) in Base at abstractarraymath.jl:97\n",
       "[155] +(A::AbstractArray, B::AbstractArray) in Base at arraymath.jl:37\n",
       "[156] +(x::T, y::Integer) where T<:AbstractChar in Base at char.jl:223\n",
       "[157] +(index1::CartesianIndex{N}, index2::CartesianIndex{N}) where N in Base.IteratorsMD at multidimensional.jl:113\n",
       "[158] +(::Number, ::Missing) in Base at missing.jl:116\n",
       "[159] +(x::P, y::P) where P<:Dates.Period in Dates at /home/oscar/Descargas/julia-1.5.3-linux-x86_64/julia-1.5.3/share/julia/stdlib/v1.5/Dates/src/periods.jl:78\n",
       "[160] +(x::Dates.Period, y::Dates.Period) in Dates at /home/oscar/Descargas/julia-1.5.3-linux-x86_64/julia-1.5.3/share/julia/stdlib/v1.5/Dates/src/periods.jl:344\n",
       "[161] +(y::Dates.Period, x::Dates.CompoundPeriod) in Dates at /home/oscar/Descargas/julia-1.5.3-linux-x86_64/julia-1.5.3/share/julia/stdlib/v1.5/Dates/src/periods.jl:346\n",
       "[162] +(x::Union{Dates.CompoundPeriod, Dates.Period}) in Dates at /home/oscar/Descargas/julia-1.5.3-linux-x86_64/julia-1.5.3/share/julia/stdlib/v1.5/Dates/src/periods.jl:355\n",
       "[163] +(x::Dates.TimeType) in Dates at /home/oscar/Descargas/julia-1.5.3-linux-x86_64/julia-1.5.3/share/julia/stdlib/v1.5/Dates/src/arithmetic.jl:8\n",
       "[164] +(a::Dates.TimeType, b::Dates.Period, c::Dates.Period) in Dates at /home/oscar/Descargas/julia-1.5.3-linux-x86_64/julia-1.5.3/share/julia/stdlib/v1.5/Dates/src/periods.jl:366\n",
       "[165] +(a::Dates.TimeType, b::Dates.Period, c::Dates.Period, d::Dates.Period...) in Dates at /home/oscar/Descargas/julia-1.5.3-linux-x86_64/julia-1.5.3/share/julia/stdlib/v1.5/Dates/src/periods.jl:367\n",
       "[166] +(x::Dates.TimeType, y::Dates.CompoundPeriod) in Dates at /home/oscar/Descargas/julia-1.5.3-linux-x86_64/julia-1.5.3/share/julia/stdlib/v1.5/Dates/src/periods.jl:369\n",
       "[167] +(x::Dates.Instant) in Dates at /home/oscar/Descargas/julia-1.5.3-linux-x86_64/julia-1.5.3/share/julia/stdlib/v1.5/Dates/src/arithmetic.jl:4\n",
       "[168] +(y::Dates.Period, x::Dates.TimeType) in Dates at /home/oscar/Descargas/julia-1.5.3-linux-x86_64/julia-1.5.3/share/julia/stdlib/v1.5/Dates/src/arithmetic.jl:80\n",
       "[169] +(x::Dates.Period, r::AbstractRange{var\"#s828\"} where var\"#s828\"<:Dates.TimeType) in Dates at /home/oscar/Descargas/julia-1.5.3-linux-x86_64/julia-1.5.3/share/julia/stdlib/v1.5/Dates/src/ranges.jl:58\n",
       "[170] +(x::AbstractArray{var\"#s828\",N} where N where var\"#s828\"<:Dates.TimeType, y::Union{Dates.CompoundPeriod, Dates.Period}) in Dates at /home/oscar/Descargas/julia-1.5.3-linux-x86_64/julia-1.5.3/share/julia/stdlib/v1.5/Dates/src/deprecated.jl:6\n",
       "[171] +(y::Union{Dates.CompoundPeriod, Dates.Period}, x::AbstractArray{var\"#s828\",N} where N where var\"#s828\"<:Dates.TimeType) in Dates at /home/oscar/Descargas/julia-1.5.3-linux-x86_64/julia-1.5.3/share/julia/stdlib/v1.5/Dates/src/deprecated.jl:14\n",
       "[172] +(y::Dates.TimeType, x::StridedArray{var\"#s828\", N} where N where var\"#s828\"<:Union{Dates.CompoundPeriod, Dates.Period}) in Dates at /home/oscar/Descargas/julia-1.5.3-linux-x86_64/julia-1.5.3/share/julia/stdlib/v1.5/Dates/src/deprecated.jl:18\n",
       "[173] +(J::LinearAlgebra.UniformScaling, x::Number) in LinearAlgebra at /home/oscar/Descargas/julia-1.5.3-linux-x86_64/julia-1.5.3/share/julia/stdlib/v1.5/LinearAlgebra/src/uniformscaling.jl:111\n",
       "[174] +(x::Number, J::LinearAlgebra.UniformScaling) in LinearAlgebra at /home/oscar/Descargas/julia-1.5.3-linux-x86_64/julia-1.5.3/share/julia/stdlib/v1.5/LinearAlgebra/src/uniformscaling.jl:112\n",
       "[175] +(J1::LinearAlgebra.UniformScaling, J2::LinearAlgebra.UniformScaling) in LinearAlgebra at /home/oscar/Descargas/julia-1.5.3-linux-x86_64/julia-1.5.3/share/julia/stdlib/v1.5/LinearAlgebra/src/uniformscaling.jl:116\n",
       "[176] +(J::LinearAlgebra.UniformScaling, B::BitArray{2}) in LinearAlgebra at /home/oscar/Descargas/julia-1.5.3-linux-x86_64/julia-1.5.3/share/julia/stdlib/v1.5/LinearAlgebra/src/uniformscaling.jl:118\n",
       "[177] +(A::LinearAlgebra.UniformScaling, B::LinearAlgebra.Tridiagonal{var\"#s828\",V} where V<:AbstractArray{var\"#s828\",1} where var\"#s828\"<:Number) in LinearAlgebra at /home/oscar/Descargas/julia-1.5.3-linux-x86_64/julia-1.5.3/share/julia/stdlib/v1.5/LinearAlgebra/src/special.jl:245\n",
       "[178] +(A::LinearAlgebra.UniformScaling, B::LinearAlgebra.SymTridiagonal{var\"#s828\",V} where V<:AbstractArray{var\"#s828\",1} where var\"#s828\"<:Number) in LinearAlgebra at /home/oscar/Descargas/julia-1.5.3-linux-x86_64/julia-1.5.3/share/julia/stdlib/v1.5/LinearAlgebra/src/special.jl:250\n",
       "[179] +(A::LinearAlgebra.UniformScaling, B::LinearAlgebra.Bidiagonal{var\"#s828\",V} where V<:AbstractArray{var\"#s828\",1} where var\"#s828\"<:Number) in LinearAlgebra at /home/oscar/Descargas/julia-1.5.3-linux-x86_64/julia-1.5.3/share/julia/stdlib/v1.5/LinearAlgebra/src/special.jl:255\n",
       "[180] +(A::LinearAlgebra.UniformScaling, B::LinearAlgebra.Diagonal{var\"#s828\",V} where V<:AbstractArray{var\"#s828\",1} where var\"#s828\"<:Number) in LinearAlgebra at /home/oscar/Descargas/julia-1.5.3-linux-x86_64/julia-1.5.3/share/julia/stdlib/v1.5/LinearAlgebra/src/special.jl:260\n",
       "[181] +(J::LinearAlgebra.UniformScaling, A::AbstractArray{T,2} where T) in LinearAlgebra at /home/oscar/Descargas/julia-1.5.3-linux-x86_64/julia-1.5.3/share/julia/stdlib/v1.5/LinearAlgebra/src/uniformscaling.jl:119\n",
       "[182] +(F::LinearAlgebra.Hessenberg, J::LinearAlgebra.UniformScaling) in LinearAlgebra at /home/oscar/Descargas/julia-1.5.3-linux-x86_64/julia-1.5.3/share/julia/stdlib/v1.5/LinearAlgebra/src/hessenberg.jl:559\n",
       "[183] +(J::LinearAlgebra.UniformScaling, F::LinearAlgebra.Hessenberg) in LinearAlgebra at /home/oscar/Descargas/julia-1.5.3-linux-x86_64/julia-1.5.3/share/julia/stdlib/v1.5/LinearAlgebra/src/hessenberg.jl:560\n",
       "[184] +(a, b, c, xs...) in Base at operators.jl:538"
      ]
     },
     "execution_count": 80,
     "metadata": {},
     "output_type": "execute_result"
    }
   ],
   "source": [
    "methods(+)"
   ]
  },
  {
   "cell_type": "markdown",
   "metadata": {},
   "source": [
    "Este es el comienzo de lo que se llamaremos **despacho múltiple**. Estamos definiendo una versión o método de esta función la cual acepta argumentos de diferentes tipos, en este caso hay ocho combinaciones diferentes de tipos que podemos usar."
   ]
  },
  {
   "cell_type": "code",
   "execution_count": 81,
   "metadata": {},
   "outputs": [
    {
     "data": {
      "text/plain": [
       "3486784401//1099511627776"
      ]
     },
     "execution_count": 81,
     "metadata": {},
     "output_type": "execute_result"
    }
   ],
   "source": [
    "(3//4)^20"
   ]
  },
  {
   "cell_type": "code",
   "execution_count": 82,
   "metadata": {},
   "outputs": [
    {
     "ename": "LoadError",
     "evalue": "OverflowError: 4294967296 * 4294967296 overflowed for type Int64",
     "output_type": "error",
     "traceback": [
      "OverflowError: 4294967296 * 4294967296 overflowed for type Int64",
      "",
      "Stacktrace:",
      " [1] throw_overflowerr_binaryop(::Symbol, ::Int64, ::Int64) at ./checked.jl:154",
      " [2] checked_mul at ./checked.jl:288 [inlined]",
      " [3] *(::Rational{Int64}, ::Rational{Int64}) at ./rational.jl:310",
      " [4] power_by_squaring(::Rational{Int64}, ::Int64) at ./intfuncs.jl:261",
      " [5] ^ at ./rational.jl:452 [inlined]",
      " [6] macro expansion at ./none:0 [inlined]",
      " [7] literal_pow(::typeof(^), ::Rational{Int64}, ::Val{40}) at ./none:0",
      " [8] top-level scope at In[82]:1",
      " [9] include_string(::Function, ::Module, ::String, ::String) at ./loading.jl:1091"
     ]
    }
   ],
   "source": [
    "(3//4)^40"
   ]
  },
  {
   "cell_type": "code",
   "execution_count": 83,
   "metadata": {},
   "outputs": [
    {
     "data": {
      "text/plain": [
       "12157665459056928801//1208925819614629174706176"
      ]
     },
     "execution_count": 83,
     "metadata": {},
     "output_type": "execute_result"
    }
   ],
   "source": [
    "(big(3)//4)^40"
   ]
  },
  {
   "cell_type": "code",
   "execution_count": 84,
   "metadata": {},
   "outputs": [
    {
     "data": {
      "text/plain": [
       "Rational{BigInt}"
      ]
     },
     "execution_count": 84,
     "metadata": {},
     "output_type": "execute_result"
    }
   ],
   "source": [
    "typeof(ans)"
   ]
  },
  {
   "cell_type": "markdown",
   "metadata": {},
   "source": [
    "### Arreglos: equivalen a las listas de Python y a los arreglos de `numpy` "
   ]
  },
  {
   "cell_type": "code",
   "execution_count": 85,
   "metadata": {},
   "outputs": [
    {
     "data": {
      "text/plain": [
       "3-element Array{Int64,1}:\n",
       " 3\n",
       " 4\n",
       " 5"
      ]
     },
     "execution_count": 85,
     "metadata": {},
     "output_type": "execute_result"
    }
   ],
   "source": [
    "l = [3, 4, 5]"
   ]
  },
  {
   "cell_type": "code",
   "execution_count": 86,
   "metadata": {},
   "outputs": [
    {
     "data": {
      "text/plain": [
       "5-element Array{Int64,1}:\n",
       " 1\n",
       " 2\n",
       " 3\n",
       " 4\n",
       " 5"
      ]
     },
     "execution_count": 86,
     "metadata": {},
     "output_type": "execute_result"
    }
   ],
   "source": [
    "x = [1,2,3,4,5]"
   ]
  },
  {
   "cell_type": "code",
   "execution_count": 87,
   "metadata": {},
   "outputs": [
    {
     "data": {
      "text/plain": [
       "1×5 Array{Int64,2}:\n",
       " 1  2  3  4  5"
      ]
     },
     "execution_count": 87,
     "metadata": {},
     "output_type": "execute_result"
    }
   ],
   "source": [
    "y = [1 2 3 4 5]"
   ]
  },
  {
   "cell_type": "code",
   "execution_count": 88,
   "metadata": {
    "scrolled": true
   },
   "outputs": [
    {
     "data": {
      "text/plain": [
       "5×5 Array{Int64,2}:\n",
       " 1   2   3   4   5\n",
       " 2   4   6   8  10\n",
       " 3   6   9  12  15\n",
       " 4   8  12  16  20\n",
       " 5  10  15  20  25"
      ]
     },
     "execution_count": 88,
     "metadata": {},
     "output_type": "execute_result"
    }
   ],
   "source": [
    "A = [x 2x 3x 4x 5x]"
   ]
  },
  {
   "cell_type": "code",
   "execution_count": 89,
   "metadata": {},
   "outputs": [
    {
     "data": {
      "text/plain": [
       "1×25 Array{Int64,2}:\n",
       " 1  2  3  4  5  2  4  6  8  10  3  6  …  4  8  12  16  20  5  10  15  20  25"
      ]
     },
     "execution_count": 89,
     "metadata": {},
     "output_type": "execute_result"
    }
   ],
   "source": [
    "B = [y 2y 3y 4y 5y]"
   ]
  },
  {
   "cell_type": "code",
   "execution_count": 91,
   "metadata": {},
   "outputs": [
    {
     "data": {
      "text/plain": [
       "Array{Int64,2}"
      ]
     },
     "execution_count": 91,
     "metadata": {},
     "output_type": "execute_result"
    }
   ],
   "source": [
    "typeof(y)"
   ]
  },
  {
   "cell_type": "code",
   "execution_count": 92,
   "metadata": {},
   "outputs": [
    {
     "data": {
      "text/plain": [
       "3-element Array{Float64,1}:\n",
       " 3.0\n",
       " 4.0\n",
       " 7.5"
      ]
     },
     "execution_count": 92,
     "metadata": {},
     "output_type": "execute_result"
    }
   ],
   "source": [
    "l = [3, 4, 7.5] # promoting to float"
   ]
  },
  {
   "cell_type": "code",
   "execution_count": 94,
   "metadata": {},
   "outputs": [
    {
     "data": {
      "text/plain": [
       "2-element Array{Any,1}:\n",
       " 3.0\n",
       "  \"hello\""
      ]
     },
     "execution_count": 94,
     "metadata": {},
     "output_type": "execute_result"
    }
   ],
   "source": [
    "l = [3., \"hello\"]"
   ]
  },
  {
   "cell_type": "code",
   "execution_count": 95,
   "metadata": {},
   "outputs": [
    {
     "data": {
      "text/plain": [
       "'a': ASCII/Unicode U+0061 (category Ll: Letter, lowercase)"
      ]
     },
     "execution_count": 95,
     "metadata": {},
     "output_type": "execute_result"
    }
   ],
   "source": [
    "caracter = 'a'"
   ]
  },
  {
   "cell_type": "code",
   "execution_count": 96,
   "metadata": {},
   "outputs": [
    {
     "data": {
      "text/plain": [
       "\"dasñhdfsdAÑHF\""
      ]
     },
     "execution_count": 96,
     "metadata": {},
     "output_type": "execute_result"
    }
   ],
   "source": [
    "string = \"dasñhdfsdAÑHF\""
   ]
  },
  {
   "cell_type": "code",
   "execution_count": 99,
   "metadata": {},
   "outputs": [
    {
     "data": {
      "text/plain": [
       "'a': ASCII/Unicode U+0061 (category Ll: Letter, lowercase)"
      ]
     },
     "execution_count": 99,
     "metadata": {},
     "output_type": "execute_result"
    }
   ],
   "source": [
    "que = 'a'"
   ]
  },
  {
   "cell_type": "code",
   "execution_count": 101,
   "metadata": {},
   "outputs": [
    {
     "data": {
      "text/plain": [
       "2-element Array{Any,1}:\n",
       " 3.0\n",
       "  'A': ASCII/Unicode U+0041 (category Lu: Letter, uppercase)"
      ]
     },
     "execution_count": 101,
     "metadata": {},
     "output_type": "execute_result"
    }
   ],
   "source": [
    "l = [3.,'A']"
   ]
  },
  {
   "cell_type": "code",
   "execution_count": 106,
   "metadata": {},
   "outputs": [
    {
     "data": {
      "text/plain": [
       "Array{Any,1}"
      ]
     },
     "execution_count": 106,
     "metadata": {},
     "output_type": "execute_result"
    }
   ],
   "source": [
    "l = [3., 4, \"hello\", [3, 4]]\n",
    "typeof(l)"
   ]
  },
  {
   "cell_type": "code",
   "execution_count": 110,
   "metadata": {},
   "outputs": [
    {
     "data": {
      "text/plain": [
       "1:2:9999"
      ]
     },
     "execution_count": 110,
     "metadata": {},
     "output_type": "execute_result"
    }
   ],
   "source": [
    "1:2:10000"
   ]
  },
  {
   "cell_type": "code",
   "execution_count": 111,
   "metadata": {},
   "outputs": [
    {
     "data": {
      "text/plain": [
       "500-element Array{Int64,1}:\n",
       "   1\n",
       "   3\n",
       "   5\n",
       "   7\n",
       "   9\n",
       "  11\n",
       "  13\n",
       "  15\n",
       "  17\n",
       "  19\n",
       "  21\n",
       "  23\n",
       "  25\n",
       "   ⋮\n",
       " 977\n",
       " 979\n",
       " 981\n",
       " 983\n",
       " 985\n",
       " 987\n",
       " 989\n",
       " 991\n",
       " 993\n",
       " 995\n",
       " 997\n",
       " 999"
      ]
     },
     "execution_count": 111,
     "metadata": {},
     "output_type": "execute_result"
    }
   ],
   "source": [
    "collect(1:2:1000)"
   ]
  },
  {
   "cell_type": "markdown",
   "metadata": {},
   "source": [
    "Otra variable bastante común y útil son las listas. Estas se escriben dentro de corchetes []. Dentro puede haber cualquier tipo de variable, incluido listas. Cada elemento de la lista puede ir separado por un espacio o por una coma. Si lo que separa cada elemento de la lista es un espacio se interpreta como una lista horizontal (renglón), si lo que separa son comas (o ;), se interpreta como una lista vertical (columna). Por ejemplo: "
   ]
  },
  {
   "cell_type": "markdown",
   "metadata": {},
   "source": [
    "### Indexado\n",
    "Los índices de los arreglos de Julia comienzan en 1, a diferencia de Python (inician en 0)."
   ]
  },
  {
   "cell_type": "code",
   "execution_count": 123,
   "metadata": {},
   "outputs": [
    {
     "data": {
      "text/plain": [
       "5-element Array{Any,1}:\n",
       " 3\n",
       " 4\n",
       "  \"hello\"\n",
       " 5\n",
       " 7"
      ]
     },
     "execution_count": 123,
     "metadata": {},
     "output_type": "execute_result"
    }
   ],
   "source": [
    "l = [3, 4, \"hello\", 5, 7]"
   ]
  },
  {
   "cell_type": "code",
   "execution_count": 116,
   "metadata": {},
   "outputs": [
    {
     "data": {
      "text/plain": [
       "3"
      ]
     },
     "execution_count": 116,
     "metadata": {},
     "output_type": "execute_result"
    }
   ],
   "source": [
    "l[1] "
   ]
  },
  {
   "cell_type": "code",
   "execution_count": 118,
   "metadata": {},
   "outputs": [
    {
     "data": {
      "text/plain": [
       "3-element Array{Any,1}:\n",
       " 3\n",
       " 4\n",
       "  \"hello\""
      ]
     },
     "execution_count": 118,
     "metadata": {},
     "output_type": "execute_result"
    }
   ],
   "source": [
    "l[1:3]"
   ]
  },
  {
   "cell_type": "code",
   "execution_count": 124,
   "metadata": {},
   "outputs": [
    {
     "data": {
      "text/plain": [
       "5"
      ]
     },
     "execution_count": 124,
     "metadata": {},
     "output_type": "execute_result"
    }
   ],
   "source": [
    "length(l)"
   ]
  },
  {
   "cell_type": "code",
   "execution_count": 121,
   "metadata": {},
   "outputs": [
    {
     "data": {
      "text/plain": [
       "2-element Array{Any,1}:\n",
       " 4\n",
       "  \"hello\""
      ]
     },
     "execution_count": 121,
     "metadata": {},
     "output_type": "execute_result"
    }
   ],
   "source": [
    "l[2:end] # use 'end' explicitly"
   ]
  },
  {
   "cell_type": "code",
   "execution_count": 126,
   "metadata": {},
   "outputs": [
    {
     "data": {
      "text/plain": [
       "3"
      ]
     },
     "execution_count": 126,
     "metadata": {},
     "output_type": "execute_result"
    }
   ],
   "source": [
    "l[1]"
   ]
  },
  {
   "cell_type": "code",
   "execution_count": 132,
   "metadata": {},
   "outputs": [
    {
     "data": {
      "text/plain": [
       "2-element Array{Any,1}:\n",
       " 3\n",
       "  \"hello\""
      ]
     },
     "execution_count": 132,
     "metadata": {},
     "output_type": "execute_result"
    }
   ],
   "source": [
    "a = [l[i] for i in [1,3]]"
   ]
  },
  {
   "cell_type": "markdown",
   "metadata": {},
   "source": [
    "Los arreglos de Julia, como las listas de Python (aunque diferentes a los arreglos de `numpy`) son dinámicos. Sin embargo, la sintaxis es un poco diferente a la de Python; para agregar un elemento al final de un arreglo, se requiere escribir:"
   ]
  },
  {
   "cell_type": "markdown",
   "metadata": {},
   "source": [
    "Julia `Arrays`, like Python lists, but unlike `numpy` arrays, are dynamic. However, the syntax is rather different from Python -- to add an element at hte end of the list, we write:"
   ]
  },
  {
   "cell_type": "code",
   "execution_count": null,
   "metadata": {},
   "outputs": [],
   "source": [
    "l = [3, 4, 5]"
   ]
  },
  {
   "cell_type": "code",
   "execution_count": null,
   "metadata": {},
   "outputs": [],
   "source": [
    "l = [3, 4, 5]\n",
    "push!(l,7)"
   ]
  },
  {
   "cell_type": "code",
   "execution_count": null,
   "metadata": {},
   "outputs": [],
   "source": [
    "l"
   ]
  },
  {
   "cell_type": "code",
   "execution_count": null,
   "metadata": {},
   "outputs": [],
   "source": [
    "l = [3, 4, 5]\n",
    "l + l"
   ]
  },
  {
   "cell_type": "markdown",
   "metadata": {},
   "source": [
    "Los `arrays` de Julia son objetos, sin embargo, a diferencia de Python, no tienen métodos implementados. La función `push()` más el signo de admiración `!` denota una convención en Julia que significa que esta función modificará a su argumento. En el ejemplo previo, el objeto `l` se modifica al incluir al final del arreglo el valor `7` "
   ]
  },
  {
   "cell_type": "code",
   "execution_count": null,
   "metadata": {},
   "outputs": [],
   "source": [
    "push!"
   ]
  },
  {
   "cell_type": "code",
   "execution_count": null,
   "metadata": {},
   "outputs": [],
   "source": [
    "methods(push!)"
   ]
  },
  {
   "cell_type": "markdown",
   "metadata": {},
   "source": [
    "Dando click al link, podemos enlazarnos al repositorio en github donde está el código del método"
   ]
  },
  {
   "cell_type": "code",
   "execution_count": null,
   "metadata": {},
   "outputs": [],
   "source": [
    "append!(l, [10, 11, 12])"
   ]
  },
  {
   "cell_type": "code",
   "execution_count": null,
   "metadata": {},
   "outputs": [],
   "source": [
    "?append!"
   ]
  },
  {
   "cell_type": "code",
   "execution_count": null,
   "metadata": {},
   "outputs": [],
   "source": [
    "push!(l, [10, 11, 12])"
   ]
  },
  {
   "cell_type": "code",
   "execution_count": null,
   "metadata": {},
   "outputs": [],
   "source": [
    "a = [1.1, 2.2, 3.3]\n",
    "b = [4.4, 5.5, 6.6]"
   ]
  },
  {
   "cell_type": "code",
   "execution_count": null,
   "metadata": {},
   "outputs": [],
   "source": [
    "a + b"
   ]
  },
  {
   "cell_type": "code",
   "execution_count": null,
   "metadata": {},
   "outputs": [],
   "source": [
    "3.5 * a"
   ]
  },
  {
   "cell_type": "markdown",
   "metadata": {},
   "source": [
    "Sin embargo, los operadores, en general, no operan _elemento a elemento_ (como sucedería en `numpy`):"
   ]
  },
  {
   "cell_type": "code",
   "execution_count": null,
   "metadata": {},
   "outputs": [],
   "source": [
    "a * b"
   ]
  },
  {
   "cell_type": "markdown",
   "metadata": {},
   "source": [
    "No obstante, las operaciones _elemento a elemento_ pueden hacerse tipo sintaxis de _Matlab_ anteponiendo el símbolo `.` al operador (a esto se le llama _boradcasting_):"
   ]
  },
  {
   "cell_type": "code",
   "execution_count": null,
   "metadata": {},
   "outputs": [],
   "source": [
    "a.*b"
   ]
  },
  {
   "cell_type": "code",
   "execution_count": null,
   "metadata": {},
   "outputs": [],
   "source": [
    "### El paquete LinearAlgebra"
   ]
  },
  {
   "cell_type": "markdown",
   "metadata": {},
   "source": [
    "Julia provee diversas operaciones muy útiles sobre vectores predefinidos, sin necesidad de importarlas. A partir de la versión 1.0 algunas funciones cambiaron al paquete `LinearAlgebra`"
   ]
  },
  {
   "cell_type": "code",
   "execution_count": null,
   "metadata": {},
   "outputs": [],
   "source": [
    "#Pkg.add(\"PyPlot\")\n",
    "using LinearAlgebra"
   ]
  },
  {
   "cell_type": "code",
   "execution_count": null,
   "metadata": {},
   "outputs": [],
   "source": [
    "dot(a,b)"
   ]
  },
  {
   "cell_type": "code",
   "execution_count": null,
   "metadata": {},
   "outputs": [],
   "source": [
    "a ⋅ b # \\cdot"
   ]
  },
  {
   "cell_type": "code",
   "execution_count": null,
   "metadata": {},
   "outputs": [],
   "source": [
    "cross(a,b)"
   ]
  },
  {
   "cell_type": "code",
   "execution_count": null,
   "metadata": {},
   "outputs": [],
   "source": [
    "a × b"
   ]
  },
  {
   "cell_type": "code",
   "execution_count": null,
   "metadata": {},
   "outputs": [],
   "source": [
    "?cross()"
   ]
  },
  {
   "cell_type": "code",
   "execution_count": null,
   "metadata": {},
   "outputs": [],
   "source": [
    "norm(a)"
   ]
  },
  {
   "cell_type": "code",
   "execution_count": null,
   "metadata": {},
   "outputs": [],
   "source": [
    "?norm()"
   ]
  },
  {
   "cell_type": "code",
   "execution_count": null,
   "metadata": {},
   "outputs": [],
   "source": [
    "a # column vector"
   ]
  },
  {
   "cell_type": "code",
   "execution_count": null,
   "metadata": {},
   "outputs": [],
   "source": [
    "transpose(a) # row vector"
   ]
  },
  {
   "cell_type": "code",
   "execution_count": null,
   "metadata": {},
   "outputs": [],
   "source": [
    "a' # row vector"
   ]
  },
  {
   "cell_type": "code",
   "execution_count": null,
   "metadata": {},
   "outputs": [],
   "source": [
    "a"
   ]
  },
  {
   "cell_type": "code",
   "execution_count": null,
   "metadata": {},
   "outputs": [],
   "source": [
    "M = [1 2 3 4] # spaces distribute as row"
   ]
  },
  {
   "cell_type": "code",
   "execution_count": null,
   "metadata": {},
   "outputs": [],
   "source": [
    "M = [1, 2, 3, 4] # the comma distribute as column"
   ]
  },
  {
   "cell_type": "code",
   "execution_count": null,
   "metadata": {},
   "outputs": [],
   "source": [
    "M = [[1, 2], [3, 4], [5,6]] # brackets works as array"
   ]
  },
  {
   "cell_type": "code",
   "execution_count": null,
   "metadata": {},
   "outputs": [],
   "source": [
    "M = reshape([1, 2, 3, 4], (2,2))"
   ]
  },
  {
   "cell_type": "code",
   "execution_count": null,
   "metadata": {},
   "outputs": [],
   "source": [
    "M = [[2, 1]; [3, 1]]"
   ]
  },
  {
   "cell_type": "code",
   "execution_count": null,
   "metadata": {},
   "outputs": [],
   "source": [
    " M = [1 2 ; 3 4]"
   ]
  },
  {
   "cell_type": "code",
   "execution_count": null,
   "metadata": {},
   "outputs": [],
   "source": [
    "M = [1:8;] # semicolon ; is important "
   ]
  },
  {
   "cell_type": "code",
   "execution_count": null,
   "metadata": {},
   "outputs": [],
   "source": [
    "M = [1:8] # semicolon ; is important "
   ]
  },
  {
   "cell_type": "code",
   "execution_count": null,
   "metadata": {},
   "outputs": [],
   "source": [
    "M = [1:8;10]"
   ]
  },
  {
   "cell_type": "code",
   "execution_count": null,
   "metadata": {},
   "outputs": [],
   "source": [
    "typeof([1:8;])"
   ]
  },
  {
   "cell_type": "code",
   "execution_count": null,
   "metadata": {},
   "outputs": [],
   "source": [
    "M = collect(1:8)"
   ]
  },
  {
   "cell_type": "code",
   "execution_count": null,
   "metadata": {},
   "outputs": [],
   "source": [
    "typeof(collect(1:8))"
   ]
  },
  {
   "cell_type": "code",
   "execution_count": null,
   "metadata": {},
   "outputs": [],
   "source": [
    "? collect()"
   ]
  },
  {
   "cell_type": "code",
   "execution_count": null,
   "metadata": {},
   "outputs": [],
   "source": [
    "M = reshape([1:8;], (2,2,2))"
   ]
  },
  {
   "cell_type": "code",
   "execution_count": null,
   "metadata": {},
   "outputs": [],
   "source": [
    "a, b"
   ]
  },
  {
   "cell_type": "code",
   "execution_count": null,
   "metadata": {},
   "outputs": [],
   "source": [
    "a ⋅ b # \\cdot + <TAB> dot product"
   ]
  },
  {
   "cell_type": "code",
   "execution_count": null,
   "metadata": {},
   "outputs": [],
   "source": [
    "a × b # \\times + <TAB> cross product"
   ]
  },
  {
   "cell_type": "markdown",
   "metadata": {},
   "source": [
    "### Control de flujo\n",
    "Las sentencias de control de flujo desecha la notación `:` y el indentado obligatorio (Python) y en su lugar agregan `end`. Los espacios en blanco o indentaciones no son significativas en Julia. Varios comandos en una sola línea pueden ser separados con `;`. Los bloques de código _deben_ terminar con `end`:"
   ]
  },
  {
   "cell_type": "code",
   "execution_count": null,
   "metadata": {},
   "outputs": [],
   "source": [
    "i = 0\n",
    "while i < 5\n",
    "    print(\"$i \\t\")\n",
    "    i += 1\n",
    "end"
   ]
  },
  {
   "cell_type": "code",
   "execution_count": null,
   "metadata": {},
   "outputs": [],
   "source": [
    "total = 0\n",
    "for i = (1:10)  # i in 1:10 is valid\n",
    "    total += i\n",
    "end\n",
    "println(\"Sum is $total\")"
   ]
  },
  {
   "cell_type": "markdown",
   "metadata": {},
   "source": [
    "Here, (1:10) is a range object which may be iterated over."
   ]
  },
  {
   "cell_type": "code",
   "execution_count": null,
   "metadata": {},
   "outputs": [],
   "source": [
    "typeof((1:10))"
   ]
  },
  {
   "cell_type": "code",
   "execution_count": null,
   "metadata": {},
   "outputs": [],
   "source": [
    "typeof(ans)"
   ]
  },
  {
   "cell_type": "code",
   "execution_count": null,
   "metadata": {},
   "outputs": [],
   "source": [
    "?dot"
   ]
  },
  {
   "cell_type": "markdown",
   "metadata": {},
   "source": [
    "---"
   ]
  },
  {
   "cell_type": "markdown",
   "metadata": {},
   "source": [
    "# Ejercicios"
   ]
  },
  {
   "cell_type": "markdown",
   "metadata": {},
   "source": [
    "Implementarla el método Babilonio para calcular la raíz cuadrada de un número entero positivo $y$, por medio de la iteración: $$ x_{n+1}= \\frac{1}{2}\\left( x_n + \\frac{y}{x_n} \\right)$$"
   ]
  },
  {
   "cell_type": "code",
   "execution_count": null,
   "metadata": {},
   "outputs": [],
   "source": []
  },
  {
   "cell_type": "markdown",
   "metadata": {},
   "source": [
    "1. Usando la ley de radiación del cuerpo negro y datos experimentales, se llega a que para una temperatura dada, el espectro de energía como función de la frecuencia de luz radiada sigue la siguiente ecuación.\n",
    "\n",
    "$$ \\frac{\\nu^3}{e^{\\nu/3} - 1} = U(\\nu) $$\n",
    "\n",
    " Se mide una energía $U(\\nu) = 5$, ¿a qué frecuencia corresponde?  \n",
    " \n",
    "Cómo se trata de una ecuación trasendental, es casi siempre necesario utilizar métodos numéricos. Si conoces el método de Newton Raphson, aplícalo."
   ]
  },
  {
   "cell_type": "markdown",
   "metadata": {},
   "source": [
    "**Si no lo sabes, puedes implementar el siguiente algoritmo, pero intenta hacerlo por tu cuenta ya que será más fácil familiarizarte con un lenguaje si enchufas las herramientas de éste, con tu conocimiento:**\n",
    "\n",
    "i) Haz una función en JULIA para calcular $U(\\nu)-5$.\n",
    "\n",
    "ii) Calcula la derivada (de forma analítica) de la función y haz una función en JULIA que calcule $\\frac{d U}{d\\nu}(\\nu)$. (Puedes usar wolfram alpha)\n",
    "\n",
    "iii) Haz una función ($f(m, x_0, y_0)$) que calcule la intersección de una recta ($y(x) = m(x-x_0)+y_0$), y el eje $x$. \n",
    "\n",
    "iv) Haz una adivinanza inicia de qué valor debe de tener $\\nu$. Tu adivinanza ($\\nu_0$) y $U(\\nu_0)-5$ serán $x_0$ y $y_0$. La pendiente será $m= \\frac{d U}{d\\nu}(\\nu_0)$. Una segunda buena adivinanza sería $\\nu_1 = f(m, \\nu_0, U(\\nu_0))$. \n",
    "\n",
    "v) Haz una función que calcule de forma recursiva (utilizando el ciclo while) el valor de $\\nu_i$ utilizando la idea del inciso anterior. Para hacer el ciclo, mide qué tan lejano de $U(\\nu) = 0$ está tu valor de $\\nu_i$ en cada paso. Si la distancia es menor que una cierta tolerancia (por ejemplo $\\Delta = 0.00001$), el ciclo se detiene. No olvides poner un contador al hacer pruebas. Finalmente, obten el valor de $\\nu$.\n",
    "\n",
    "Acabas de utilizar el método de Newton Rapshon para calcular el valor de $\\nu$!\n"
   ]
  },
  {
   "cell_type": "code",
   "execution_count": null,
   "metadata": {},
   "outputs": [],
   "source": []
  }
 ],
 "metadata": {
  "kernelspec": {
   "display_name": "Julia 1.5.3",
   "language": "julia",
   "name": "julia-1.5"
  },
  "language_info": {
   "file_extension": ".jl",
   "mimetype": "application/julia",
   "name": "julia",
   "version": "1.5.3"
  }
 },
 "nbformat": 4,
 "nbformat_minor": 2
}
