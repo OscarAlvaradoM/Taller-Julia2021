{
 "cells": [
  {
   "cell_type": "markdown",
   "metadata": {},
   "source": [
    "# Código eficiente"
   ]
  },
  {
   "cell_type": "markdown",
   "metadata": {},
   "source": [
    "## 1. Benchmarking"
   ]
  },
  {
   "cell_type": "markdown",
   "metadata": {},
   "source": [
    "Usaremos las siguientes herramientas:\n",
    "- @btime\n",
    "- @benchmark\n",
    "- BenchmarkTools.DEFAULT_PAREMETERS.samples\n",
    "- BenchmarkTools.DEFAULT_PARAMETERS.seconds"
   ]
  },
  {
   "cell_type": "code",
   "execution_count": null,
   "metadata": {},
   "outputs": [],
   "source": [
    "using BenchmarkTools\n",
    "using LinearAlgebra"
   ]
  },
  {
   "cell_type": "code",
   "execution_count": null,
   "metadata": {},
   "outputs": [],
   "source": [
    "A = rand(1000,1000)\n",
    "@btime norm(A)"
   ]
  },
  {
   "cell_type": "code",
   "execution_count": null,
   "metadata": {},
   "outputs": [],
   "source": [
    "function tiempo_funcion()\n",
    "    B = rand(1000, 1000)\n",
    "    @btime norm($B)\n",
    "end\n",
    "\n",
    "tiempo_funcion()"
   ]
  },
  {
   "cell_type": "code",
   "execution_count": null,
   "metadata": {},
   "outputs": [],
   "source": [
    "A = rand(10_000, 10_000)\n",
    "b = @benchmark norm(A)"
   ]
  },
  {
   "cell_type": "code",
   "execution_count": null,
   "metadata": {},
   "outputs": [],
   "source": [
    "b.times"
   ]
  },
  {
   "cell_type": "code",
   "execution_count": null,
   "metadata": {},
   "outputs": [],
   "source": [
    "b.times.*10^-9"
   ]
  },
  {
   "cell_type": "code",
   "execution_count": null,
   "metadata": {},
   "outputs": [],
   "source": [
    "b = @benchmark(norm($A), samples=10)"
   ]
  },
  {
   "cell_type": "code",
   "execution_count": null,
   "metadata": {},
   "outputs": [],
   "source": [
    "BenchmarkTools.DEFAULT_PARAMETERS.samples = 50"
   ]
  },
  {
   "cell_type": "code",
   "execution_count": null,
   "metadata": {},
   "outputs": [],
   "source": [
    "b = @benchmark norm($A)"
   ]
  },
  {
   "cell_type": "code",
   "execution_count": null,
   "metadata": {},
   "outputs": [],
   "source": [
    "BenchmarkTools.DEFAULT_PARAMETERS.seconds = 50"
   ]
  },
  {
   "cell_type": "code",
   "execution_count": null,
   "metadata": {},
   "outputs": [],
   "source": [
    "b = @benchmark norm($A)"
   ]
  },
  {
   "cell_type": "markdown",
   "metadata": {},
   "source": [
    "## 2. Evitar tipos de datos abstractos "
   ]
  },
  {
   "cell_type": "markdown",
   "metadata": {},
   "source": [
    "Usemos las funciones `supertype()` y `subtype()`"
   ]
  },
  {
   "cell_type": "code",
   "execution_count": null,
   "metadata": {},
   "outputs": [],
   "source": [
    "function registro_juegos_ganados(ngames)\n",
    "    games_won = []   # inicializa un arreglo\n",
    "    for i = 1:ngames\n",
    "        r = rand()\n",
    "        if r >= 0.5\n",
    "            push!(games_won, i)\n",
    "        end\n",
    "    end\n",
    "    return games_won\n",
    "end\n",
    "\n",
    "ntrials = 1000\n",
    "@btime registro_juegos_ganados(2)\n",
    "@btime registro_juegos_ganados(ntrials)"
   ]
  },
  {
   "cell_type": "code",
   "execution_count": null,
   "metadata": {},
   "outputs": [],
   "source": [
    "function registro_juegos_ganados_v2(ngames)\n",
    "    games_won = Int64[]   # inicializa un arreglo de tipo Int64\n",
    "    for i = 1:ngames\n",
    "        r = rand()\n",
    "        if r >= 0.5\n",
    "            push!(games_won, i)\n",
    "        end\n",
    "    end\n",
    "    return games_won\n",
    "end\n",
    "\n",
    "ntrials = 1000\n",
    "@btime registro_juegos_ganados_v2(2)\n",
    "@btime registro_juegos_ganados_v2(ntrials);"
   ]
  },
  {
   "cell_type": "code",
   "execution_count": null,
   "metadata": {},
   "outputs": [],
   "source": [
    "h = []\n",
    "g = Int64[]"
   ]
  },
  {
   "cell_type": "code",
   "execution_count": null,
   "metadata": {},
   "outputs": [],
   "source": [
    "@show typeof(h)"
   ]
  },
  {
   "cell_type": "code",
   "execution_count": null,
   "metadata": {},
   "outputs": [],
   "source": [
    "@show typeof(g)"
   ]
  },
  {
   "cell_type": "markdown",
   "metadata": {},
   "source": [
    "## 3. Evitar variables de ámbito global"
   ]
  },
  {
   "cell_type": "code",
   "execution_count": 6,
   "metadata": {},
   "outputs": [],
   "source": [
    "ntrials = 1000\n",
    "allgames = rand(ntrials)\n",
    "\n",
    "function registro_juegos_ganados_vglobal()\n",
    "    games_won = Int64[]\n",
    "    for (curi, curgame) in enumerate(allgames)\n",
    "        if curgame >= 0.5\n",
    "            push!(games_won, curi)\n",
    "        end\n",
    "    end\n",
    "    return games_won\n",
    "end\n",
    "\n",
    "\n",
    "registro_juegos_ganados_vglobal();\n",
    "registro_juegos_ganados_vglobal();"
   ]
  },
  {
   "cell_type": "code",
   "execution_count": 7,
   "metadata": {},
   "outputs": [
    {
     "name": "stdout",
     "output_type": "stream",
     "text": [
      "  120.114 μs (4499 allocations: 140.98 KiB)\n"
     ]
    }
   ],
   "source": [
    "@btime registro_juegos_ganados_vglobal();"
   ]
  },
  {
   "cell_type": "code",
   "execution_count": 9,
   "metadata": {},
   "outputs": [],
   "source": [
    "function registro_juegos_ganados_vlocal(ntrials)\n",
    "    allgames = rand(ntrials)\n",
    "    games_won = Int64[]\n",
    "    for (curi, curgame) in enumerate(allgames)\n",
    "        if curgame >= 0.5\n",
    "            push!(games_won, curi)\n",
    "        end\n",
    "    end\n",
    "    return games_won\n",
    "end\n",
    "\n",
    "\n",
    "registro_juegos_ganados_vlocal(ntrials);\n",
    "registro_juegos_ganados_vlocal(ntrials);"
   ]
  },
  {
   "cell_type": "code",
   "execution_count": 11,
   "metadata": {},
   "outputs": [
    {
     "name": "stdout",
     "output_type": "stream",
     "text": [
      "  10.443 μs (10 allocations: 16.27 KiB)\n"
     ]
    }
   ],
   "source": [
    "@btime registro_juegos_ganados_vlocal(ntrials);"
   ]
  },
  {
   "cell_type": "markdown",
   "metadata": {},
   "source": [
    "Si es indispensable utilizar variables en el ámbito global, se decrararán con `const`. Aquí `const` no significa que el valor de la variable declarada no cambia, si no se refiere a que el tipo de la variable permancerá constante.  "
   ]
  },
  {
   "cell_type": "code",
   "execution_count": 12,
   "metadata": {},
   "outputs": [
    {
     "name": "stdout",
     "output_type": "stream",
     "text": [
      "myglobalint = 2\n"
     ]
    },
    {
     "name": "stderr",
     "output_type": "stream",
     "text": [
      "WARNING: redefinition of constant myglobalint. This may fail, cause incorrect answers, or produce other errors.\n"
     ]
    },
    {
     "data": {
      "text/plain": [
       "2"
      ]
     },
     "execution_count": 12,
     "metadata": {},
     "output_type": "execute_result"
    }
   ],
   "source": [
    "const myglobalint = 1\n",
    "myglobalint = 2\n",
    "@show myglobalint"
   ]
  },
  {
   "cell_type": "code",
   "execution_count": 13,
   "metadata": {},
   "outputs": [
    {
     "ename": "LoadError",
     "evalue": "invalid redefinition of constant myglobalint",
     "output_type": "error",
     "traceback": [
      "invalid redefinition of constant myglobalint",
      "",
      "Stacktrace:",
      " [1] top-level scope at In[13]:1",
      " [2] include_string(::Function, ::Module, ::String, ::String) at ./loading.jl:1091"
     ]
    }
   ],
   "source": [
    "myglobalint = 1.5"
   ]
  },
  {
   "cell_type": "markdown",
   "metadata": {},
   "source": [
    "## 4. Prealojamiento de memoria"
   ]
  },
  {
   "cell_type": "markdown",
   "metadata": {},
   "source": [
    "En lugar de usar un vector de enteros que se inicializa vacío y añadirle elementos con la función `push!()`, es mejor crear un vector con una dimensión específica y se va agregando elemento a elemento en una posición determinada."
   ]
  },
  {
   "cell_type": "code",
   "execution_count": 14,
   "metadata": {},
   "outputs": [],
   "source": [
    "function record_games_won_v2(ngames)\n",
    "    games_won = Int64[]\n",
    "    for i = 1:ngames\n",
    "        r = rand()\n",
    "        if r >= 0.5\n",
    "            push!(games_won,i)\n",
    "        end\n",
    "    end\n",
    "    return games_won\n",
    "end\n",
    "\n",
    "ntrials = 1000\n",
    "record_games_won_v2(ntrials);"
   ]
  },
  {
   "cell_type": "code",
   "execution_count": 15,
   "metadata": {},
   "outputs": [
    {
     "name": "stdout",
     "output_type": "stream",
     "text": [
      "  16.221 μs (9 allocations: 8.33 KiB)\n"
     ]
    }
   ],
   "source": [
    "@btime record_games_won_v2(ntrials);"
   ]
  },
  {
   "cell_type": "code",
   "execution_count": 16,
   "metadata": {},
   "outputs": [],
   "source": [
    "function record_games_won_preallocate(ntrials)\n",
    "    allgames = rand(ntrials)\n",
    "    games_won = Vector{Int64}(undef,ntrials)\n",
    "    gi = 1\n",
    "    for (curi,curgame) in enumerate(allgames)\n",
    "        if curgame >= 0.5\n",
    "            games_won[gi] = curi\n",
    "            gi += 1\n",
    "        end\n",
    "    end\n",
    "    return games_won[1:gi-1]\n",
    "end\n",
    "\n",
    "ntrials = 1000\n",
    "record_games_won_preallocate(ntrials);"
   ]
  },
  {
   "cell_type": "code",
   "execution_count": 17,
   "metadata": {},
   "outputs": [
    {
     "name": "stdout",
     "output_type": "stream",
     "text": [
      "  6.702 μs (3 allocations: 19.69 KiB)\n"
     ]
    }
   ],
   "source": [
    "@btime record_games_won_preallocate(ntrials);"
   ]
  },
  {
   "cell_type": "markdown",
   "metadata": {},
   "source": [
    "## 5. Usar operaciones vectorizadas (Broadcasting)"
   ]
  },
  {
   "cell_type": "code",
   "execution_count": 21,
   "metadata": {},
   "outputs": [],
   "source": [
    "function record_games_won_preallocate(ntrials) \n",
    "    allgames = rand(ntrials)\n",
    "    games_won = findall(allgames.>= 0.5)\n",
    "    return games_won\n",
    "end\n",
    "\n",
    "ntrials = 1000;"
   ]
  },
  {
   "cell_type": "code",
   "execution_count": 22,
   "metadata": {},
   "outputs": [
    {
     "name": "stdout",
     "output_type": "stream",
     "text": [
      "  3.246 μs (5 allocations: 16.24 KiB)\n"
     ]
    }
   ],
   "source": [
    "record_games_won_preallocate(ntrials); \n",
    "@btime record_games_won_preallocate(ntrials); "
   ]
  },
  {
   "cell_type": "code",
   "execution_count": null,
   "metadata": {},
   "outputs": [],
   "source": [
    "?findall"
   ]
  },
  {
   "cell_type": "markdown",
   "metadata": {},
   "source": [
    "## 6. No es necesario vectorizar siempre las funciones"
   ]
  },
  {
   "cell_type": "code",
   "execution_count": 26,
   "metadata": {},
   "outputs": [],
   "source": [
    "function find_hypotenuse_vectorized(b,hi)\n",
    "    return sqrt.(b.^2 + hi.^2)\n",
    "end\n",
    "\n",
    "b = rand(ntrials)\n",
    "hi = rand(ntrials);"
   ]
  },
  {
   "cell_type": "code",
   "execution_count": 29,
   "metadata": {},
   "outputs": [
    {
     "name": "stdout",
     "output_type": "stream",
     "text": [
      "  4.603 μs (4 allocations: 31.75 KiB)\n",
      "  1.274 μs (1 allocation: 7.94 KiB)\n"
     ]
    }
   ],
   "source": [
    "@btime find_hypotenuse_vectorized($b,$hi);  # usa la funcion vectorizada\n",
    "@btime find_hypotenuse_vectorized.($b,$hi);  # vectoriza la llamada"
   ]
  },
  {
   "cell_type": "code",
   "execution_count": 30,
   "metadata": {},
   "outputs": [],
   "source": [
    "function find_hypotenuse_forloop(b,hi)\n",
    "    accum_vec = similar(b)  # preallocating memory\n",
    "    for i = 1:length(b)\n",
    "        accum_vec[i] = sqrt(b[i]^2 + hi[i]^2)\n",
    "    end\n",
    "    return accum_vec\n",
    "end\n",
    "\n",
    "b = rand(ntrials)\n",
    "hi = rand(ntrials);"
   ]
  },
  {
   "cell_type": "code",
   "execution_count": 32,
   "metadata": {},
   "outputs": [
    {
     "name": "stdout",
     "output_type": "stream",
     "text": [
      "  2.130 μs (1 allocation: 7.94 KiB)\n"
     ]
    }
   ],
   "source": [
    "@btime find_hypotenuse_forloop($b,$hi);  # usa una funcion convencional con prealojamiento de memoria"
   ]
  },
  {
   "cell_type": "markdown",
   "metadata": {},
   "source": [
    "Se recomienda utilizar la operación de _broadcasting_ vectorizando la llamada a las funciones que reciben como argumentos vectores."
   ]
  },
  {
   "cell_type": "markdown",
   "metadata": {},
   "source": [
    "## 7. Reutilizar la memoria"
   ]
  },
  {
   "cell_type": "code",
   "execution_count": 33,
   "metadata": {},
   "outputs": [],
   "source": [
    "function find_sum_of_sqrt_vectors(nvectors)\n",
    "    sumvector = Vector{Float64}(undef, nvectors)\n",
    "    v = sqrt.(1:nvectors)\n",
    "    for i = 1:nvectors\n",
    "        sumvector[i] = sum(v[1:i])\n",
    "    end\n",
    "    return sumvector\n",
    "end\n",
    "\n",
    "ntrials = 1000\n",
    "find_sum_of_sqrt_vectors(ntrials);"
   ]
  },
  {
   "cell_type": "code",
   "execution_count": 34,
   "metadata": {},
   "outputs": [
    {
     "name": "stdout",
     "output_type": "stream",
     "text": [
      "  546.477 μs (1002 allocations: 3.98 MiB)\n"
     ]
    }
   ],
   "source": [
    "@btime find_sum_of_sqrt_vectors(ntrials);"
   ]
  },
  {
   "cell_type": "code",
   "execution_count": 36,
   "metadata": {},
   "outputs": [],
   "source": [
    "function find_sum_of_sqrt_vectors_reusemem(nvectors)\n",
    "    sumvector = Vector{Float64}(undef, nvectors)\n",
    "    v = Vector{Float64}(undef, nvectors)\n",
    "    for i = 1:nvectors\n",
    "        v[1:i] .= sqrt.(1:i)\n",
    "        sumvector[i] = sum(v)\n",
    "        v .= 0\n",
    "    end\n",
    "    return sumvector\n",
    "end\n",
    "\n",
    "ntrials = 1000\n",
    "find_sum_of_sqrt_vectors_reusemem(ntrials);"
   ]
  },
  {
   "cell_type": "code",
   "execution_count": 37,
   "metadata": {},
   "outputs": [
    {
     "name": "stdout",
     "output_type": "stream",
     "text": [
      "  1.044 ms (2 allocations: 15.88 KiB)\n"
     ]
    }
   ],
   "source": [
    "@btime find_sum_of_sqrt_vectors_reusemem(ntrials);"
   ]
  },
  {
   "cell_type": "markdown",
   "metadata": {},
   "source": [
    "En la segunda función se reutiliza la memoria apartada (_preallocated_) en el vector `v` por lo que no se hace ningún solicitud de memoria extra."
   ]
  },
  {
   "cell_type": "markdown",
   "metadata": {},
   "source": [
    "## 9. Use `@view` cuando no se necesite una copia de datos"
   ]
  },
  {
   "cell_type": "code",
   "execution_count": 39,
   "metadata": {},
   "outputs": [],
   "source": [
    "using SparseArrays\n",
    "using LinearAlgebra\n",
    "using Random"
   ]
  },
  {
   "cell_type": "code",
   "execution_count": 49,
   "metadata": {},
   "outputs": [],
   "source": [
    "A = sprand(500, 500, 0.1)\n",
    "\n",
    "function set_sum(A, rowids, colids)\n",
    "    S = sum(A[rowids, colids])\n",
    "end\n",
    "\n",
    "set_sum(A, randperm(100), randperm(100));\n"
   ]
  },
  {
   "cell_type": "code",
   "execution_count": 50,
   "metadata": {},
   "outputs": [
    {
     "name": "stdout",
     "output_type": "stream",
     "text": [
      "  58.840 μs (17 allocations: 27.09 KiB)\n"
     ]
    }
   ],
   "source": [
    "@btime set_sum($A, randperm(100), randperm(100));"
   ]
  },
  {
   "cell_type": "code",
   "execution_count": 51,
   "metadata": {},
   "outputs": [],
   "source": [
    "function set_sum_view(A, rowids, colids)\n",
    "    S = sum(view(A, rowids, colids))\n",
    "end\n",
    "\n",
    "set_sum_view(A, randperm(100), randperm(100));"
   ]
  },
  {
   "cell_type": "code",
   "execution_count": 52,
   "metadata": {},
   "outputs": [
    {
     "name": "stdout",
     "output_type": "stream",
     "text": [
      "  265.419 μs (2 allocations: 1.75 KiB)\n"
     ]
    }
   ],
   "source": [
    "@btime set_sum_view($A, randperm(100), randperm(100));"
   ]
  },
  {
   "cell_type": "code",
   "execution_count": 54,
   "metadata": {},
   "outputs": [
    {
     "name": "stdout",
     "output_type": "stream",
     "text": [
      "  539.435 μs (1002 allocations: 3.98 MiB)\n"
     ]
    }
   ],
   "source": [
    "function find_sum_of_sqrt_vectors_copies(nvectors)\n",
    "    sumvector =  Vector{Float64}(undef, nvectors)\n",
    "    v = sqrt.(1:nvectors)\n",
    "    for i = 1:nvectors\n",
    "        sumvector[i] = sum(v[1:i])\n",
    "    end\n",
    "    return sumvector\n",
    "end\n",
    "\n",
    "ntrials = 1000\n",
    "@btime find_sum_of_sqrt_vectors_copies(ntrials);"
   ]
  },
  {
   "cell_type": "code",
   "execution_count": 55,
   "metadata": {},
   "outputs": [
    {
     "name": "stdout",
     "output_type": "stream",
     "text": [
      "  54.560 μs (2 allocations: 15.88 KiB)\n"
     ]
    }
   ],
   "source": [
    "function find_sum_of_sqrt_vectors_views(nvectors)\n",
    "    sumvector =  Vector{Float64}(undef, nvectors)\n",
    "    v = sqrt.(1:nvectors)\n",
    "    for i = 1:nvectors\n",
    "        sumvector[i] = sum(@view v[1:i])\n",
    "    end\n",
    "    return sumvector\n",
    "end\n",
    "\n",
    "ntrials = 1000\n",
    "@btime find_sum_of_sqrt_vectors_views(ntrials);\n"
   ]
  },
  {
   "cell_type": "markdown",
   "metadata": {},
   "source": [
    "El subarreglo provisto por `@view` solo \"observa\" los datos pero no hace copia ni referencia a ellos."
   ]
  },
  {
   "cell_type": "code",
   "execution_count": null,
   "metadata": {},
   "outputs": [],
   "source": []
  }
 ],
 "metadata": {
  "kernelspec": {
   "display_name": "Julia 1.5.3",
   "language": "julia",
   "name": "julia-1.5"
  },
  "language_info": {
   "file_extension": ".jl",
   "mimetype": "application/julia",
   "name": "julia",
   "version": "1.5.3"
  }
 },
 "nbformat": 4,
 "nbformat_minor": 4
}
