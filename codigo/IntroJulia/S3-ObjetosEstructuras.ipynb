{
 "cells": [
  {
   "cell_type": "markdown",
   "metadata": {},
   "source": [
    "# Objetos, estructuras y tipos de dato parametrizados"
   ]
  },
  {
   "cell_type": "markdown",
   "metadata": {},
   "source": [
    "La filosofía del paradigma de programación orientada objetos consiste en _encapsular_ datos (variables) y acciones (funciones) en una sola estructura de datos, esto intenta disminuir la complejidad del software por medio de la abstracción."
   ]
  },
  {
   "cell_type": "markdown",
   "metadata": {},
   "source": [
    "## Objetos"
   ]
  },
  {
   "cell_type": "markdown",
   "metadata": {},
   "source": [
    "Un objeto representa en una sola entidad un conjunto de características y funcionalidades. Uno de las principales acciones de los objetos consiste en que tengan la facultad de interactuar con objetos de la misma clase. Los objetos tienen propiedades y métodos."
   ]
  },
  {
   "cell_type": "markdown",
   "metadata": {},
   "source": [
    "<img src=\"attachment:claseobjeto.png\" width=\"500\">"
   ]
  },
  {
   "cell_type": "markdown",
   "metadata": {},
   "source": [
    "<img src=\"img/claseobjeto.png\" width=300 height=300 />"
   ]
  },
  {
   "cell_type": "markdown",
   "metadata": {},
   "source": [
    "### Clase"
   ]
  },
  {
   "cell_type": "markdown",
   "metadata": {},
   "source": [
    "Para implementar un objeto es necesario definir una **clase** de objeto que contendrá una función inicial de invocación automática, el **constructor**, variables y funciones para que accione el objeto.\n",
    "\n",
    "```python\n",
    "class Fraccion:\n",
    "    def __init__(self, xx, yy):  # constructor\n",
    "        self.num = xx\n",
    "        self.den = yy     # propiedades del objeto\n",
    "    \n",
    "    def mostrar(self):          # metodo\n",
    "        print(self.num + \"/\" + self.den)\n",
    "\n",
    "a = Fraccion(3,4)   # contruye una variable de tipo Fracccion\n",
    "\n",
    "a.mostrar()    # invoca el metodo mostrar() del objeto a\n",
    "\n",
    "```"
   ]
  },
  {
   "cell_type": "markdown",
   "metadata": {},
   "source": [
    "### Tipos de datos en Julia\n",
    "\n",
    "Sin embargo, el manejo de objetos no es del todo eficiente en términos de velocidad de ejecución, Julia privilegia la eficiencia sin sacrificar la abstracción. En Julia es posible crear **estructuras de datos definidas por el usuario** que empaquetan variables y de manera separada se diseñan métodos que operan sobe estas estructuras por medio del **despacho múltiple**.   "
   ]
  },
  {
   "cell_type": "markdown",
   "metadata": {},
   "source": [
    "<img src=\"img/juliaobjeto.png\" width=300 height=300 />"
   ]
  },
  {
   "cell_type": "markdown",
   "metadata": {},
   "source": [
    "### Definición del tipo de dato Vector2D"
   ]
  },
  {
   "cell_type": "markdown",
   "metadata": {},
   "source": [
    "Es muy común la necesidad de cierta forma de comportamiento que no es capturada por los tipos de datos básicos (_built-in types_), por tanto es necesario crear un nuevo tipo de dato con ciertas funacionalidades.\n",
    "\n",
    "Un tipo de **dato definido por el usuario** ([_composite types_](https://docs.julialang.org/en/v1/manual/types/#Composite-Types)) es una colección de datos que está fundamentado en los tipos de datos básicos (`Int, Float64, ... ` ) para los cuales está condificada su definición en Julia.\n",
    "\n",
    "estos tipos no tienen sus propios métodos (funciones internas del tipo).\n",
    "Los métodos son definidos de forma separada y están caracterizados por _todos_ y cada uno de los tipos de sus argumentos, esto es conocido como **despacho múltiple** (_multiple dispatch_). Nos referiremos a _despacho_ como el proceso de elegir la \"versión\" adecuada para que ejecute una función.\n",
    "\n",
    "Vamos a definir el tipo **Vector2D**\n"
   ]
  },
  {
   "cell_type": "markdown",
   "metadata": {},
   "source": [
    "Utilizamos `struct` para empaquetar en una estrucutra variables:"
   ]
  },
  {
   "cell_type": "code",
   "execution_count": null,
   "metadata": {},
   "outputs": [],
   "source": [
    "struct Vector2D\n",
    "    x\n",
    "    y\n",
    "end"
   ]
  },
  {
   "cell_type": "markdown",
   "metadata": {},
   "source": [
    "`struct`define por defecto un tipo de [dato inmutable](https://docs.julialang.org/en/v1/base/base/#struct).\n",
    "\n",
    "Una instancia de este tipo de dato no puede ser modificada después de su construcción. En cambio, usar un `mutable struct` declara un tipo cuyas instancias pueden ser modificadas. Tipos inmutables evitan manipular individualmente los elementos del objeto, tipos mutables permiten manipulaciones.\n",
    "\n",
    "Los datos almacenados en objetos inmutables están **colocados consecutivamente en memoria** -en lugar de estar en una caja- por lo que no hay punteros al objeto, esto permite mayor velocidad de acceso al objeto; el objeto está almacenado en una forma empaquetada eficiente."
   ]
  },
  {
   "cell_type": "code",
   "execution_count": null,
   "metadata": {},
   "outputs": [],
   "source": [
    "a = Vector2D(2,4)  # crea una varible del tipo struct"
   ]
  },
  {
   "cell_type": "code",
   "execution_count": null,
   "metadata": {},
   "outputs": [],
   "source": [
    "b = Vector2D(2.5, 5.5)"
   ]
  },
  {
   "cell_type": "code",
   "execution_count": null,
   "metadata": {},
   "outputs": [],
   "source": [
    "c = Vector2D(\"Hola\", \"Crayola\")"
   ]
  },
  {
   "cell_type": "markdown",
   "metadata": {},
   "source": [
    "Esta primera aproximación es funcional pero no se recomienda. La razón de peso, es que Julia **tendrá que inferir** en cada ejecución el tipo de dato de las variables de la estructura y esto se traducirá en un **código lento**."
   ]
  },
  {
   "cell_type": "markdown",
   "metadata": {},
   "source": [
    "Redifiniremos `Vector2D` y especificaremos el tipo de dato de sus componentes\n",
    "> Debido a que `struct` crea tipos de datos inmutables, será necesario reiniciar el kernel para redefinir la estructura"
   ]
  },
  {
   "cell_type": "code",
   "execution_count": null,
   "metadata": {},
   "outputs": [],
   "source": [
    "struct Vector2D\n",
    "    x::Float64\n",
    "    y::Float64\n",
    "end"
   ]
  },
  {
   "cell_type": "code",
   "execution_count": null,
   "metadata": {},
   "outputs": [],
   "source": [
    "typeof(Vector2D)"
   ]
  },
  {
   "cell_type": "code",
   "execution_count": null,
   "metadata": {},
   "outputs": [],
   "source": [
    "methods(Vector2D)"
   ]
  },
  {
   "cell_type": "code",
   "execution_count": null,
   "metadata": {},
   "outputs": [],
   "source": [
    "v = Vector2D(3,4)"
   ]
  },
  {
   "cell_type": "code",
   "execution_count": null,
   "metadata": {},
   "outputs": [],
   "source": [
    "typeof(v)"
   ]
  },
  {
   "cell_type": "code",
   "execution_count": null,
   "metadata": {},
   "outputs": [],
   "source": [
    "v1 = Vector2D(3., 2.)"
   ]
  },
  {
   "cell_type": "code",
   "execution_count": null,
   "metadata": {},
   "outputs": [],
   "source": [
    "v2 = Vector2D(3., 2)"
   ]
  },
  {
   "cell_type": "code",
   "execution_count": null,
   "metadata": {},
   "outputs": [],
   "source": [
    "v3 = Vector2D(3, 2.)"
   ]
  },
  {
   "cell_type": "code",
   "execution_count": null,
   "metadata": {},
   "outputs": [],
   "source": [
    "v4 = Vector2D(1 + 3im, 2 + im)"
   ]
  },
  {
   "cell_type": "markdown",
   "metadata": {},
   "source": [
    "Es posible obtener los campos de las instancias del tipo `Vector2D` escribiendo `instacia. + <TAB>` o bien por medio"
   ]
  },
  {
   "cell_type": "code",
   "execution_count": null,
   "metadata": {},
   "outputs": [],
   "source": [
    "fieldnames(Vector2D)"
   ]
  },
  {
   "cell_type": "code",
   "execution_count": null,
   "metadata": {},
   "outputs": [],
   "source": [
    "v.x"
   ]
  },
  {
   "cell_type": "code",
   "execution_count": null,
   "metadata": {},
   "outputs": [],
   "source": [
    "v.y"
   ]
  },
  {
   "cell_type": "markdown",
   "metadata": {},
   "source": [
    "También podemos acceder al campo con cualquiera de los siguientes funciones:"
   ]
  },
  {
   "cell_type": "code",
   "execution_count": null,
   "metadata": {},
   "outputs": [],
   "source": [
    "getfield(v, :x)   # por nombre"
   ]
  },
  {
   "cell_type": "code",
   "execution_count": null,
   "metadata": {},
   "outputs": [],
   "source": [
    "getfield(v, 1)   #por orden numérico"
   ]
  },
  {
   "cell_type": "markdown",
   "metadata": {},
   "source": [
    "La definición de un método que ofrezca funcionalidades a variables del tipo definido por el usuario se realiza de manera equivalente a la definición de una función genérica. Por ejemplo el operador `+` lo haremos operar sobre dos variables de tipo `Vector2D`:"
   ]
  },
  {
   "cell_type": "code",
   "execution_count": null,
   "metadata": {},
   "outputs": [],
   "source": [
    "import Base.+"
   ]
  },
  {
   "cell_type": "code",
   "execution_count": null,
   "metadata": {},
   "outputs": [],
   "source": [
    "methods(+)"
   ]
  },
  {
   "cell_type": "code",
   "execution_count": null,
   "metadata": {},
   "outputs": [],
   "source": [
    "+(v::Vector2D, w::Vector2D) = Vector2D(v.x + w.x, w.y + w.y)"
   ]
  },
  {
   "cell_type": "code",
   "execution_count": null,
   "metadata": {},
   "outputs": [],
   "source": [
    "v1 + v2"
   ]
  },
  {
   "cell_type": "code",
   "execution_count": null,
   "metadata": {},
   "outputs": [],
   "source": [
    "v1 + v2 + v3"
   ]
  },
  {
   "cell_type": "markdown",
   "metadata": {},
   "source": [
    "Julia identifica la nueva definición del método asociado al operador `+` para que funcione con objetos de tipo `Vector2D`, esto lo entenderemos como el despacho múltiple. \n",
    "\n",
    "Hemos creado un **objeto eficiente** -aún lo puede ser más-"
   ]
  },
  {
   "cell_type": "markdown",
   "metadata": {},
   "source": [
    "## Tipos de datos parametrizados"
   ]
  },
  {
   "cell_type": "markdown",
   "metadata": {},
   "source": [
    "Es intuitiva la necesidad de construir un tipo `Vector2D` que se ajuste solo a datos de tipo numérico y al mismo tiempo pueda contener: enteros, flotantes, racionales, flotantes grandes, etc. Para lograr esta funcionalidad es necesario **parametrizar** el tipo de dato creado.\n",
    "\n",
    "Para indicarle a Julia que un tipo de dato es **parametrizado** hacemos:"
   ]
  },
  {
   "cell_type": "code",
   "execution_count": 15,
   "metadata": {},
   "outputs": [],
   "source": [
    "struct Vector2D{T}\n",
    "    x::T\n",
    "    y::T\n",
    "end"
   ]
  },
  {
   "cell_type": "markdown",
   "metadata": {},
   "source": [
    "`T` es el parámetro que parametriza a la estructura `Vector2D`, hemos creado con es una especie de _template_.\n",
    "La parametrización es un concepto muy poderoso que se combina con el despacho múltiple. "
   ]
  },
  {
   "cell_type": "code",
   "execution_count": 16,
   "metadata": {},
   "outputs": [
    {
     "data": {
      "text/html": [
       "# 1 method for type constructor:<ul><li> (::<b>Type{Vector2D}</b>)(x::<b>T</b>, y::<b>T</b>)<i> where T</i> in Main at In[15]:2</li> </ul>"
      ],
      "text/plain": [
       "# 1 method for type constructor:\n",
       "[1] (::Type{Vector2D})(x::T, y::T) where T in Main at In[15]:2"
      ]
     },
     "execution_count": 16,
     "metadata": {},
     "output_type": "execute_result"
    }
   ],
   "source": [
    "methods(Vector2D)"
   ]
  },
  {
   "cell_type": "code",
   "execution_count": 17,
   "metadata": {},
   "outputs": [
    {
     "data": {
      "text/plain": [
       "Vector2D{Int64}(3, 5)"
      ]
     },
     "execution_count": 17,
     "metadata": {},
     "output_type": "execute_result"
    }
   ],
   "source": [
    "a = Vector2D(3,5)"
   ]
  },
  {
   "cell_type": "code",
   "execution_count": 18,
   "metadata": {},
   "outputs": [
    {
     "data": {
      "text/plain": [
       "Vector2D{Int64}(3, 5)"
      ]
     },
     "execution_count": 18,
     "metadata": {},
     "output_type": "execute_result"
    }
   ],
   "source": [
    "a"
   ]
  },
  {
   "cell_type": "code",
   "execution_count": 19,
   "metadata": {},
   "outputs": [
    {
     "data": {
      "text/plain": [
       "Vector2D{Float64}(3.0, 5.0)"
      ]
     },
     "execution_count": 19,
     "metadata": {},
     "output_type": "execute_result"
    }
   ],
   "source": [
    "b = Vector2D(3.0, 5.0)"
   ]
  },
  {
   "cell_type": "code",
   "execution_count": 20,
   "metadata": {},
   "outputs": [
    {
     "data": {
      "text/plain": [
       "Vector2D{Float64}(3.0, 5.0)"
      ]
     },
     "execution_count": 20,
     "metadata": {},
     "output_type": "execute_result"
    }
   ],
   "source": [
    "b"
   ]
  },
  {
   "cell_type": "code",
   "execution_count": 21,
   "metadata": {},
   "outputs": [
    {
     "data": {
      "text/plain": [
       "Vector2D{String}(\"Hola\", \"Crayola\")"
      ]
     },
     "execution_count": 21,
     "metadata": {},
     "output_type": "execute_result"
    }
   ],
   "source": [
    "Vector2D(\"Hola\", \"Crayola\")"
   ]
  },
  {
   "cell_type": "markdown",
   "metadata": {},
   "source": [
    "Sin embargo aún persiste el problema, se requiere forzar el tipo `Vector2D` para que sólo contenga valores numéricos. Es necesario entonces _acotar_ el tipo de dato que puede recibir el parámetro.\n",
    "\n",
    "Para lograr lo anterior, se indica que el parámetro `T` puede tomar cualquier subtipo que deriva de un supertipo abstracto numérico, por ejemplo:"
   ]
  },
  {
   "cell_type": "code",
   "execution_count": 5,
   "metadata": {},
   "outputs": [],
   "source": [
    "struct Vector2D{T <: Real}\n",
    "    x::T\n",
    "    y::T\n",
    "end"
   ]
  },
  {
   "cell_type": "markdown",
   "metadata": {},
   "source": [
    "La instrucción `T <: R` indica que el parametro `T` es un subtipo del tipo \"padre\" `Real`"
   ]
  },
  {
   "cell_type": "code",
   "execution_count": null,
   "metadata": {},
   "outputs": [],
   "source": [
    "a = Vector2D(\"Hola\", \"Crayola\")"
   ]
  },
  {
   "cell_type": "code",
   "execution_count": 3,
   "metadata": {},
   "outputs": [
    {
     "data": {
      "text/plain": [
       "Vector2D{Int64}(3, 5)"
      ]
     },
     "execution_count": 3,
     "metadata": {},
     "output_type": "execute_result"
    }
   ],
   "source": [
    "v = Vector2D(3, 5)"
   ]
  },
  {
   "cell_type": "code",
   "execution_count": 4,
   "metadata": {},
   "outputs": [
    {
     "data": {
      "text/plain": [
       "Vector2D{Float64}(3.4, 5.6)"
      ]
     },
     "execution_count": 4,
     "metadata": {},
     "output_type": "execute_result"
    }
   ],
   "source": [
    "w = Vector2D(3.4, 5.6)"
   ]
  },
  {
   "cell_type": "code",
   "execution_count": 5,
   "metadata": {},
   "outputs": [
    {
     "data": {
      "text/plain": [
       "Vector2D{Rational{Int64}}(3//4, 5//7)"
      ]
     },
     "execution_count": 5,
     "metadata": {},
     "output_type": "execute_result"
    }
   ],
   "source": [
    "z = Vector2D(3//4, 5//7)"
   ]
  },
  {
   "cell_type": "markdown",
   "metadata": {},
   "source": [
    "Ahora modifiquemos el método `show` de tal forma que funcione para el tipo de datos `Vector2D` parametrizado, será necesario entonces especificar la derivación del parámetro `T`. "
   ]
  },
  {
   "cell_type": "code",
   "execution_count": 6,
   "metadata": {},
   "outputs": [],
   "source": [
    "import Base.show"
   ]
  },
  {
   "cell_type": "code",
   "execution_count": 7,
   "metadata": {},
   "outputs": [
    {
     "data": {
      "text/plain": [
       "show (generic function with 242 methods)"
      ]
     },
     "execution_count": 7,
     "metadata": {},
     "output_type": "execute_result"
    }
   ],
   "source": [
    "show(io::IO, v::Vector2D{T}) where {T<:Real} = print(io, \"[$(v.x), $(v.y)]\")"
   ]
  },
  {
   "cell_type": "code",
   "execution_count": 8,
   "metadata": {},
   "outputs": [
    {
     "data": {
      "text/plain": [
       "[3//4, 5//7]"
      ]
     },
     "execution_count": 8,
     "metadata": {},
     "output_type": "execute_result"
    }
   ],
   "source": [
    "z"
   ]
  },
  {
   "cell_type": "code",
   "execution_count": 9,
   "metadata": {},
   "outputs": [
    {
     "data": {
      "text/plain": [
       "[3, 3]"
      ]
     },
     "execution_count": 9,
     "metadata": {},
     "output_type": "execute_result"
    }
   ],
   "source": [
    "mi_vector = Vector2D(3,3)"
   ]
  },
  {
   "cell_type": "markdown",
   "metadata": {},
   "source": [
    "### Constructores del tipo Vector2D"
   ]
  },
  {
   "cell_type": "code",
   "execution_count": 10,
   "metadata": {},
   "outputs": [
    {
     "ename": "LoadError",
     "evalue": "MethodError: no method matching Vector2D(::Int64)\nClosest candidates are:\n  Vector2D(::T, !Matched::T) where T<:Real at In[1]:2",
     "output_type": "error",
     "traceback": [
      "MethodError: no method matching Vector2D(::Int64)\nClosest candidates are:\n  Vector2D(::T, !Matched::T) where T<:Real at In[1]:2",
      "",
      "Stacktrace:",
      " [1] top-level scope at In[10]:1",
      " [2] include_string(::Function, ::Module, ::String, ::String) at ./loading.jl:1091"
     ]
    }
   ],
   "source": [
    "mi_vector = Vector2D(3)"
   ]
  },
  {
   "cell_type": "markdown",
   "metadata": {},
   "source": [
    "Ahora se desea crear una variable de tipo `Vector2D` de tal manera que solo reciba un argumento y lo asigne por defecto a ambas variables internas, necesitamos definir un **constructor externo**.\n",
    "\n",
    "Podemos crear un constructor que estará fuera de la definición del tipo (_outer constructors_), estos constructores proporcionan otra forma de construir una variable del tipo `struct`."
   ]
  },
  {
   "cell_type": "code",
   "execution_count": 11,
   "metadata": {},
   "outputs": [
    {
     "data": {
      "text/plain": [
       "Vector2D"
      ]
     },
     "execution_count": 11,
     "metadata": {},
     "output_type": "execute_result"
    }
   ],
   "source": [
    "Vector2D(x::T) where {T <: Real} = Vector2D(x,x)"
   ]
  },
  {
   "cell_type": "code",
   "execution_count": 12,
   "metadata": {},
   "outputs": [
    {
     "data": {
      "text/html": [
       "# 2 methods for type constructor:<ul><li> (::<b>Type{Vector2D}</b>)(x::<b>T</b>)<i> where T<:Real</i> in Main at In[11]:1</li> <li> (::<b>Type{Vector2D}</b>)(x::<b>T</b>, y::<b>T</b>)<i> where T<:Real</i> in Main at In[1]:2</li> </ul>"
      ],
      "text/plain": [
       "# 2 methods for type constructor:\n",
       "[1] (::Type{Vector2D})(x::T) where T<:Real in Main at In[11]:1\n",
       "[2] (::Type{Vector2D})(x::T, y::T) where T<:Real in Main at In[1]:2"
      ]
     },
     "execution_count": 12,
     "metadata": {},
     "output_type": "execute_result"
    }
   ],
   "source": [
    "methods(Vector2D)"
   ]
  },
  {
   "cell_type": "code",
   "execution_count": 13,
   "metadata": {},
   "outputs": [
    {
     "data": {
      "text/plain": [
       "[3, 3]"
      ]
     },
     "execution_count": 13,
     "metadata": {},
     "output_type": "execute_result"
    }
   ],
   "source": [
    "vv = Vector2D(3)"
   ]
  },
  {
   "cell_type": "code",
   "execution_count": 14,
   "metadata": {},
   "outputs": [
    {
     "data": {
      "text/plain": [
       "[4.0, 4.0]"
      ]
     },
     "execution_count": 14,
     "metadata": {},
     "output_type": "execute_result"
    }
   ],
   "source": [
    "zz = Vector2D(4.)"
   ]
  },
  {
   "cell_type": "markdown",
   "metadata": {},
   "source": [
    "Cabe hacer notar que hasta ahora no podemos crear varibles de tipo `Vector2D` que reciba argumentos con tipo de dato diferentes."
   ]
  },
  {
   "cell_type": "code",
   "execution_count": 15,
   "metadata": {},
   "outputs": [
    {
     "ename": "LoadError",
     "evalue": "MethodError: no method matching Vector2D(::Float64, ::Int64)\nClosest candidates are:\n  Vector2D(::T) where T<:Real at In[11]:1\n  Vector2D(::T, !Matched::T) where T<:Real at In[1]:2",
     "output_type": "error",
     "traceback": [
      "MethodError: no method matching Vector2D(::Float64, ::Int64)\nClosest candidates are:\n  Vector2D(::T) where T<:Real at In[11]:1\n  Vector2D(::T, !Matched::T) where T<:Real at In[1]:2",
      "",
      "Stacktrace:",
      " [1] top-level scope at In[15]:1",
      " [2] include_string(::Function, ::Module, ::String, ::String) at ./loading.jl:1091"
     ]
    }
   ],
   "source": [
    "ww = Vector2D(2., 4)"
   ]
  },
  {
   "cell_type": "markdown",
   "metadata": {},
   "source": [
    "Julia nos permite agregar parámetros adicionales a la estructura `Vector2D`"
   ]
  },
  {
   "cell_type": "code",
   "execution_count": null,
   "metadata": {},
   "outputs": [],
   "source": [
    "struct Vector2D{T1,T2 <: Real}\n",
    "    x::T1\n",
    "    y::T2\n",
    "end"
   ]
  },
  {
   "cell_type": "code",
   "execution_count": null,
   "metadata": {},
   "outputs": [],
   "source": [
    "a = Vector2D(3., 5)"
   ]
  },
  {
   "cell_type": "code",
   "execution_count": null,
   "metadata": {},
   "outputs": [],
   "source": [
    "b = Vector2D(3.5, 5.0)"
   ]
  },
  {
   "cell_type": "code",
   "execution_count": null,
   "metadata": {},
   "outputs": [],
   "source": [
    "c = Vector2D(3, 3)"
   ]
  },
  {
   "cell_type": "code",
   "execution_count": null,
   "metadata": {},
   "outputs": [],
   "source": []
  }
 ],
 "metadata": {
  "@webio": {
   "lastCommId": null,
   "lastKernelId": null
  },
  "kernelspec": {
   "display_name": "Julia 1.5.3",
   "language": "julia",
   "name": "julia-1.5"
  },
  "language_info": {
   "file_extension": ".jl",
   "mimetype": "application/julia",
   "name": "julia",
   "version": "1.5.3"
  }
 },
 "nbformat": 4,
 "nbformat_minor": 4
}
